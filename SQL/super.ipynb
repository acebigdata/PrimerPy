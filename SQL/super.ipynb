{
 "cells": [
  {
   "cell_type": "code",
   "execution_count": 107,
   "metadata": {
    "collapsed": false
   },
   "outputs": [
    {
     "name": "stdout",
     "output_type": "stream",
     "text": [
      "Database Connection Established\n",
      "Tables Deleted\n",
      "general_power Table Created\n",
      "identity Table Created\n",
      "power_table Table Created\n",
      "superhuman Table Created\n"
     ]
    }
   ],
   "source": [
    "import sqlite3\n",
    "import sys\n",
    "import numpy as np\n",
    "import pandas as pd\n",
    "\n",
    "## Create database of heros\n",
    "#db_conn = sqlite3.connect('super.db')\n",
    "super_conn = sqlite3.connect('super.db')\n",
    "print (\"Database Connection Established\")\n",
    "\n",
    "# Drop/Delete a table\n",
    "super_conn.execute(\"DROP TABLE IF EXISTS general_power\")\n",
    "super_conn.execute(\"DROP TABLE IF EXISTS identity\")\n",
    "super_conn.execute(\"DROP TABLE IF EXISTS power_table\")\n",
    "super_conn.execute(\"DROP TABLE IF EXISTS superhuman\")\n",
    "super_conn.commit()\n",
    "print(\"Tables Deleted\")\n",
    "\n",
    "# Create cursor to traverse the results of the database\n",
    "# my_cur = db_conn.cursor()\n",
    "super_cur = super_conn.cursor()\n",
    "\n",
    "## Create the general power table\n",
    "try:\n",
    "    super_conn.execute(\"CREATE TABLE general_power(ID INTEGER PRIMARY KEY AUTOINCREMENT NOT NULL, power_type TEXT, general_powerdesc TEXT)\")\n",
    "    super_conn.commit()\n",
    "    print(\"general_power Table Created\")\n",
    "\n",
    "except sqlite3.OperationalError:\n",
    "    print(\"general_power Table Couldn't Be Created\")\n",
    "\n",
    "# Create cursor to traverse the results of the database\n",
    "\n",
    "## Create identity table\n",
    "try:\n",
    "    super_conn.execute(\"CREATE TABLE identity(ID INTEGER PRIMARY KEY AUTOINCREMENT NOT NULL, secret_id TEXT, character TEXT)\")\n",
    "    super_conn.commit()\n",
    "    print(\"identity Table Created\")\n",
    "\n",
    "except sqlite3.OperationalError:\n",
    "    print(\"identity Table Couldn't Be Created\")\n",
    "\n",
    "# Create cursor to traverse the results of the database\n",
    "\n",
    "## Create power_table table\n",
    "try:\n",
    "    super_conn.execute(\"CREATE TABLE power_table(ID INTEGER PRIMARY KEY AUTOINCREMENT NOT NULL, power_type_id INTEGER, power_desc TEXT, foreign key (power_type_id) references general_power(ID))\")\n",
    "    super_conn.commit()\n",
    "    print(\"power_table Table Created\")\n",
    "\n",
    "except sqlite3.OperationalError:\n",
    "    print(\"power_table Table Couldn't Be Created\")\n",
    "\n",
    "# Create cursor to traverse the results of the database\n",
    "try:\n",
    "    super_conn.execute(\"CREATE TABLE superhuman(identity_id INTEGER, power_id_1 INTEGER, power_id_2 INTEGER, power_id_3 INTEGER, foreign key (identity_id) references identity(ID))\")\n",
    "    super_conn.commit()\n",
    "    print(\"superhuman Table Created\")\n",
    "\n",
    "except sqlite3.OperationalError:\n",
    "    print(\"superhuman Table Couldn't Be Created\")"
   ]
  },
  {
   "cell_type": "code",
   "execution_count": 164,
   "metadata": {
    "collapsed": true
   },
   "outputs": [],
   "source": [
    "##\n",
    "general_power_list = [[\"Power augmentation\", \"Ability to enhance or weaken the powers of others\"],\n",
    "\t\t\t[\"Power bestowal\", \"Ability to bestow powers or jump-start latent powers\"],\n",
    "\t\t\t[\"Power mimicry or absorption\", \"Ability to copy or absorb another''s powers or skills\"],\n",
    "\t\t\t[\"Power negation\", \"Ability to cancel the superpowers of others\"],\n",
    "\t\t\t[\"Power sensing\", \"Ability to sense or recognize superhuman powers\"],\n",
    "\t\t\t[\"Healing factor\", \"Ability to heal rapidly and with greater finality from any injury\"],\n",
    "\t\t\t[\"Acid generation\", \"Ability to generate acid, can be manifested through touch or as a spray\"],\n",
    "\t\t\t[\"Animal mimicry\", \"Ability to take on the abilities of certain animals\"],\n",
    "\t\t\t[\"Biological manipulation\", \"Ability to control all aspects of a living creature''s biological make-up\"],\n",
    "\t\t\t[\"Body part substitution\", \"Ability to replace one''s limbs or other body parts with those of another\"],\n",
    "\t\t\t[\"Bone manipulation\", \"Ability to manipulate the bones in one''s own body\"],\n",
    "\t\t\t[\"Duplication (physical)\", \"Ability to create physical duplicates of oneself\"],\n",
    "\t\t\t[\"Duplication (temporal)\", \"Ability to bring past and future versions of oneself back to the present\"],\n",
    "\t\t\t[\"Echolocation\", \"Ability to determine location of objects in the environment by use of reflected sound waves\"],\n",
    "\t\t\t[\"Firebreathing\", \"Ability generate gases from the body and exhale fire from the mouth\"],\n",
    "\t\t\t[\"Invisibility\", \"Ability to render the user unseen to the naked eye\"],\n",
    "\t\t\t[\"Invulnerability\", \"Ability to be immune to one or more forms of physical, mental, and spiritual damage and influence\"],\n",
    "\t\t\t[\"Kinetic absorption\", \"Ability to absorb forms of kinetic energy into oneself and utilize it in some way, such as by converting it into physical strength or using it to power energy blasts\"],\n",
    "\t\t\t[\"Superhuman longevity\", \"Ability to live longer than a normal human\"],\n",
    "\t\t\t[\"Matter Ingestion\", \"Ability to consume any sort of matter without any ill effects on the user\"],\n",
    "\t\t\t[\"Merging\", \"Ability to temporarily merge two or more beings into a single being, which results in a completely new and stronger being\"],\n",
    "\t\t\t[\"Pheromone manipulation\", \"Ability to generate and control pheromones which may have various effects\"],\n",
    "\t\t\t[\"Poison generation\", \"Ability to assault others with one or more varieties of toxins, with widely disparate effects\"],\n",
    "\t\t\t[\"Prehensile / animated hair\", \"Ability to animate and lengthen one''s hair\"],\n",
    "\t\t\t[\"Reactive adaptation / evolution\", \"Ability to develop a resistance or immunity to whatever they were injured by or exposed to\"],\n",
    "\t\t\t[\"Self-detonation / reformation\", \"Ability to explode one''s body mass and reform\"],\n",
    "\t\t\t[\"Sonic scream\", \"Ability to generate vocal sounds of a higher amplitude than a normal human\"],\n",
    "\t\t\t[\"Vortex breath\", \"Ability to inhale/exhale with superhumanly powerful strength\"],\n",
    "\t\t\t[\"Superhuman endurance\", \"Ability to have a higher resistance to one or more forms of damage before being injured as well as the ability to exert ones self in an activity indefinitely without becoming tired\"],\n",
    "\t\t\t[\"Superhuman agility\", \"Ability to react faster than a normal human and to possess greater flexibility and with higher/farther jumping capacity\"],\n",
    "\t\t\t[\"Superhuman senses\", \"Ability to see, smell, taste, feel and/or hear more than a normal Human\"],\n",
    "\t\t\t[\"Superhuman strength\", \"Ability to have a level of strength much higher than normally possible given their proportions\"],\n",
    "\t\t\t[\"Night vision\", \"The ability to see clearly in total darkness\"],\n",
    "\t\t\t[\"X-ray vision\", \"Ability to see through solid matter\"],\n",
    "\t\t\t[\"Heat vision\", \"Ability to burn objects and other individuals with one''s gaze\"],\n",
    "\t\t\t[\"Telescopic vision\", \"Ability to magnify and extend one''s vision to various levels\"],\n",
    "\t\t\t[\"Freeze vision\", \"Ability to freeze objects and other individuals with one''s gaze\"],\n",
    "\t\t\t[\"Wallcrawling\", \"Ability to adhere to solid surfaces, including walls and ceilings\"],\n",
    "\t\t\t[\"Waterbreathing\", \"Ability to respirate through water in lieu of a gaseous medium\"],\n",
    "\t\t\t[\"Ecological empathy\", \"The ability to sense the overall well-being and conditions of one''s immediate environment and natural setting stemming from a psychic sensitivity to nature\"],\n",
    "\t\t\t[\"Innate capability\", \"Ability to naturally have skills and/or knowledge typically earned through learning\"],\n",
    "\t\t\t[\"Omni-linguism\", \"Ability to understand any form of language\"],\n",
    "\t\t\t[\"Omniscience\", \"Ability to know anything and everything\"],\n",
    "\t\t\t[\"Superhuman mentality\", \"Ability to have intelligence quotient far above that of a genius level\"],\n",
    "\t\t\t[\"Superhuman tracking\", \"Ability to track an individual or object through supernatural means\"],\n",
    "\t\t\t[\"Astral projection\", \"This is the ability to separate and control one''s astral body\"],\n",
    "\t\t\t[\"Cross-dimensional awareness\", \"Ability to detect actions and events in other dimensions\"],\n",
    "\t\t\t[\"Empathy\", \"Ability to read or sense the emotions and/or control the emotions or feelings of others\"],\n",
    "\t\t\t[\"Mediumship\", \"Ability to see and communicate with the dead\"],\n",
    "\t\t\t[\"Precognition\", \"Ability to perceive the future\"],\n",
    "\t\t\t[\"Psychometry\", \"Ability to relate details about the past or future condition of an object or location\"],\n",
    "\t\t\t[\"Telepathy\", \"Ability to read the thoughts of, or to mentally communicate with others\"],\n",
    "\t\t\t[\"Technopathy\", \"Electrical/telekinetic manipulation that allows for a mental interface to manipulate technology\"],\n",
    "\t\t\t[\"Astral trapping\", \"Ability to cause an astral projection to stay on the astral plane\"],\n",
    "\t\t\t[\"Memory manipulation\", \"Ability to erase or enhance the memories of another\"],\n",
    "\t\t\t[\"Mind control\", \"The ability to alter the perceptions of others, and general ability to control the actions of others with the mind\"],\n",
    "\t\t\t[\"Possession\", \"Ability to take control and inhabit the body of an individual\"],\n",
    "\t\t\t[\"Psionic blast\", \"Ability to overload another''s mind causing pain, memory loss, lack of consciousness, vegetative state or death\"],\n",
    "\t\t\t[\"Psychic weapons\", \"Ability to create a weapon of psychic energy that can harm mentally and not physically\"],\n",
    "\t\t\t[\"Animation\", \"Ability to bring inanimate objects to life or to free an individual from petrification\"],\n",
    "\t\t\t[\"Darkness or shadow manipulation\", \"Ability to create or manipulate darkness\"],\n",
    "\t\t\t[\"Density control\", \"Ability to increase or decrease the natural density of an object and/or one''s self\"],\n",
    "\t\t\t[\"Disintegration\", \"Ability to disintegrate matter through touch or through beams\"],\n",
    "\t\t\t[\"Elemental transmutation\", \"The ability to alter chemical elements, changing them from one substance to another by rearranging the atomic structure\"],\n",
    "\t\t\t[\"Gravity manipulation\", \"Ability to manipulate or generate gravitons\"],\n",
    "\t\t\t[\"Immortality\", \"Ability to live forever. This may be complete immortality encompassing invulnerability, partial invulnerability to all but specific events \"],\n",
    "\t\t\t[\"Intangibility or phasing\", \"Ability to quantum tunnel through solid matter without harm\"],\n",
    "\t\t\t[\"Light manipulation\", \"Ability to control, generate or absorb light particles\"],\n",
    "\t\t\t[\"Magnetism manipulation\", \"Ability to control and/or generate magnetic fields\"],\n",
    "\t\t\t[\"Mass manipulation\", \"Ability to increase or decrease mass in an object\"],\n",
    "\t\t\t[\"Microwave manipulation\", \"The ability to convert ambient electromagnetic energy into microwaves and manipulate it into various effects such as heat, light, and radiation\"],\n",
    "\t\t\t[\"Molecular manipulation\", \"Ability to mentally manipulate the molecules of objects and/or one''s self on a molecular level\"],\n",
    "\t\t\t[\"Probability manipulation\", \"Ability to alter probability, causing unlikely things to happen, or likely things not to happen\"],\n",
    "\t\t\t[\"Radiation manipulation\", \"Ability to generate, manipulate or have immunity to toxic radiation\"],\n",
    "\t\t\t[\"Reality warping\", \"Ability to change or manipulate reality itself\"],\n",
    "\t\t\t[\"Resurrection\", \"Ability to come back to life after being killed as well as to bring others back to life\"],\n",
    "\t\t\t[\"Sound manipulation\", \"Ability to manipulate sound\"],\n",
    "\t\t\t[\"Time manipulation\", \"Ability to affect the flow of time by slowing, accelerating, reversing, or stopping it\"],\n",
    "\t\t\t[\"Air and wind manipulation\", \"Ability to control, generate, or absorb air or wind\"],\n",
    "\t\t\t[\"Animal control\", \"Ability to communicate with animals, birds and even aquatic creatures and get them to perform tasks on command\"],\n",
    "\t\t\t[\"Cold and ice manipulation\", \"Ability to reduce the kinetic energy of atoms and thus reduce temperature, can be used to control, generate, or absorb ice\"],\n",
    "\t\t\t[\"Earth manipulation\", \"Ability to control earth; sand, stone, rock, lava, dirt, or other minerals\"],\n",
    "\t\t\t[\"Electric manipulation\", \"Ability to control, generate or absorb electric fields\"],\n",
    "\t\t\t[\"Fire and heat manipulation\", \"Ability to control the kinetic energy of atoms to generate, control or absorb fire\"],\n",
    "\t\t\t[\"Plant manipulation\", \"Ability to create, control, manipulate or animate plant life\"],\n",
    "\t\t\t[\"Water and moisture manipulation\", \"Ability to control, generate or absorb water\"],\n",
    "\t\t\t[\"Weather manipulation\", \"Ability to control or mentally affect the weather\"],\n",
    "\t\t\t[\"Concussion beams\", \"Ability to generate or transform various forms of energy into a solid or concussive beam of energy\"],\n",
    "\t\t\t[\"Energy blasts\", \"Ability to expel various forms of energy from the body\"],\n",
    "\t\t\t[\"Energy constructs\", \"Ability to create complex shapes such as giant boxing gloves or cages or even functional machinery such as fire extinguishers or laser rifles out of solid energy\"],\n",
    "\t\t\t[\"Energy conversion\", \"Ability to absorb one form of energy and convert it into another form of energy\"],\n",
    "\t\t\t[\"Force field generation\", \"Ability to project powerful fields of manipulated energy\"],\n",
    "\t\t\t[\"Electrical transportation\", \"Ability to travel through electrical conduits such as power lines or telephone lines\"],\n",
    "\t\t\t[\"Omnipresence\", \"Ability to be present anywhere and everywhere simultaneously\"],\n",
    "\t\t\t[\"Dimensional travel\", \"Ability to travel between two or more dimensions, realities, realms\"],\n",
    "\t\t\t[\"Portal creation\", \"Ability to create wormholes, portation discs or other spatial portals for transport\"],\n",
    "\t\t\t[\"Summoning\", \"Ability to summon beings or objects for assistance\"],\n",
    "\t\t\t[\"Superhuman speed\", \"The ability to move, run, fly, react, think, and sense at speeds much faster than a normal human\"],\n",
    "\t\t\t[\"Teleportation\", \"Ability to move from one place to another without occupying the space in between\"],\n",
    "\t\t\t[\"Time travel\", \"Ability to travel back or forth through time\"],\n",
    "\t\t\t[\"Flight\", \"Ability to fly\"],\n",
    "\t\t\t[\"Animal morphing\", \"Ability to take on animal forms\"],\n",
    "\t\t\t[\"Elasticity\", \"Ability to stretch, deform, expand or contract one''s body into any form imaginable\"],\n",
    "\t\t\t[\"Inorganic\", \"Ability to transform completely into an inorganic substance while retaining organic properties\"],\n",
    "\t\t\t[\"Liquification\", \"Ability to turn partially or completely into a liquid\"],\n",
    "\t\t\t[\"Size shifting\", \"Ability to increase or decrease one''s size\"],\n",
    "\t\t\t[\"Sublimation\", \"Ability to transform into a gaseous, mist, or fog-like form\"],\n",
    "\t\t\t[\"Substance mimicry\", \"Ability to transform into any substance touched\"]];"
   ]
  },
  {
   "cell_type": "code",
   "execution_count": 165,
   "metadata": {
    "collapsed": false
   },
   "outputs": [
    {
     "data": {
      "text/plain": [
       "[['Acid generation',\n",
       "  'Ability to generate acid, can be manifested through touch or as a spray'],\n",
       " ['Air and wind manipulation',\n",
       "  'Ability to control, generate, or absorb air or wind'],\n",
       " ['Animal control',\n",
       "  'Ability to communicate with animals, birds and even aquatic creatures and get them to perform tasks on command'],\n",
       " ['Animal mimicry', 'Ability to take on the abilities of certain animals'],\n",
       " ['Animal morphing', 'Ability to take on animal forms'],\n",
       " ['Animation',\n",
       "  'Ability to bring inanimate objects to life or to free an individual from petrification'],\n",
       " ['Astral projection',\n",
       "  \"This is the ability to separate and control one''s astral body\"],\n",
       " ['Astral trapping',\n",
       "  'Ability to cause an astral projection to stay on the astral plane'],\n",
       " ['Biological manipulation',\n",
       "  \"Ability to control all aspects of a living creature''s biological make-up\"],\n",
       " ['Body part substitution',\n",
       "  \"Ability to replace one''s limbs or other body parts with those of another\"],\n",
       " ['Bone manipulation', \"Ability to manipulate the bones in one''s own body\"],\n",
       " ['Cold and ice manipulation',\n",
       "  'Ability to reduce the kinetic energy of atoms and thus reduce temperature, can be used to control, generate, or absorb ice'],\n",
       " ['Concussion beams',\n",
       "  'Ability to generate or transform various forms of energy into a solid or concussive beam of energy'],\n",
       " ['Cross-dimensional awareness',\n",
       "  'Ability to detect actions and events in other dimensions'],\n",
       " ['Darkness or shadow manipulation',\n",
       "  'Ability to create or manipulate darkness'],\n",
       " ['Density control',\n",
       "  \"Ability to increase or decrease the natural density of an object and/or one''s self\"],\n",
       " ['Dimensional travel',\n",
       "  'Ability to travel between two or more dimensions, realities, realms'],\n",
       " ['Disintegration',\n",
       "  'Ability to disintegrate matter through touch or through beams'],\n",
       " ['Duplication (physical)',\n",
       "  'Ability to create physical duplicates of oneself'],\n",
       " ['Duplication (temporal)',\n",
       "  'Ability to bring past and future versions of oneself back to the present'],\n",
       " ['Earth manipulation',\n",
       "  'Ability to control earth; sand, stone, rock, lava, dirt, or other minerals'],\n",
       " ['Echolocation',\n",
       "  'Ability to determine location of objects in the environment by use of reflected sound waves'],\n",
       " ['Ecological empathy',\n",
       "  \"The ability to sense the overall well-being and conditions of one''s immediate environment and natural setting stemming from a psychic sensitivity to nature\"],\n",
       " ['Elasticity',\n",
       "  \"Ability to stretch, deform, expand or contract one''s body into any form imaginable\"],\n",
       " ['Electric manipulation',\n",
       "  'Ability to control, generate or absorb electric fields'],\n",
       " ['Electrical transportation',\n",
       "  'Ability to travel through electrical conduits such as power lines or telephone lines'],\n",
       " ['Elemental transmutation',\n",
       "  'The ability to alter chemical elements, changing them from one substance to another by rearranging the atomic structure'],\n",
       " ['Empathy',\n",
       "  'Ability to read or sense the emotions and/or control the emotions or feelings of others'],\n",
       " ['Energy blasts', 'Ability to expel various forms of energy from the body'],\n",
       " ['Energy constructs',\n",
       "  'Ability to create complex shapes such as giant boxing gloves or cages or even functional machinery such as fire extinguishers or laser rifles out of solid energy'],\n",
       " ['Energy conversion',\n",
       "  'Ability to absorb one form of energy and convert it into another form of energy'],\n",
       " ['Fire and heat manipulation',\n",
       "  'Ability to control the kinetic energy of atoms to generate, control or absorb fire'],\n",
       " ['Firebreathing',\n",
       "  'Ability generate gases from the body and exhale fire from the mouth'],\n",
       " ['Flight', 'Ability to fly'],\n",
       " ['Force field generation',\n",
       "  'Ability to project powerful fields of manipulated energy'],\n",
       " ['Freeze vision',\n",
       "  \"Ability to freeze objects and other individuals with one''s gaze\"],\n",
       " ['Gravity manipulation', 'Ability to manipulate or generate gravitons'],\n",
       " ['Healing factor',\n",
       "  'Ability to heal rapidly and with greater finality from any injury'],\n",
       " ['Heat vision',\n",
       "  \"Ability to burn objects and other individuals with one''s gaze\"],\n",
       " ['Immortality',\n",
       "  'Ability to live forever. This may be complete immortality encompassing invulnerability, partial invulnerability to all but specific events '],\n",
       " ['Innate capability',\n",
       "  'Ability to naturally have skills and/or knowledge typically earned through learning'],\n",
       " ['Inorganic',\n",
       "  'Ability to transform completely into an inorganic substance while retaining organic properties'],\n",
       " ['Intangibility or phasing',\n",
       "  'Ability to quantum tunnel through solid matter without harm'],\n",
       " ['Invisibility', 'Ability to render the user unseen to the naked eye'],\n",
       " ['Invulnerability',\n",
       "  'Ability to be immune to one or more forms of physical, mental, and spiritual damage and influence'],\n",
       " ['Kinetic absorption',\n",
       "  'Ability to absorb forms of kinetic energy into oneself and utilize it in some way, such as by converting it into physical strength or using it to power energy blasts'],\n",
       " ['Light manipulation',\n",
       "  'Ability to control, generate or absorb light particles'],\n",
       " ['Liquification', 'Ability to turn partially or completely into a liquid'],\n",
       " ['Magnetism manipulation',\n",
       "  'Ability to control and/or generate magnetic fields'],\n",
       " ['Mass manipulation', 'Ability to increase or decrease mass in an object'],\n",
       " ['Matter Ingestion',\n",
       "  'Ability to consume any sort of matter without any ill effects on the user'],\n",
       " ['Mediumship', 'Ability to see and communicate with the dead'],\n",
       " ['Memory manipulation',\n",
       "  'Ability to erase or enhance the memories of another'],\n",
       " ['Merging',\n",
       "  'Ability to temporarily merge two or more beings into a single being, which results in a completely new and stronger being'],\n",
       " ['Microwave manipulation',\n",
       "  'The ability to convert ambient electromagnetic energy into microwaves and manipulate it into various effects such as heat, light, and radiation'],\n",
       " ['Mind control',\n",
       "  'The ability to alter the perceptions of others, and general ability to control the actions of others with the mind'],\n",
       " ['Molecular manipulation',\n",
       "  \"Ability to mentally manipulate the molecules of objects and/or one''s self on a molecular level\"],\n",
       " ['Night vision', 'The ability to see clearly in total darkness'],\n",
       " ['Omni-linguism', 'Ability to understand any form of language'],\n",
       " ['Omnipresence',\n",
       "  'Ability to be present anywhere and everywhere simultaneously'],\n",
       " ['Omniscience', 'Ability to know anything and everything'],\n",
       " ['Pheromone manipulation',\n",
       "  'Ability to generate and control pheromones which may have various effects'],\n",
       " ['Plant manipulation',\n",
       "  'Ability to create, control, manipulate or animate plant life'],\n",
       " ['Poison generation',\n",
       "  'Ability to assault others with one or more varieties of toxins, with widely disparate effects'],\n",
       " ['Portal creation',\n",
       "  'Ability to create wormholes, portation discs or other spatial portals for transport'],\n",
       " ['Possession',\n",
       "  'Ability to take control and inhabit the body of an individual'],\n",
       " ['Power augmentation', 'Ability to enhance or weaken the powers of others'],\n",
       " ['Power bestowal', 'Ability to bestow powers or jump-start latent powers'],\n",
       " ['Power mimicry or absorption',\n",
       "  \"Ability to copy or absorb another''s powers or skills\"],\n",
       " ['Power negation', 'Ability to cancel the superpowers of others'],\n",
       " ['Power sensing', 'Ability to sense or recognize superhuman powers'],\n",
       " ['Precognition', 'Ability to perceive the future'],\n",
       " ['Prehensile / animated hair', \"Ability to animate and lengthen one''s hair\"],\n",
       " ['Probability manipulation',\n",
       "  'Ability to alter probability, causing unlikely things to happen, or likely things not to happen'],\n",
       " ['Psionic blast',\n",
       "  \"Ability to overload another''s mind causing pain, memory loss, lack of consciousness, vegetative state or death\"],\n",
       " ['Psychic weapons',\n",
       "  'Ability to create a weapon of psychic energy that can harm mentally and not physically'],\n",
       " ['Psychometry',\n",
       "  'Ability to relate details about the past or future condition of an object or location'],\n",
       " ['Radiation manipulation',\n",
       "  'Ability to generate, manipulate or have immunity to toxic radiation'],\n",
       " ['Reactive adaptation / evolution',\n",
       "  'Ability to develop a resistance or immunity to whatever they were injured by or exposed to'],\n",
       " ['Reality warping', 'Ability to change or manipulate reality itself'],\n",
       " ['Resurrection',\n",
       "  'Ability to come back to life after being killed as well as to bring others back to life'],\n",
       " ['Self-detonation / reformation',\n",
       "  \"Ability to explode one''s body mass and reform\"],\n",
       " ['Size shifting', \"Ability to increase or decrease one''s size\"],\n",
       " ['Sonic scream',\n",
       "  'Ability to generate vocal sounds of a higher amplitude than a normal human'],\n",
       " ['Sound manipulation', 'Ability to manipulate sound'],\n",
       " ['Sublimation',\n",
       "  'Ability to transform into a gaseous, mist, or fog-like form'],\n",
       " ['Substance mimicry', 'Ability to transform into any substance touched'],\n",
       " ['Summoning', 'Ability to summon beings or objects for assistance'],\n",
       " ['Superhuman agility',\n",
       "  'Ability to react faster than a normal human and to possess greater flexibility and with higher/farther jumping capacity'],\n",
       " ['Superhuman endurance',\n",
       "  'Ability to have a higher resistance to one or more forms of damage before being injured as well as the ability to exert ones self in an activity indefinitely without becoming tired'],\n",
       " ['Superhuman longevity', 'Ability to live longer than a normal human'],\n",
       " ['Superhuman mentality',\n",
       "  'Ability to have intelligence quotient far above that of a genius level'],\n",
       " ['Superhuman senses',\n",
       "  'Ability to see, smell, taste, feel and/or hear more than a normal Human'],\n",
       " ['Superhuman speed',\n",
       "  'The ability to move, run, fly, react, think, and sense at speeds much faster than a normal human'],\n",
       " ['Superhuman strength',\n",
       "  'Ability to have a level of strength much higher than normally possible given their proportions'],\n",
       " ['Superhuman tracking',\n",
       "  'Ability to track an individual or object through supernatural means'],\n",
       " ['Technopathy',\n",
       "  'Electrical/telekinetic manipulation that allows for a mental interface to manipulate technology'],\n",
       " ['Telepathy',\n",
       "  'Ability to read the thoughts of, or to mentally communicate with others'],\n",
       " ['Teleportation',\n",
       "  'Ability to move from one place to another without occupying the space in between'],\n",
       " ['Telescopic vision',\n",
       "  \"Ability to magnify and extend one''s vision to various levels\"],\n",
       " ['Time manipulation',\n",
       "  'Ability to affect the flow of time by slowing, accelerating, reversing, or stopping it'],\n",
       " ['Time travel', 'Ability to travel back or forth through time'],\n",
       " ['Vortex breath',\n",
       "  'Ability to inhale/exhale with superhumanly powerful strength'],\n",
       " ['Wallcrawling',\n",
       "  'Ability to adhere to solid surfaces, including walls and ceilings'],\n",
       " ['Water and moisture manipulation',\n",
       "  'Ability to control, generate or absorb water'],\n",
       " ['Waterbreathing',\n",
       "  'Ability to respirate through water in lieu of a gaseous medium'],\n",
       " ['Weather manipulation', 'Ability to control or mentally affect the weather'],\n",
       " ['X-ray vision', 'Ability to see through solid matter']]"
      ]
     },
     "execution_count": 165,
     "metadata": {},
     "output_type": "execute_result"
    }
   ],
   "source": [
    "general_power_list.sort()\n",
    "general_power_list"
   ]
  },
  {
   "cell_type": "code",
   "execution_count": 168,
   "metadata": {
    "collapsed": false
   },
   "outputs": [],
   "source": [
    "general_power_arr = np.array(general_power_list)"
   ]
  },
  {
   "cell_type": "code",
   "execution_count": 169,
   "metadata": {
    "collapsed": false
   },
   "outputs": [],
   "source": [
    "def generate_insert_statement(my_arr, tablename):\n",
    "    for item in my_arr:\n",
    "        cellname1 = item[0]\n",
    "        cellname2 = item[1]\n",
    "        super_conn.execute(\"INSERT INTO \"+tablename+ \n",
    "              \"(power_type, general_powerdesc) VALUES(\"+\"'\"+cellname1+\"'\"+ \",\"+\"'\"+cellname2+\"'\"+\");\")\n",
    "        super_conn.commit()\n",
    "    print(tablename, \"is loaded!\")"
   ]
  },
  {
   "cell_type": "code",
   "execution_count": 170,
   "metadata": {
    "collapsed": false
   },
   "outputs": [
    {
     "name": "stdout",
     "output_type": "stream",
     "text": [
      "general_power is loaded!\n"
     ]
    }
   ],
   "source": [
    "generate_insert_statement(general_power_arr, \"general_power\")"
   ]
  },
  {
   "cell_type": "code",
   "execution_count": 94,
   "metadata": {
    "collapsed": false
   },
   "outputs": [],
   "source": [
    "super_cur.execute(\"SELECT * FROM general_power\")\n",
    "super_power_fetch = super_cur.fetchall()"
   ]
  },
  {
   "cell_type": "code",
   "execution_count": 177,
   "metadata": {
    "collapsed": true
   },
   "outputs": [],
   "source": [
    "identity_list = [[\"Tony Stark\", \"Iron Man\"], \n",
    "                 [\"Steve Rodgers\", \"Captain America\"], \n",
    "                 [\"Henry Pym\", \"Ant-Man\"],\n",
    "                 [\"Janet van Dyne\", \"Wasp\"],\n",
    "                 [\"Thor\", \"Thor\"],\n",
    "                 [\"Bruce Banner\", \"Hulk\"]];"
   ]
  },
  {
   "cell_type": "code",
   "execution_count": 179,
   "metadata": {
    "collapsed": false
   },
   "outputs": [
    {
     "data": {
      "text/plain": [
       "array([['Tony Stark', 'Iron Man'],\n",
       "       ['Steve Rodgers', 'Captain America'],\n",
       "       ['Henry Pym', 'Ant-Man'],\n",
       "       ['Janet van Dyne', 'Wasp'],\n",
       "       ['Thor', 'Thor'],\n",
       "       ['Bruce Banner', 'Hulk']], \n",
       "      dtype='<U15')"
      ]
     },
     "execution_count": 179,
     "metadata": {},
     "output_type": "execute_result"
    }
   ],
   "source": [
    "identity_array = np.array(identity_list)\n",
    "identity_array"
   ]
  },
  {
   "cell_type": "code",
   "execution_count": null,
   "metadata": {
    "collapsed": true
   },
   "outputs": [],
   "source": []
  },
  {
   "cell_type": "code",
   "execution_count": null,
   "metadata": {
    "collapsed": true
   },
   "outputs": [],
   "source": []
  },
  {
   "cell_type": "code",
   "execution_count": 181,
   "metadata": {
    "collapsed": true
   },
   "outputs": [],
   "source": [
    "superhuman_list = [[\"1\", \"1\", \"2\", \"3\"],[\"2\", \"4\", \"5\", \"14\"],\n",
    "  [\"3\", \"6\", \"14\", \"14\"],[\"4\", \"6\", \"7\", \"8\"],\n",
    "  [\"5\", \"9\", \"10\", \"11\"],[\"6\", \"11\", \"12\", \"13\"]]"
   ]
  },
  {
   "cell_type": "code",
   "execution_count": 182,
   "metadata": {
    "collapsed": false
   },
   "outputs": [
    {
     "data": {
      "text/plain": [
       "array([['1', '1', '2', '3'],\n",
       "       ['2', '4', '5', '14'],\n",
       "       ['3', '6', '14', '14'],\n",
       "       ['4', '6', '7', '8'],\n",
       "       ['5', '9', '10', '11'],\n",
       "       ['6', '11', '12', '13']], \n",
       "      dtype='<U2')"
      ]
     },
     "execution_count": 182,
     "metadata": {},
     "output_type": "execute_result"
    }
   ],
   "source": [
    "superhuman_array = np.array(superhuman_list)\n",
    "superhuman_array"
   ]
  },
  {
   "cell_type": "code",
   "execution_count": null,
   "metadata": {
    "collapsed": true
   },
   "outputs": [],
   "source": []
  }
 ],
 "metadata": {
  "kernelspec": {
   "display_name": "Python 3",
   "language": "python",
   "name": "python3"
  },
  "language_info": {
   "codemirror_mode": {
    "name": "ipython",
    "version": 3
   },
   "file_extension": ".py",
   "mimetype": "text/x-python",
   "name": "python",
   "nbconvert_exporter": "python",
   "pygments_lexer": "ipython3",
   "version": "3.6.0"
  }
 },
 "nbformat": 4,
 "nbformat_minor": 2
}
