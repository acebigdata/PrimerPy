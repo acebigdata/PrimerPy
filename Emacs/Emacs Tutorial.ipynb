{
 "cells": [
  {
   "cell_type": "markdown",
   "metadata": {},
   "source": [
    "### Part 1 basics\n",
    "C-: Control key\n",
    "M-: Alt key\n",
    "\n",
    "Quit: C-G\n",
    "Exit: C-x C-c\n",
    "\n",
    "Open/Visit a file: C-x C-f\n",
    "Save a file: C-x C-s\n",
    "\n",
    "Killing a butter: C-x k\n",
    "*Does not delete the file, only gets rid of the window that was editing the file*\n",
    "\n",
    "C-g quit\n",
    "C-x C-c exit\n",
    "C-x C-f open/visit a file\n",
    "C-x C-s save a file\n",
    "C-x k kill the buffer representing a file\n",
    "\n",
    "C-f move forward one character\n",
    "C-b move backward one character\n",
    "\n",
    "M-f move forward one word\n",
    "M-b move backward one word\n",
    "\n",
    "C-d delete a charater\n",
    "M-d delete a word\n",
    "C-_ \" (C- + Shift key + -\") Undo\n",
    "\n",
    "\n",
    "C-p previous line\n",
    "C-n next line\n",
    "C-a move to the begining of the line\n",
    "C-e move to the end of the line\n",
    "\n",
    "M-< (C- + Shift key + ,) Begining of the buffer\n",
    "M-> (C- + Shift key + .) End of the buffer\n",
    "\n",
    "C-v page down\n",
    "M-v page up\n",
    "C-l center the screen\n",
    "\n",
    "C-x 2 split top to bottom\n",
    "C-x o jump between two views\n",
    "C-x 3 split left to right view\n",
    "C-x 1 remove all views simply life\n",
    "\n",
    "Search\n",
    "C-s text <----- search case insensitive\n",
    "C-s Text <------search case sensitive\n",
    "C-g to exit search\n",
    "\n",
    "Cut and Pasteque\n",
    "C-space <----start/toggle marking a region\n",
    "M-w is copy\n",
    "C-w is cut\n",
    "C-y yank/paste\n",
    "C-k kill to end of line\n",
    "M-y yank the previous copies\n",
    "\n",
    "Replace\n",
    "M-x --> then type \"query-replace\" then type old value then type new value, type \"y\" to replace; \"n\" not to\n",
    "M-% (M- + Shift Key + 5) direct query replace\n",
    "M-$ (M- + Shift Key + 4) spelling check\n",
    "M-x flyspell-mode"
   ]
  },
  {
   "cell_type": "code",
   "execution_count": null,
   "metadata": {
    "collapsed": true
   },
   "outputs": [],
   "source": []
  }
 ],
 "metadata": {
  "kernelspec": {
   "display_name": "Python 3",
   "language": "python",
   "name": "python3"
  },
  "language_info": {
   "codemirror_mode": {
    "name": "ipython",
    "version": 3
   },
   "file_extension": ".py",
   "mimetype": "text/x-python",
   "name": "python",
   "nbconvert_exporter": "python",
   "pygments_lexer": "ipython3",
   "version": "3.6.0"
  }
 },
 "nbformat": 4,
 "nbformat_minor": 2
}
