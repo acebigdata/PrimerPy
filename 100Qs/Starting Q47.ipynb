{
 "cells": [
  {
   "cell_type": "code",
   "execution_count": 5,
   "metadata": {
    "collapsed": true
   },
   "outputs": [],
   "source": [
    "# Exercise - 47: check if letter in \"Python\""
   ]
  },
  {
   "cell_type": "code",
   "execution_count": 6,
   "metadata": {
    "collapsed": false
   },
   "outputs": [],
   "source": [
    "import os\n",
    "#%debug\n",
    "my_list = []\n",
    "for items in os.listdir(os.chdir(\"/Users/isaac/PrimerPy/100Qs/letters\")):\n",
    "    with open(\"/Users/isaac/PrimerPy/100Qs/letters/\" + items, \"r\") as file:\n",
    "        my_letter = file.read()\n",
    "        my_letter = list(my_letter)\n",
    "        if my_letter[0] in list(\"python\"):\n",
    "            my_list.append(my_letter[0])\n",
    "        else:\n",
    "            next\n",
    "        file.close()"
   ]
  },
  {
   "cell_type": "code",
   "execution_count": 14,
   "metadata": {
    "collapsed": false
   },
   "outputs": [
    {
     "data": {
      "text/plain": [
       "['h', 'n', 'o', 'p', 't', 'y']"
      ]
     },
     "execution_count": 14,
     "metadata": {},
     "output_type": "execute_result"
    }
   ],
   "source": [
    "my_list"
   ]
  },
  {
   "cell_type": "code",
   "execution_count": 15,
   "metadata": {
    "collapsed": false
   },
   "outputs": [
    {
     "ename": "IndentationError",
     "evalue": "expected an indented block (<ipython-input-15-427551c68f8e>, line 6)",
     "output_type": "error",
     "traceback": [
      "\u001b[0;36m  File \u001b[0;32m\"<ipython-input-15-427551c68f8e>\"\u001b[0;36m, line \u001b[0;32m6\u001b[0m\n\u001b[0;31m    print(letter) #wrong indentation\u001b[0m\n\u001b[0m        ^\u001b[0m\n\u001b[0;31mIndentationError\u001b[0m\u001b[0;31m:\u001b[0m expected an indented block\n"
     ]
    }
   ],
   "source": [
    "## Exercise 48 - IndentationError\n",
    "## Question: The script is supposed to print out letter \"e\" if the letter is in string \"Hello\", \n",
    "## but it doesn't. Please try to fix the script.\n",
    "for letter in \"Hello\":\n",
    "    if letter == \"e\":\n",
    "    print(letter) #wrong indentation"
   ]
  },
  {
   "cell_type": "code",
   "execution_count": 16,
   "metadata": {
    "collapsed": false
   },
   "outputs": [
    {
     "name": "stdout",
     "output_type": "stream",
     "text": [
      "e\n"
     ]
    }
   ],
   "source": [
    "for letter in \"Hello\":\n",
    "    if letter == \"e\":\n",
    "        print(letter)"
   ]
  },
  {
   "cell_type": "code",
   "execution_count": 18,
   "metadata": {
    "collapsed": false
   },
   "outputs": [
    {
     "ename": "SyntaxError",
     "evalue": "invalid syntax (<ipython-input-18-6f1653932dd4>, line 5)",
     "output_type": "error",
     "traceback": [
      "\u001b[0;36m  File \u001b[0;32m\"<ipython-input-18-6f1653932dd4>\"\u001b[0;36m, line \u001b[0;32m5\u001b[0m\n\u001b[0;31m    pass = input(\"Please enter your password: \")\u001b[0m\n\u001b[0m         ^\u001b[0m\n\u001b[0;31mSyntaxError\u001b[0m\u001b[0;31m:\u001b[0m invalid syntax\n"
     ]
    }
   ],
   "source": [
    "## Exercise 49 - Pass\n",
    "## Question: The code is supposed to get some input from the user, \n",
    "## but instead it produces an error. \n",
    "## Please try to understand the error and then fix it.\n",
    "pass = input(\"Please enter your password: \")\n",
    "## pass is a keyword already defined by python"
   ]
  },
  {
   "cell_type": "code",
   "execution_count": 19,
   "metadata": {
    "collapsed": false
   },
   "outputs": [
    {
     "name": "stdout",
     "output_type": "stream",
     "text": [
      "Please enter your password: sadfsaf\n"
     ]
    }
   ],
   "source": [
    "password = input(\"Please enter your password: \") "
   ]
  },
  {
   "cell_type": "code",
   "execution_count": 21,
   "metadata": {
    "collapsed": false
   },
   "outputs": [
    {
     "name": "stdout",
     "output_type": "stream",
     "text": [
      "What's your age? 32\n"
     ]
    },
    {
     "ename": "TypeError",
     "evalue": "unsupported operand type(s) for -: 'str' and 'int'",
     "output_type": "error",
     "traceback": [
      "\u001b[0;31m---------------------------------------------------------------------------\u001b[0m",
      "\u001b[0;31mTypeError\u001b[0m                                 Traceback (most recent call last)",
      "\u001b[0;32m<ipython-input-21-a69b905b8f6e>\u001b[0m in \u001b[0;36m<module>\u001b[0;34m()\u001b[0m\n\u001b[1;32m      3\u001b[0m \u001b[0;31m## Please understand the error and try to fix it\u001b[0m\u001b[0;34m\u001b[0m\u001b[0;34m\u001b[0m\u001b[0m\n\u001b[1;32m      4\u001b[0m \u001b[0mage\u001b[0m \u001b[0;34m=\u001b[0m \u001b[0minput\u001b[0m\u001b[0;34m(\u001b[0m\u001b[0;34m\"What's your age? \"\u001b[0m\u001b[0;34m)\u001b[0m\u001b[0;34m\u001b[0m\u001b[0m\n\u001b[0;32m----> 5\u001b[0;31m \u001b[0mage_last_year\u001b[0m \u001b[0;34m=\u001b[0m \u001b[0mage\u001b[0m \u001b[0;34m-\u001b[0m \u001b[0;36m1\u001b[0m \u001b[0;31m#input's type is string, need to covert to int\u001b[0m\u001b[0;34m\u001b[0m\u001b[0m\n\u001b[0m\u001b[1;32m      6\u001b[0m \u001b[0mprint\u001b[0m\u001b[0;34m(\u001b[0m\u001b[0;34m\"Last year you were %s.\"\u001b[0m \u001b[0;34m%\u001b[0m \u001b[0mage_last_year\u001b[0m\u001b[0;34m)\u001b[0m\u001b[0;34m\u001b[0m\u001b[0m\n",
      "\u001b[0;31mTypeError\u001b[0m: unsupported operand type(s) for -: 'str' and 'int'"
     ]
    }
   ],
   "source": [
    "## Exercise 50 - Text Input\n",
    "## Question: The code produces an error. \n",
    "## Please understand the error and try to fix it\n",
    "age = input(\"What's your age? \")\n",
    "age_last_year = age - 1 #input's type is string, need to covert to int\n",
    "print(\"Last year you were %s.\" % age_last_year)"
   ]
  },
  {
   "cell_type": "code",
   "execution_count": 23,
   "metadata": {
    "collapsed": false
   },
   "outputs": [
    {
     "name": "stdout",
     "output_type": "stream",
     "text": [
      "What's your age? 32\n",
      "Last year you were 31.\n"
     ]
    }
   ],
   "source": [
    "age = input(\"What's your age? \")\n",
    "age_last_year = int(age) - 1\n",
    "print(\"Last year you were %s.\" % age_last_year)"
   ]
  },
  {
   "cell_type": "code",
   "execution_count": 27,
   "metadata": {
    "collapsed": false
   },
   "outputs": [
    {
     "ename": "SyntaxError",
     "evalue": "unexpected EOF while parsing (<ipython-input-27-217992fee3df>, line 3)",
     "output_type": "error",
     "traceback": [
      "\u001b[0;36m  File \u001b[0;32m\"<ipython-input-27-217992fee3df>\"\u001b[0;36m, line \u001b[0;32m3\u001b[0m\n\u001b[0;31m    print(type(\"Hey\".replace(\"ey\",\"i\")[-1]) # miss a parenthesis\u001b[0m\n\u001b[0m                                                                ^\u001b[0m\n\u001b[0;31mSyntaxError\u001b[0m\u001b[0;31m:\u001b[0m unexpected EOF while parsing\n"
     ]
    }
   ],
   "source": [
    "## Exercise 51 - EOF\n",
    "## Question: The code produces an error. Please understand the error and try to fix it\n",
    "print(type(\"Hey\".replace(\"ey\",\"i\")[-1]) # miss a parenthesis"
   ]
  },
  {
   "cell_type": "code",
   "execution_count": 28,
   "metadata": {
    "collapsed": false
   },
   "outputs": [
    {
     "name": "stdout",
     "output_type": "stream",
     "text": [
      "<class 'str'>\n"
     ]
    }
   ],
   "source": [
    "print(type(\"Hey\".replace(\"ey\",\"i\")[-1]))"
   ]
  },
  {
   "cell_type": "code",
   "execution_count": 29,
   "metadata": {
    "collapsed": false
   },
   "outputs": [
    {
     "name": "stdout",
     "output_type": "stream",
     "text": [
      "Enter first name: Isaac\n",
      "Enter second name: Zhou\n"
     ]
    },
    {
     "ename": "TypeError",
     "evalue": "not enough arguments for format string",
     "output_type": "error",
     "traceback": [
      "\u001b[0;31m---------------------------------------------------------------------------\u001b[0m",
      "\u001b[0;31mTypeError\u001b[0m                                 Traceback (most recent call last)",
      "\u001b[0;32m<ipython-input-29-807e94f72e5b>\u001b[0m in \u001b[0;36m<module>\u001b[0;34m()\u001b[0m\n\u001b[1;32m      5\u001b[0m \u001b[0mfirstname\u001b[0m \u001b[0;34m=\u001b[0m \u001b[0minput\u001b[0m\u001b[0;34m(\u001b[0m\u001b[0;34m\"Enter first name: \"\u001b[0m\u001b[0;34m)\u001b[0m\u001b[0;34m\u001b[0m\u001b[0m\n\u001b[1;32m      6\u001b[0m \u001b[0msecondname\u001b[0m \u001b[0;34m=\u001b[0m \u001b[0minput\u001b[0m\u001b[0;34m(\u001b[0m\u001b[0;34m\"Enter second name: \"\u001b[0m\u001b[0;34m)\u001b[0m\u001b[0;34m\u001b[0m\u001b[0m\n\u001b[0;32m----> 7\u001b[0;31m \u001b[0mprint\u001b[0m\u001b[0;34m(\u001b[0m\u001b[0;34m\"Your first name is %s and your second name is %s\"\u001b[0m \u001b[0;34m%\u001b[0m \u001b[0mfirstname\u001b[0m\u001b[0;34m,\u001b[0m \u001b[0msecondname\u001b[0m\u001b[0;34m)\u001b[0m\u001b[0;34m\u001b[0m\u001b[0m\n\u001b[0m",
      "\u001b[0;31mTypeError\u001b[0m: not enough arguments for format string"
     ]
    }
   ],
   "source": [
    "## Exercise 52 - String Formatting\n",
    "## Question: The code is supposed to ask the user to enter their name and surname \n",
    "## and then it prints out those user submitted values. Instead, the code throws a TypeError. \n",
    "## Please fix it so that the expected output is printed out.\n",
    "firstname = input(\"Enter first name: \")\n",
    "secondname = input(\"Enter second name: \")\n",
    "print(\"Your first name is %s and your second name is %s\" % firstname, secondname)"
   ]
  },
  {
   "cell_type": "code",
   "execution_count": 30,
   "metadata": {
    "collapsed": false
   },
   "outputs": [
    {
     "name": "stdout",
     "output_type": "stream",
     "text": [
      "Enter first name: Isaac\n",
      "Enter second name: Zhou\n",
      "Your first name is Isaac and your second name is Zhou\n"
     ]
    }
   ],
   "source": [
    "firstname = input(\"Enter first name: \")\n",
    "secondname = input(\"Enter second name: \")\n",
    "print(\"Your first name is {a} and your second name is {b}\".format(a = firstname, b = secondname))"
   ]
  },
  {
   "cell_type": "code",
   "execution_count": 32,
   "metadata": {
    "collapsed": false
   },
   "outputs": [],
   "source": [
    "## Exercise 53 - Multilevel Dictionary\n",
    "## Question: Print out the last name of the second employee.\n",
    "d = {\"employees\":[{\"firstName\": \"John\", \"lastName\": \"Doe\"},\n",
    "                {\"firstName\": \"Anna\", \"lastName\": \"Smith\"},\n",
    "                {\"firstName\": \"Peter\", \"lastName\": \"Jones\"}],\n",
    "\"owners\":[{\"firstName\": \"Jack\", \"lastName\": \"Petter\"},\n",
    "          {\"firstName\": \"Jessy\", \"lastName\": \"Petter\"}]}"
   ]
  },
  {
   "cell_type": "code",
   "execution_count": 37,
   "metadata": {
    "collapsed": false
   },
   "outputs": [
    {
     "data": {
      "text/plain": [
       "'Smith'"
      ]
     },
     "execution_count": 37,
     "metadata": {},
     "output_type": "execute_result"
    }
   ],
   "source": [
    "d[\"employees\"][1][\"lastName\"]"
   ]
  },
  {
   "cell_type": "code",
   "execution_count": 38,
   "metadata": {
    "collapsed": true
   },
   "outputs": [],
   "source": [
    "## Exercise 54 - Modifying Multilevel Dictionaries\n",
    "## Question: Please update the dictionary \n",
    "## by changing the last name of the second employee from Smith to Smooth or to whatever takes your fancy.\n",
    "d = {\"employees\":[{\"firstName\": \"John\", \"lastName\": \"Doe\"},\n",
    "                {\"firstName\": \"Anna\", \"lastName\": \"Smith\"},\n",
    "                {\"firstName\": \"Peter\", \"lastName\": \"Jones\"}],\n",
    "\"owners\":[{\"firstName\": \"Jack\", \"lastName\": \"Petter\"},\n",
    "          {\"firstName\": \"Jessy\", \"lastName\": \"Petter\"}]}"
   ]
  },
  {
   "cell_type": "code",
   "execution_count": 41,
   "metadata": {
    "collapsed": false
   },
   "outputs": [
    {
     "data": {
      "text/plain": [
       "{'employees': [{'firstName': 'John', 'lastName': 'Doe'},\n",
       "  {'firstName': 'Anna', 'lastName': 'Smooth'},\n",
       "  {'firstName': 'Peter', 'lastName': 'Jones'}],\n",
       " 'owners': [{'firstName': 'Jack', 'lastName': 'Petter'},\n",
       "  {'firstName': 'Jessy', 'lastName': 'Petter'}]}"
      ]
     },
     "execution_count": 41,
     "metadata": {},
     "output_type": "execute_result"
    }
   ],
   "source": [
    "d[\"employees\"][1][\"lastName\"] = \"Smooth\"\n",
    "d"
   ]
  },
  {
   "cell_type": "code",
   "execution_count": 47,
   "metadata": {
    "collapsed": true
   },
   "outputs": [],
   "source": [
    "## Exercise 55 - Adding to Multilevel Dictionaries\n",
    "## Question: Please add a new employee to the dictionary.\n",
    "d = {\"employees\":[{\"firstName\": \"John\", \"lastName\": \"Doe\"},\n",
    "                {\"firstName\": \"Anna\", \"lastName\": \"Smith\"},\n",
    "                {\"firstName\": \"Peter\", \"lastName\": \"Jones\"}],\n",
    "\"owners\":[{\"firstName\": \"Jack\", \"lastName\": \"Petter\"},\n",
    "          {\"firstName\": \"Jessy\", \"lastName\": \"Petter\"}]}"
   ]
  },
  {
   "cell_type": "code",
   "execution_count": 48,
   "metadata": {
    "collapsed": false
   },
   "outputs": [
    {
     "data": {
      "text/plain": [
       "{'employees': [{'firstName': 'John', 'lastName': 'Doe'},\n",
       "  {'firstName': 'Anna', 'lastName': 'Smith'},\n",
       "  {'firstName': 'Peter', 'lastName': 'Jones'},\n",
       "  {'firstName': 'Albert', 'lastName': 'Bert'}],\n",
       " 'owners': [{'firstName': 'Jack', 'lastName': 'Petter'},\n",
       "  {'firstName': 'Jessy', 'lastName': 'Petter'}]}"
      ]
     },
     "execution_count": 48,
     "metadata": {},
     "output_type": "execute_result"
    }
   ],
   "source": [
    "d[\"employees\"].append({\"firstName\": \"Albert\", \"lastName\": \"Bert\"})\n",
    "d"
   ]
  },
  {
   "cell_type": "code",
   "execution_count": 2,
   "metadata": {
    "collapsed": true
   },
   "outputs": [],
   "source": [
    "## Exercise 56 - Dictionary to JSON\n",
    "## Question: Store the dictionary in a json file.\n",
    "d = {\"employees\":[{\"firstName\": \"John\", \"lastName\": \"Doe\"},\n",
    "                {\"firstName\": \"Anna\", \"lastName\": \"Smith\"},\n",
    "                {\"firstName\": \"Peter\", \"lastName\": \"Jones\"}],\n",
    "\"owners\":[{\"firstName\": \"Jack\", \"lastName\": \"Petter\"},\n",
    "          {\"firstName\": \"Jessy\", \"lastName\": \"Petter\"}]}"
   ]
  },
  {
   "cell_type": "code",
   "execution_count": 5,
   "metadata": {
    "collapsed": false
   },
   "outputs": [],
   "source": [
    "import json\n",
    "# Need to import json library\n",
    "with open('d_jason.txt', 'w') as outfile:\n",
    "# Create a file writeable\n",
    "    json.dump(d, outfile, indent=4, sort_keys=True)\n",
    "    # dump the dictionary to the file\n",
    "    # indent nicely\n",
    "## indent=4  will create 4 white spaces to indent the different levels of the dictionary items \n",
    "## sort_keys=True  tells Python to preserve the order of the dictionary thrown in the file."
   ]
  },
  {
   "cell_type": "code",
   "execution_count": 16,
   "metadata": {
    "collapsed": false
   },
   "outputs": [
    {
     "name": "stdout",
     "output_type": "stream",
     "text": [
      "{'employees': [{'firstName': 'John', 'lastName': 'Doe'},\n",
      "               {'firstName': 'Anna', 'lastName': 'Smith'},\n",
      "               {'firstName': 'Peter', 'lastName': 'Jones'}],\n",
      " 'owners': [{'firstName': 'Jack', 'lastName': 'Petter'},\n",
      "            {'firstName': 'Jessy', 'lastName': 'Petter'}]}\n"
     ]
    }
   ],
   "source": [
    "## Exercise 57 - JSON to Dictionary\n",
    "## Question: Please download the file in the attachment \n",
    "## use Python to print out its content.\n",
    "import json\n",
    "with open(\"company1.json\", \"r\") as file:\n",
    "    my_file = json.loads(file.read())\n",
    "    pprint(my_file)\n",
    "## Data pretty printer"
   ]
  },
  {
   "cell_type": "code",
   "execution_count": 23,
   "metadata": {
    "collapsed": false
   },
   "outputs": [
    {
     "name": "stdout",
     "output_type": "stream",
     "text": [
      "{'employees': [{'firstName': 'John', 'lastName': 'Doe'},\n",
      "               {'firstName': 'Anna', 'lastName': 'Smith'},\n",
      "               {'firstName': 'Peter', 'lastName': 'Jones'}],\n",
      " 'owners': [{'firstName': 'Jack', 'lastName': 'Petter'},\n",
      "            {'firstName': 'Jessy', 'lastName': 'Petter'}]}\n"
     ]
    }
   ],
   "source": [
    "## Alternatively\n",
    "from pprint import pprint\n",
    " \n",
    "with open(\"company1.json\",\"r\") as file:\n",
    "    d = json.loads(file.read())\n",
    " \n",
    "pprint(d)"
   ]
  },
  {
   "cell_type": "code",
   "execution_count": 37,
   "metadata": {
    "collapsed": false
   },
   "outputs": [],
   "source": [
    "## Exercise 58 - Add to JSON\n",
    "## Question: Please download the json file in the attachment and use Python \n",
    "## add a new employee to the content of the file so that the file looks like in the expected output below.\n",
    "import json\n",
    "with open(\"company1_58.json\", \"r+\") as file: ## r+ means read and write mode\n",
    "    my_file = json.loads(file.read())\n",
    "    ## Need json.loads file to properly load the json file and convert to dictionary\n",
    "    my_file[\"employees\"].append({'firstName': 'Albert', 'lastName': 'Bert'})\n",
    "with open(\"company_2.json\", \"w\") as newfile:\n",
    "    json.dump(my_file, newfile, indent=4, sort_keys=True)\n",
    "    ## Need json dump to generate new file in json format properly"
   ]
  },
  {
   "cell_type": "code",
   "execution_count": 40,
   "metadata": {
    "collapsed": false
   },
   "outputs": [
    {
     "name": "stdout",
     "output_type": "stream",
     "text": [
      "item  1  has index  0\n",
      "item  2  has index  1\n",
      "item  3  has index  2\n"
     ]
    }
   ],
   "source": [
    "## Exercise 59 - Enumerator\n",
    "## Question: Please complete the code so that it prints out the expected output.\n",
    "## Item 1 has index 0\n",
    "## Item 2 has index 1\n",
    "## Item 3 has index 2\n",
    "a = [1,2,3]\n",
    "for item in a:\n",
    "    print(\"item \", item, \" has index \", a.index(item))"
   ]
  },
  {
   "cell_type": "code",
   "execution_count": 42,
   "metadata": {
    "collapsed": false
   },
   "outputs": [
    {
     "name": "stdout",
     "output_type": "stream",
     "text": [
      "item 1 has index of 0\n",
      "item 2 has index of 1\n",
      "item 3 has index of 2\n"
     ]
    }
   ],
   "source": [
    "## alternatively\n",
    "for index, item in enumerate(a):\n",
    "    print(\"item {a} has index of {b}\".format(a = item, b = index))"
   ]
  },
  {
   "cell_type": "code",
   "execution_count": 43,
   "metadata": {
    "collapsed": true
   },
   "outputs": [],
   "source": [
    "## Exercise 60 - Infinite loop\n",
    "## Write in comment, as it's a dead loop\n",
    "##while True:\n",
    "##    print(\"Hello\")"
   ]
  },
  {
   "cell_type": "code",
   "execution_count": 52,
   "metadata": {
    "collapsed": false
   },
   "outputs": [
    {
     "name": "stdout",
     "output_type": "stream",
     "text": [
      "Hello World!\n",
      "Hello World!\n",
      "Hello World!\n",
      "Hello World!\n",
      "Hello World!\n"
     ]
    }
   ],
   "source": [
    "## Exercise 61 - Timed Printer\n",
    "\n",
    "def update():\n",
    "    i = 1\n",
    "    import time\n",
    "    while i <= 5:\n",
    "        print ('Hello World!')\n",
    "        time.sleep(2)\n",
    "        i += 1\n",
    "update()"
   ]
  },
  {
   "cell_type": "code",
   "execution_count": 54,
   "metadata": {
    "collapsed": false
   },
   "outputs": [
    {
     "name": "stdout",
     "output_type": "stream",
     "text": [
      "Hello\n",
      "Hello\n",
      "Hello\n",
      "Hello\n",
      "Hello\n",
      "Hello\n",
      "Hello\n",
      "Hello\n",
      "Hello\n"
     ]
    }
   ],
   "source": [
    "## Alternatively\n",
    "import time\n",
    " \n",
    "for i in range(1,10): # Avoid endless loop\n",
    "    print(\"Hello\")\n",
    "    time.sleep(2)"
   ]
  },
  {
   "cell_type": "code",
   "execution_count": 55,
   "metadata": {
    "collapsed": false
   },
   "outputs": [
    {
     "name": "stdout",
     "output_type": "stream",
     "text": [
      "Hello\n",
      "Hello\n",
      "Hello\n",
      "Hello\n",
      "Hello\n"
     ]
    }
   ],
   "source": [
    "## Exercise 62 - Progressive Timed Printer\n",
    "## Question: Create a program that once executed the program prints Hello  instantly first, \n",
    "## then it prints it after 1 second, then after 2, 3, 4, and so on the interval increases between prints.\n",
    "import time\n",
    "i = 1\n",
    "while i <= 5:\n",
    "    print(\"Hello\")\n",
    "    time.sleep(i)\n",
    "    i += 1"
   ]
  },
  {
   "cell_type": "code",
   "execution_count": 56,
   "metadata": {
    "collapsed": false
   },
   "outputs": [
    {
     "name": "stdout",
     "output_type": "stream",
     "text": [
      "Already finished\n"
     ]
    }
   ],
   "source": [
    "## Exercise 63 - Progressive Time Printer with Threshold\n",
    "## Question: Create a program that once executed the programs prints Hello  \n",
    "## instantly first, then it prints it after 1 second, then after 2, 3, \n",
    "## and then the program prints out the message \"End of the Loop\" and stops.\n",
    "print(\"Already finished\")"
   ]
  },
  {
   "cell_type": "code",
   "execution_count": 57,
   "metadata": {
    "collapsed": false
   },
   "outputs": [
    {
     "name": "stdout",
     "output_type": "stream",
     "text": [
      "Hello\n",
      "Hi\n"
     ]
    }
   ],
   "source": [
    "## Exercise 64 - Next\n",
    "while True:\n",
    "    print(\"Hello\")\n",
    "    if 2 > 1:\n",
    "        next\n",
    "    print(\"Hi\")\n",
    "    break"
   ]
  },
  {
   "cell_type": "code",
   "execution_count": 58,
   "metadata": {
    "collapsed": true
   },
   "outputs": [],
   "source": [
    "## Exercise 65 - continue\n",
    "## while True:\n",
    "##    print(\"Hello\")\n",
    "##    if 2 > 1:\n",
    "##        continue\n",
    "##    print(\"Hi\")\n",
    "##    break"
   ]
  },
  {
   "cell_type": "code",
   "execution_count": 66,
   "metadata": {
    "collapsed": false
   },
   "outputs": [],
   "source": [
    "## Exercise 66 - Translator\n",
    "d = dict(weather = \"clima\", earth = \"terra\", rain = \"chuva\") \n",
    "\n",
    "def translator():\n",
    "    input_word = input(\"Please enter a word: \")\n",
    "    print((d[input_word]))"
   ]
  },
  {
   "cell_type": "code",
   "execution_count": 68,
   "metadata": {
    "collapsed": false
   },
   "outputs": [
    {
     "name": "stdout",
     "output_type": "stream",
     "text": [
      "Please enter a word: rain\n",
      "chuva\n"
     ]
    }
   ],
   "source": [
    "translator()"
   ]
  },
  {
   "cell_type": "code",
   "execution_count": 70,
   "metadata": {
    "collapsed": false
   },
   "outputs": [
    {
     "name": "stdout",
     "output_type": "stream",
     "text": [
      "Please enter a word: earth\n",
      "terra\n"
     ]
    }
   ],
   "source": [
    "## Exercise 67 - Advanced Translator\n",
    "d = dict(weather = \"clima\", earth = \"terra\", rain = \"chuva\")\n",
    "def translator():\n",
    "    input_word = input(\"Please enter a word: \")\n",
    "    if input_word in d:\n",
    "        print(d[input_word])\n",
    "    else:\n",
    "        print(\"We can't find that word!\")\n",
    "translator()"
   ]
  },
  {
   "cell_type": "code",
   "execution_count": 75,
   "metadata": {
    "collapsed": false
   },
   "outputs": [
    {
     "name": "stdout",
     "output_type": "stream",
     "text": [
      "Enter a word: china\n"
     ]
    },
    {
     "data": {
      "text/plain": [
       "'That word does not exist'"
      ]
     },
     "execution_count": 75,
     "metadata": {},
     "output_type": "execute_result"
    }
   ],
   "source": [
    "## Alternatively\n",
    "def translator_2():\n",
    "    input_word = input(\"Enter a word: \")\n",
    "    try:\n",
    "        return d[input_word]\n",
    "    except KeyError:\n",
    "        return \"That word does not exist\"\n",
    "\n",
    "translator_2()"
   ]
  },
  {
   "cell_type": "code",
   "execution_count": 76,
   "metadata": {
    "collapsed": false
   },
   "outputs": [
    {
     "name": "stdout",
     "output_type": "stream",
     "text": [
      "Enter a word: EARTH\n"
     ]
    },
    {
     "data": {
      "text/plain": [
       "'terra'"
      ]
     },
     "execution_count": 76,
     "metadata": {},
     "output_type": "execute_result"
    }
   ],
   "source": [
    "## Exercise 68 - User Friendly Translator\n",
    "## non case sensitive\n",
    "def translator_2():\n",
    "    input_word = str.lower(input(\"Enter a word: \"))\n",
    "    try:\n",
    "        return d[input_word]\n",
    "    except KeyError:\n",
    "        return \"That word does not exist\"\n",
    "\n",
    "translator_2()"
   ]
  },
  {
   "cell_type": "code",
   "execution_count": 80,
   "metadata": {
    "collapsed": true
   },
   "outputs": [],
   "source": [
    "## Exercise 69 - Requests\n",
    "with open(\"requests.py\", \"w+\") as file:\n",
    "    text = (\"import requests\\n\\nr = requests.get('http://www.pythonhow.com')\\nprint(r.text[:100])\")\n",
    "    file.write(text)"
   ]
  },
  {
   "cell_type": "code",
   "execution_count": 90,
   "metadata": {
    "collapsed": false
   },
   "outputs": [
    {
     "name": "stdout",
     "output_type": "stream",
     "text": [
      "<!DOCTYPE html>\r\n",
      "<!--[if IE 7]>\r\n",
      "<html class=\"ie ie7\" lang=\"en-US\" prefix=\"og: http://ogp.me/ns#\">\r\n",
      "\n"
     ]
    }
   ],
   "source": [
    "# %load requests.py\n",
    "# %run requests.py\n",
    "import requests\n",
    "\n",
    "r = requests.get('http://www.pythonhow.com')\n",
    "print(r.text[:100])"
   ]
  },
  {
   "cell_type": "code",
   "execution_count": 88,
   "metadata": {
    "collapsed": true
   },
   "outputs": [],
   "source": [
    "import os\n",
    "os.rename(\"requests.py\", \"ex_requests.py\")\n",
    "## file name should not be the same as module name"
   ]
  },
  {
   "cell_type": "code",
   "execution_count": 93,
   "metadata": {
    "collapsed": false
   },
   "outputs": [
    {
     "name": "stdout",
     "output_type": "stream",
     "text": [
      "Distant regions of space are assumed to exist and to be part of reality as much as we are, even though we can never interact with them. The spatial region that we can affect and be affected by is the observable universe. The observable universe depends on the location of the observer. By traveling, an observer can come into contact with a greater region of spacetime than an observer who remains still. Nevertheless, even the most rapid traveler will not be able to interact with all of space. Typically, the observable universe is taken to mean the portion of the Universe that is observable from our vantage point in the Milky Way.\n"
     ]
    }
   ],
   "source": [
    "## Exercise 70 - File from URL\n",
    "import requests\n",
    "r = requests.get(\"http://www.pythonhow.com/data/universe.txt\")\n",
    "print(r.text)"
   ]
  },
  {
   "cell_type": "code",
   "execution_count": 100,
   "metadata": {
    "collapsed": false
   },
   "outputs": [
    {
     "data": {
      "text/plain": [
       "47"
      ]
     },
     "execution_count": 100,
     "metadata": {},
     "output_type": "execute_result"
    }
   ],
   "source": [
    "## Exercise 71 - Letter Counter\n",
    "r = requests.get(\"http://www.pythonhow.com/data/universe.txt\")\n",
    "r = r.text\n",
    "my_array = r.split(\" \")\n",
    "len(my_array)\n",
    "r.count(\"a\")"
   ]
  },
  {
   "cell_type": "code",
   "execution_count": 115,
   "metadata": {
    "collapsed": false
   },
   "outputs": [
    {
     "name": "stdout",
     "output_type": "stream",
     "text": [
      "Enter a word to search: google\n"
     ]
    }
   ],
   "source": [
    "## Exercise 72 - search term\n",
    "from google import search\n",
    "import requests\n",
    "import urllib\n",
    "import webbrowser\n",
    "\n",
    "\n",
    "for url in search(input(\"Enter a word to search: \"), stop=1):\n",
    "    webbrowser.open_new(url)\n",
    "## Open all links on the first page"
   ]
  },
  {
   "cell_type": "code",
   "execution_count": 111,
   "metadata": {
    "collapsed": false
   },
   "outputs": [
    {
     "name": "stdout",
     "output_type": "stream",
     "text": [
      "Enter your Google query: pelican\n"
     ]
    },
    {
     "data": {
      "text/plain": [
       "True"
      ]
     },
     "execution_count": 111,
     "metadata": {},
     "output_type": "execute_result"
    }
   ],
   "source": [
    "## Alternatively\n",
    "import webbrowser\n",
    " \n",
    "query = input(\"Enter your Google query: \")\n",
    "url = \"https://www.google.com/?gws_rd=cr,ssl&ei=NCZFWIOJN8yMsgHCyLV4&fg=1#q=%s\" % str(query)\n",
    "webbrowser.open_new(url)"
   ]
  },
  {
   "cell_type": "code",
   "execution_count": 158,
   "metadata": {
    "collapsed": false
   },
   "outputs": [],
   "source": [
    "## Exercise 73 - Get contents from URL\n",
    "import pandas as pd\n",
    "r = pd.read_csv(\"http://pythonhow.com/data/sampledata.txt\")\n",
    "r_2 = r * 2\n",
    "r_2.to_csv(\"sampledata_2.txt\", index=None)"
   ]
  },
  {
   "cell_type": "code",
   "execution_count": 167,
   "metadata": {
    "collapsed": false
   },
   "outputs": [],
   "source": [
    "## Exercise 74 - File Concatenator\n",
    "r_a = pd.read_csv(\"sampledata.txt\")\n",
    "r_b = pd.read_csv(\"sampledata_x_2.txt\")\n",
    "r_c = pd.concat([r_a, r_b])\n",
    "r_c.to_csv(\"sampledata_3.txt\", index=None)"
   ]
  },
  {
   "cell_type": "code",
   "execution_count": 168,
   "metadata": {
    "collapsed": false
   },
   "outputs": [
    {
     "name": "stdout",
     "output_type": "stream",
     "text": [
      "x,y\n",
      "3,5\n",
      "4,9\n",
      "6,10\n",
      "7,11\n",
      "8,12\n",
      "6,10\n",
      "8,18\n",
      "12,20\n",
      "14,22\n",
      "16,24\n",
      "\n"
     ]
    }
   ],
   "source": [
    "with open(\"sampledata_3.txt\", \"r+\") as file:\n",
    "    print(file.read())"
   ]
  },
  {
   "cell_type": "code",
   "execution_count": 182,
   "metadata": {
    "collapsed": false
   },
   "outputs": [
    {
     "data": {
      "text/plain": [
       "<matplotlib.collections.PathCollection at 0xb4e4a58>"
      ]
     },
     "execution_count": 182,
     "metadata": {},
     "output_type": "execute_result"
    },
    {
     "data": {
      "image/png": "[encoded data removed]",
      "text/plain": [
       "<matplotlib.figure.Figure at 0xa921f28>"
      ]
     },
     "metadata": {},
     "output_type": "display_data"
    }
   ],
   "source": [
    "## Exercise 75 - Plot\n",
    "import matplotlib.pyplot as plt\n",
    "%matplotlib inline\n",
    "r = pd.read_csv(\"http://pythonhow.com/data/sampledata.txt\")\n",
    "fig = plt.figure()\n",
    "fig_axes = fig.add_axes([0,0,1,1])\n",
    "fig_axes.scatter(r[\"x\"], r[\"y\"])"
   ]
  },
  {
   "cell_type": "code",
   "execution_count": 189,
   "metadata": {
    "collapsed": false
   },
   "outputs": [
    {
     "name": "stdout",
     "output_type": "stream",
     "text": [
      "Today is Sunday, February 19, 2017\n"
     ]
    }
   ],
   "source": [
    "## Exercise 76 - Print curren time\n",
    "from datetime import datetime\n",
    " \n",
    "print(datetime.now().strftime(\"Today is %A, %B %d, %Y\"))\n",
    "## for example, %A  would extract the day, %B  the year, %d  the date, and %Y  the year. "
   ]
  },
  {
   "cell_type": "code",
   "execution_count": 195,
   "metadata": {
    "collapsed": false
   },
   "outputs": [
    {
     "name": "stdout",
     "output_type": "stream",
     "text": [
      "Enter your age: 32\n",
      "You were born back in 1985\n"
     ]
    }
   ],
   "source": [
    "## Exercise 77 - Year of Birth Calculator\n",
    "your_age = int(input(\"Enter your age: \"))\n",
    "current_year = datetime.now().year\n",
    "print(\"You were born back in\", current_year - your_age)"
   ]
  }
 ],
 "metadata": {
  "anaconda-cloud": {},
  "kernelspec": {
   "display_name": "Python 3",
   "language": "python",
   "name": "python3"
  },
  "language_info": {
   "codemirror_mode": {
    "name": "ipython",
    "version": 3
   },
   "file_extension": ".py",
   "mimetype": "text/x-python",
   "name": "python",
   "nbconvert_exporter": "python",
   "pygments_lexer": "ipython3",
   "version": "3.6.0"
  }
 },
 "nbformat": 4,
 "nbformat_minor": 1
}
