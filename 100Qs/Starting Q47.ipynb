{
 "cells": [
  {
   "cell_type": "code",
   "execution_count": null,
   "metadata": {
    "collapsed": true
   },
   "outputs": [],
   "source": [
    "# Exercise - 47: check if letter in \"Python\""
   ]
  },
  {
   "cell_type": "code",
   "execution_count": null,
   "metadata": {
    "collapsed": false
   },
   "outputs": [],
   "source": [
    "import os\n",
    "#%debug\n",
    "my_list = []\n",
    "for items in os.listdir(os.chdir(\"/Users/isaac/PrimerPy/100Qs/letters\")):\n",
    "    with open(\"/Users/isaac/PrimerPy/100Qs/letters/\" + items, \"r\") as file:\n",
    "        my_letter = file.read()\n",
    "        my_letter = list(my_letter)\n",
    "        if my_letter[0] in list(\"python\"):\n",
    "            my_list.append(my_letter[0])\n",
    "        else:\n",
    "            next\n",
    "        file.close()"
   ]
  },
  {
   "cell_type": "code",
   "execution_count": null,
   "metadata": {
    "collapsed": false
   },
   "outputs": [],
   "source": [
    "my_list"
   ]
  },
  {
   "cell_type": "code",
   "execution_count": null,
   "metadata": {
    "collapsed": false
   },
   "outputs": [],
   "source": [
    "## Exercise 48 - IndentationError\n",
    "## Question: The script is supposed to print out letter \"e\" if the letter is in string \"Hello\", \n",
    "## but it doesn't. Please try to fix the script.\n",
    "for letter in \"Hello\":\n",
    "    if letter == \"e\":\n",
    "    print(letter) #wrong indentation"
   ]
  },
  {
   "cell_type": "code",
   "execution_count": null,
   "metadata": {
    "collapsed": false
   },
   "outputs": [],
   "source": [
    "for letter in \"Hello\":\n",
    "    if letter == \"e\":\n",
    "        print(letter)"
   ]
  },
  {
   "cell_type": "code",
   "execution_count": null,
   "metadata": {
    "collapsed": false
   },
   "outputs": [],
   "source": [
    "## Exercise 49 - Pass\n",
    "## Question: The code is supposed to get some input from the user, \n",
    "## but instead it produces an error. \n",
    "## Please try to understand the error and then fix it.\n",
    "pass = input(\"Please enter your password: \")\n",
    "## pass is a keyword already defined by python"
   ]
  },
  {
   "cell_type": "code",
   "execution_count": null,
   "metadata": {
    "collapsed": false
   },
   "outputs": [],
   "source": [
    "password = input(\"Please enter your password: \") "
   ]
  },
  {
   "cell_type": "code",
   "execution_count": null,
   "metadata": {
    "collapsed": false
   },
   "outputs": [],
   "source": [
    "## Exercise 50 - Text Input\n",
    "## Question: The code produces an error. \n",
    "## Please understand the error and try to fix it\n",
    "age = input(\"What's your age? \")\n",
    "age_last_year = age - 1 #input's type is string, need to covert to int\n",
    "print(\"Last year you were %s.\" % age_last_year)"
   ]
  },
  {
   "cell_type": "code",
   "execution_count": null,
   "metadata": {
    "collapsed": false
   },
   "outputs": [],
   "source": [
    "age = input(\"What's your age? \")\n",
    "age_last_year = int(age) - 1\n",
    "print(\"Last year you were %s.\" % age_last_year)"
   ]
  },
  {
   "cell_type": "code",
   "execution_count": null,
   "metadata": {
    "collapsed": false
   },
   "outputs": [],
   "source": [
    "## Exercise 51 - EOF\n",
    "## Question: The code produces an error. Please understand the error and try to fix it\n",
    "print(type(\"Hey\".replace(\"ey\",\"i\")[-1]) # miss a parenthesis"
   ]
  },
  {
   "cell_type": "code",
   "execution_count": null,
   "metadata": {
    "collapsed": false
   },
   "outputs": [],
   "source": [
    "print(type(\"Hey\".replace(\"ey\",\"i\")[-1]))"
   ]
  },
  {
   "cell_type": "code",
   "execution_count": null,
   "metadata": {
    "collapsed": false
   },
   "outputs": [],
   "source": [
    "## Exercise 52 - String Formatting\n",
    "## Question: The code is supposed to ask the user to enter their name and surname \n",
    "## and then it prints out those user submitted values. Instead, the code throws a TypeError. \n",
    "## Please fix it so that the expected output is printed out.\n",
    "firstname = input(\"Enter first name: \")\n",
    "secondname = input(\"Enter second name: \")\n",
    "print(\"Your first name is %s and your second name is %s\" % firstname, secondname)"
   ]
  },
  {
   "cell_type": "code",
   "execution_count": null,
   "metadata": {
    "collapsed": false
   },
   "outputs": [],
   "source": [
    "firstname = input(\"Enter first name: \")\n",
    "secondname = input(\"Enter second name: \")\n",
    "print(\"Your first name is {a} and your second name is {b}\".format(a = firstname, b = secondname))"
   ]
  },
  {
   "cell_type": "code",
   "execution_count": null,
   "metadata": {
    "collapsed": false
   },
   "outputs": [],
   "source": [
    "## Exercise 53 - Multilevel Dictionary\n",
    "## Question: Print out the last name of the second employee.\n",
    "d = {\"employees\":[{\"firstName\": \"John\", \"lastName\": \"Doe\"},\n",
    "                {\"firstName\": \"Anna\", \"lastName\": \"Smith\"},\n",
    "                {\"firstName\": \"Peter\", \"lastName\": \"Jones\"}],\n",
    "\"owners\":[{\"firstName\": \"Jack\", \"lastName\": \"Petter\"},\n",
    "          {\"firstName\": \"Jessy\", \"lastName\": \"Petter\"}]}"
   ]
  },
  {
   "cell_type": "code",
   "execution_count": null,
   "metadata": {
    "collapsed": false
   },
   "outputs": [],
   "source": [
    "d[\"employees\"][1][\"lastName\"]"
   ]
  },
  {
   "cell_type": "code",
   "execution_count": null,
   "metadata": {
    "collapsed": true
   },
   "outputs": [],
   "source": [
    "## Exercise 54 - Modifying Multilevel Dictionaries\n",
    "## Question: Please update the dictionary \n",
    "## by changing the last name of the second employee from Smith to Smooth or to whatever takes your fancy.\n",
    "d = {\"employees\":[{\"firstName\": \"John\", \"lastName\": \"Doe\"},\n",
    "                {\"firstName\": \"Anna\", \"lastName\": \"Smith\"},\n",
    "                {\"firstName\": \"Peter\", \"lastName\": \"Jones\"}],\n",
    "\"owners\":[{\"firstName\": \"Jack\", \"lastName\": \"Petter\"},\n",
    "          {\"firstName\": \"Jessy\", \"lastName\": \"Petter\"}]}"
   ]
  },
  {
   "cell_type": "code",
   "execution_count": null,
   "metadata": {
    "collapsed": false
   },
   "outputs": [],
   "source": [
    "d[\"employees\"][1][\"lastName\"] = \"Smooth\"\n",
    "d"
   ]
  },
  {
   "cell_type": "code",
   "execution_count": null,
   "metadata": {
    "collapsed": true
   },
   "outputs": [],
   "source": [
    "## Exercise 55 - Adding to Multilevel Dictionaries\n",
    "## Question: Please add a new employee to the dictionary.\n",
    "d = {\"employees\":[{\"firstName\": \"John\", \"lastName\": \"Doe\"},\n",
    "                {\"firstName\": \"Anna\", \"lastName\": \"Smith\"},\n",
    "                {\"firstName\": \"Peter\", \"lastName\": \"Jones\"}],\n",
    "\"owners\":[{\"firstName\": \"Jack\", \"lastName\": \"Petter\"},\n",
    "          {\"firstName\": \"Jessy\", \"lastName\": \"Petter\"}]}"
   ]
  },
  {
   "cell_type": "code",
   "execution_count": null,
   "metadata": {
    "collapsed": false
   },
   "outputs": [],
   "source": [
    "d[\"employees\"].append({\"firstName\": \"Albert\", \"lastName\": \"Bert\"})\n",
    "d"
   ]
  },
  {
   "cell_type": "code",
   "execution_count": null,
   "metadata": {
    "collapsed": true
   },
   "outputs": [],
   "source": [
    "## Exercise 56 - Dictionary to JSON\n",
    "## Question: Store the dictionary in a json file.\n",
    "d = {\"employees\":[{\"firstName\": \"John\", \"lastName\": \"Doe\"},\n",
    "                {\"firstName\": \"Anna\", \"lastName\": \"Smith\"},\n",
    "                {\"firstName\": \"Peter\", \"lastName\": \"Jones\"}],\n",
    "\"owners\":[{\"firstName\": \"Jack\", \"lastName\": \"Petter\"},\n",
    "          {\"firstName\": \"Jessy\", \"lastName\": \"Petter\"}]}"
   ]
  },
  {
   "cell_type": "code",
   "execution_count": null,
   "metadata": {
    "collapsed": false
   },
   "outputs": [],
   "source": [
    "import json\n",
    "# Need to import json library\n",
    "with open('d_jason.txt', 'w') as outfile:\n",
    "# Create a file writeable\n",
    "    json.dump(d, outfile, indent=4, sort_keys=True)\n",
    "    # dump the dictionary to the file\n",
    "    # indent nicely\n",
    "## indent=4  will create 4 white spaces to indent the different levels of the dictionary items \n",
    "## sort_keys=True  tells Python to preserve the order of the dictionary thrown in the file."
   ]
  },
  {
   "cell_type": "code",
   "execution_count": null,
   "metadata": {
    "collapsed": false
   },
   "outputs": [],
   "source": [
    "## Exercise 57 - JSON to Dictionary\n",
    "## Question: Please download the file in the attachment \n",
    "## use Python to print out its content.\n",
    "import json\n",
    "with open(\"company1.json\", \"r\") as file:\n",
    "    my_file = json.loads(file.read())\n",
    "    pprint(my_file)\n",
    "## Data pretty printer"
   ]
  },
  {
   "cell_type": "code",
   "execution_count": null,
   "metadata": {
    "collapsed": false
   },
   "outputs": [],
   "source": [
    "## Alternatively\n",
    "from pprint import pprint\n",
    " \n",
    "with open(\"company1.json\",\"r\") as file:\n",
    "    d = json.loads(file.read())\n",
    " \n",
    "pprint(d)"
   ]
  },
  {
   "cell_type": "code",
   "execution_count": null,
   "metadata": {
    "collapsed": false
   },
   "outputs": [],
   "source": [
    "## Exercise 58 - Add to JSON\n",
    "## Question: Please download the json file in the attachment and use Python \n",
    "## add a new employee to the content of the file so that the file looks like in the expected output below.\n",
    "import json\n",
    "with open(\"company1_58.json\", \"r+\") as file: ## r+ means read and write mode\n",
    "    my_file = json.loads(file.read())\n",
    "    ## Need json.loads file to properly load the json file and convert to dictionary\n",
    "    my_file[\"employees\"].append({'firstName': 'Albert', 'lastName': 'Bert'})\n",
    "with open(\"company_2.json\", \"w\") as newfile:\n",
    "    json.dump(my_file, newfile, indent=4, sort_keys=True)\n",
    "    ## Need json dump to generate new file in json format properly"
   ]
  },
  {
   "cell_type": "code",
   "execution_count": null,
   "metadata": {
    "collapsed": false
   },
   "outputs": [],
   "source": [
    "## Exercise 59 - Enumerator\n",
    "## Question: Please complete the code so that it prints out the expected output.\n",
    "## Item 1 has index 0\n",
    "## Item 2 has index 1\n",
    "## Item 3 has index 2\n",
    "a = [1,2,3]\n",
    "for item in a:\n",
    "    print(\"item \", item, \" has index \", a.index(item))"
   ]
  },
  {
   "cell_type": "code",
   "execution_count": null,
   "metadata": {
    "collapsed": false
   },
   "outputs": [],
   "source": [
    "## alternatively\n",
    "for index, item in enumerate(a):\n",
    "    print(\"item {a} has index of {b}\".format(a = item, b = index))"
   ]
  },
  {
   "cell_type": "code",
   "execution_count": null,
   "metadata": {
    "collapsed": true
   },
   "outputs": [],
   "source": [
    "## Exercise 60 - Infinite loop\n",
    "## Write in comment, as it's a dead loop\n",
    "##while True:\n",
    "##    print(\"Hello\")"
   ]
  },
  {
   "cell_type": "code",
   "execution_count": null,
   "metadata": {
    "collapsed": false
   },
   "outputs": [],
   "source": [
    "## Exercise 61 - Timed Printer\n",
    "\n",
    "def update():\n",
    "    i = 1\n",
    "    import time\n",
    "    while i <= 5:\n",
    "        print ('Hello World!')\n",
    "        time.sleep(2)\n",
    "        i += 1\n",
    "update()"
   ]
  },
  {
   "cell_type": "code",
   "execution_count": null,
   "metadata": {
    "collapsed": false
   },
   "outputs": [],
   "source": [
    "## Alternatively\n",
    "import time\n",
    " \n",
    "for i in range(1,10): # Avoid endless loop\n",
    "    print(\"Hello\")\n",
    "    time.sleep(2)"
   ]
  },
  {
   "cell_type": "code",
   "execution_count": null,
   "metadata": {
    "collapsed": false
   },
   "outputs": [],
   "source": [
    "## Exercise 62 - Progressive Timed Printer\n",
    "## Question: Create a program that once executed the program prints Hello  instantly first, \n",
    "## then it prints it after 1 second, then after 2, 3, 4, and so on the interval increases between prints.\n",
    "import time\n",
    "i = 1\n",
    "while i <= 5:\n",
    "    print(\"Hello\")\n",
    "    time.sleep(i)\n",
    "    i += 1"
   ]
  },
  {
   "cell_type": "code",
   "execution_count": null,
   "metadata": {
    "collapsed": false
   },
   "outputs": [],
   "source": [
    "## Exercise 63 - Progressive Time Printer with Threshold\n",
    "## Question: Create a program that once executed the programs prints Hello  \n",
    "## instantly first, then it prints it after 1 second, then after 2, 3, \n",
    "## and then the program prints out the message \"End of the Loop\" and stops.\n",
    "print(\"Already finished\")"
   ]
  },
  {
   "cell_type": "code",
   "execution_count": null,
   "metadata": {
    "collapsed": false
   },
   "outputs": [],
   "source": [
    "## Exercise 64 - Next\n",
    "while True:\n",
    "    print(\"Hello\")\n",
    "    if 2 > 1:\n",
    "        next\n",
    "    print(\"Hi\")\n",
    "    break"
   ]
  },
  {
   "cell_type": "code",
   "execution_count": null,
   "metadata": {
    "collapsed": true
   },
   "outputs": [],
   "source": [
    "## Exercise 65 - continue\n",
    "## while True:\n",
    "##    print(\"Hello\")\n",
    "##    if 2 > 1:\n",
    "##        continue\n",
    "##    print(\"Hi\")\n",
    "##    break"
   ]
  },
  {
   "cell_type": "code",
   "execution_count": null,
   "metadata": {
    "collapsed": false
   },
   "outputs": [],
   "source": [
    "## Exercise 66 - Translator\n",
    "d = dict(weather = \"clima\", earth = \"terra\", rain = \"chuva\") \n",
    "\n",
    "def translator():\n",
    "    input_word = input(\"Please enter a word: \")\n",
    "    print((d[input_word]))"
   ]
  },
  {
   "cell_type": "code",
   "execution_count": null,
   "metadata": {
    "collapsed": false
   },
   "outputs": [],
   "source": [
    "translator()"
   ]
  },
  {
   "cell_type": "code",
   "execution_count": null,
   "metadata": {
    "collapsed": false
   },
   "outputs": [],
   "source": [
    "## Exercise 67 - Advanced Translator\n",
    "d = dict(weather = \"clima\", earth = \"terra\", rain = \"chuva\")\n",
    "def translator():\n",
    "    input_word = input(\"Please enter a word: \")\n",
    "    if input_word in d:\n",
    "        print(d[input_word])\n",
    "    else:\n",
    "        print(\"We can't find that word!\")\n",
    "translator()"
   ]
  },
  {
   "cell_type": "code",
   "execution_count": null,
   "metadata": {
    "collapsed": false
   },
   "outputs": [],
   "source": [
    "## Alternatively\n",
    "def translator_2():\n",
    "    input_word = input(\"Enter a word: \")\n",
    "    try:\n",
    "        return d[input_word]\n",
    "    except KeyError:\n",
    "        return \"That word does not exist\"\n",
    "\n",
    "translator_2()"
   ]
  },
  {
   "cell_type": "code",
   "execution_count": null,
   "metadata": {
    "collapsed": false
   },
   "outputs": [],
   "source": [
    "## Exercise 68 - User Friendly Translator\n",
    "## non case sensitive\n",
    "def translator_2():\n",
    "    input_word = str.lower(input(\"Enter a word: \"))\n",
    "    try:\n",
    "        return d[input_word]\n",
    "    except KeyError:\n",
    "        return \"That word does not exist\"\n",
    "\n",
    "translator_2()"
   ]
  },
  {
   "cell_type": "code",
   "execution_count": null,
   "metadata": {
    "collapsed": true
   },
   "outputs": [],
   "source": [
    "## Exercise 69 - Requests\n",
    "with open(\"requests.py\", \"w+\") as file:\n",
    "    text = (\"import requests\\n\\nr = requests.get('http://www.pythonhow.com')\\nprint(r.text[:100])\")\n",
    "    file.write(text)"
   ]
  },
  {
   "cell_type": "code",
   "execution_count": null,
   "metadata": {
    "collapsed": false
   },
   "outputs": [],
   "source": [
    "# %load requests.py\n",
    "# %run requests.py\n",
    "import requests\n",
    "\n",
    "r = requests.get('http://www.pythonhow.com')\n",
    "print(r.text[:100])"
   ]
  },
  {
   "cell_type": "code",
   "execution_count": null,
   "metadata": {
    "collapsed": true
   },
   "outputs": [],
   "source": [
    "import os\n",
    "os.rename(\"requests.py\", \"ex_requests.py\")\n",
    "## file name should not be the same as module name"
   ]
  },
  {
   "cell_type": "code",
   "execution_count": null,
   "metadata": {
    "collapsed": false
   },
   "outputs": [],
   "source": [
    "## Exercise 70 - File from URL\n",
    "import requests\n",
    "r = requests.get(\"http://www.pythonhow.com/data/universe.txt\")\n",
    "print(r.text)"
   ]
  },
  {
   "cell_type": "code",
   "execution_count": null,
   "metadata": {
    "collapsed": false
   },
   "outputs": [],
   "source": [
    "## Exercise 71 - Letter Counter\n",
    "r = requests.get(\"http://www.pythonhow.com/data/universe.txt\")\n",
    "r = r.text\n",
    "my_array = r.split(\" \")\n",
    "len(my_array)\n",
    "r.count(\"a\")"
   ]
  },
  {
   "cell_type": "code",
   "execution_count": null,
   "metadata": {
    "collapsed": false
   },
   "outputs": [],
   "source": [
    "## Exercise 72 - search term\n",
    "from google import search\n",
    "import requests\n",
    "import urllib\n",
    "import webbrowser\n",
    "\n",
    "\n",
    "for url in search(input(\"Enter a word to search: \"), stop=1):\n",
    "    webbrowser.open_new(url)\n",
    "## Open all links on the first page"
   ]
  },
  {
   "cell_type": "code",
   "execution_count": null,
   "metadata": {
    "collapsed": false
   },
   "outputs": [],
   "source": [
    "## Alternatively\n",
    "import webbrowser\n",
    " \n",
    "query = input(\"Enter your Google query: \")\n",
    "url = \"https://www.google.com/?gws_rd=cr,ssl&ei=NCZFWIOJN8yMsgHCyLV4&fg=1#q=%s\" % str(query)\n",
    "webbrowser.open_new(url)"
   ]
  },
  {
   "cell_type": "code",
   "execution_count": null,
   "metadata": {
    "collapsed": false
   },
   "outputs": [],
   "source": [
    "## Exercise 73 - Get contents from URL\n",
    "import pandas as pd\n",
    "r = pd.read_csv(\"http://pythonhow.com/data/sampledata.txt\")\n",
    "r_2 = r * 2\n",
    "r_2.to_csv(\"sampledata_2.txt\", index=None)"
   ]
  },
  {
   "cell_type": "code",
   "execution_count": null,
   "metadata": {
    "collapsed": false
   },
   "outputs": [],
   "source": [
    "## Exercise 74 - File Concatenator\n",
    "r_a = pd.read_csv(\"sampledata.txt\")\n",
    "r_b = pd.read_csv(\"sampledata_x_2.txt\")\n",
    "r_c = pd.concat([r_a, r_b])\n",
    "r_c.to_csv(\"sampledata_3.txt\", index=None)"
   ]
  },
  {
   "cell_type": "code",
   "execution_count": null,
   "metadata": {
    "collapsed": false
   },
   "outputs": [],
   "source": [
    "with open(\"sampledata_3.txt\", \"r+\") as file:\n",
    "    print(file.read())"
   ]
  },
  {
   "cell_type": "code",
   "execution_count": null,
   "metadata": {
    "collapsed": false
   },
   "outputs": [],
   "source": [
    "## Exercise 75 - Plot\n",
    "import matplotlib.pyplot as plt\n",
    "%matplotlib inline\n",
    "r = pd.read_csv(\"http://pythonhow.com/data/sampledata.txt\")\n",
    "fig = plt.figure()\n",
    "fig_axes = fig.add_axes([0,0,1,1])\n",
    "fig_axes.scatter(r[\"x\"], r[\"y\"])"
   ]
  },
  {
   "cell_type": "code",
   "execution_count": null,
   "metadata": {
    "collapsed": false
   },
   "outputs": [],
   "source": [
    "## Exercise 76 - Print curren time\n",
    "from datetime import datetime\n",
    " \n",
    "print(datetime.now().strftime(\"Today is %A, %B %d, %Y\"))\n",
    "## for example, %A  would extract the day, %B  the year, %d  the date, and %Y  the year. "
   ]
  },
  {
   "cell_type": "code",
   "execution_count": null,
   "metadata": {
    "collapsed": false
   },
   "outputs": [],
   "source": [
    "## Exercise 77 - Year of Birth Calculator\n",
    "your_age = int(input(\"Enter your age: \"))\n",
    "current_year = datetime.now().year\n",
    "print(\"You were born back in\", current_year - your_age)"
   ]
  },
  {
   "cell_type": "code",
   "execution_count": null,
   "metadata": {
    "collapsed": false
   },
   "outputs": [],
   "source": [
    "## Exercise 78 - Password generator\n",
    "from string import ascii_letters\n",
    "import random\n",
    "my_range = list(ascii_letters)+list(\"0123456789\")+list(\"!@#$%^&*()\")\n",
    "my_pass = []\n",
    "for i in range(6):\n",
    "    my_pass.append(random.choice(my_range))\n",
    "print(my_pass)"
   ]
  },
  {
   "cell_type": "code",
   "execution_count": 5,
   "metadata": {
    "collapsed": false
   },
   "outputs": [
    {
     "name": "stdout",
     "output_type": "stream",
     "text": [
      "Enter your password: 123E\n",
      "Password not fine, length is not long enough\n",
      "Password not fine, does not contain number\n",
      "Password not fine, does not contain upper\n"
     ]
    }
   ],
   "source": [
    "## Exercise 79 - Password checker\n",
    "from string import ascii_uppercase\n",
    "\n",
    "def pass_lenth_check(password):\n",
    "    if len(password) < 5:\n",
    "        print(\"Password not fine, length is not long enough\")\n",
    "        \n",
    "def num_check(password):\n",
    "    for letter in list(password):\n",
    "        if letter not in list(\"0123456789\"):\n",
    "            print(\"Password not fine, does not contain number\")\n",
    "            break\n",
    "    \n",
    "def upper_check(password):\n",
    "    for letter in list(password):\n",
    "        if letter not in ascii_uppercase:\n",
    "            print(\"Password not fine, does not contain upper\")\n",
    "            break\n",
    "            \n",
    "def run():\n",
    "    password = list(input(\"Enter your password: \"))\n",
    "    pass_lenth_check(password)\n",
    "    num_check(password)\n",
    "    upper_check(password)\n",
    "\n",
    "run()"
   ]
  },
  {
   "cell_type": "code",
   "execution_count": 7,
   "metadata": {
    "collapsed": false
   },
   "outputs": [
    {
     "name": "stdout",
     "output_type": "stream",
     "text": [
      "Enter new passworld: 123E\n",
      "Password is not fine\n",
      "Enter new passworld: 1234E\n",
      "Password is not fine\n",
      "Enter new passworld: 12345E\n",
      "Password is fine\n"
     ]
    }
   ],
   "source": [
    "## Correct Solution\n",
    "while True:\n",
    "    psw = input(\"Enter new passworld: \")\n",
    "    if any(i.isdigit() for i in psw) and any(i.isupper() for i in psw) and len(psw) > 5:\n",
    "        print(\"Password is fine\")\n",
    "        break\n",
    "    else:\n",
    "        print(\"Password is not fine\")"
   ]
  },
  {
   "cell_type": "code",
   "execution_count": 8,
   "metadata": {
    "collapsed": false
   },
   "outputs": [
    {
     "name": "stdout",
     "output_type": "stream",
     "text": [
      "Enter new password: 123\n",
      "Password is not fine, it should contain a upper letter\n",
      "Enter new password: 123U\n",
      "Password is not fine, the length is not enough\n",
      "Enter new password: 123U45\n",
      "Password is fine\n"
     ]
    }
   ],
   "source": [
    "## Exercise 80 - Advanced password generator\n",
    "while True:\n",
    "    psw = input(\"Enter new password: \")\n",
    "    if not(any(i.isdigit() for i in psw)):\n",
    "        print(\"Password is not fine, it should contain a number\")\n",
    "    elif not(any(i.isupper() for i in psw)):\n",
    "        print(\"Password is not fine, it should contain a upper letter\")\n",
    "    elif not(len(psw)>5):\n",
    "        print(\"Password is not fine, the length is not enough\")\n",
    "    else:\n",
    "        print(\"Password is fine\")\n",
    "        break"
   ]
  },
  {
   "cell_type": "code",
   "execution_count": 10,
   "metadata": {
    "collapsed": false
   },
   "outputs": [
    {
     "name": "stdout",
     "output_type": "stream",
     "text": [
      "Enter your password: 123\n",
      "Please check the following: \n",
      "Password is not fine, it should contain an upper letter\n",
      "You need at least 5 characters\n",
      "Enter your password: 1234E\n",
      "Your password is fine\n"
     ]
    }
   ],
   "source": [
    "## Alternatively\n",
    "while True:\n",
    "    note = []\n",
    "    psw = input(\"Enter your password: \")\n",
    "    if not(any(i.isdigit() for i in psw)):\n",
    "        note.append(\"Password is not fine, it should contain a number\")\n",
    "    if not(any(i.isupper() for i in psw)):\n",
    "        note.append(\"Password is not fine, it should contain an upper letter\")\n",
    "    if not(len(psw)>=5):\n",
    "        note.append(\"You need at least 5 characters\")\n",
    "    if not(len(note)):\n",
    "        print(\"Your password is fine\")\n",
    "        break\n",
    "    else:\n",
    "        print(\"Please check the following: \")\n",
    "        for item in note:\n",
    "            print(item)       "
   ]
  },
  {
   "cell_type": "code",
   "execution_count": 25,
   "metadata": {
    "collapsed": false
   },
   "outputs": [],
   "source": [
    "## Exercise 81 - Advanced Password Creator with Username check\n",
    "with open(\"usernames.txt\", \"r+\") as file:\n",
    "    usernames = file.readlines()\n",
    "    usernames = [i.strip(\"\\n\") for i in usernames]"
   ]
  },
  {
   "cell_type": "code",
   "execution_count": 22,
   "metadata": {
    "collapsed": false
   },
   "outputs": [
    {
     "name": "stdout",
     "output_type": "stream",
     "text": [
      "Enter your username: Isaac\n",
      "Username already exists, enter a new one\n",
      "Enter your username: Zhou\n",
      "Username already exists, enter a new one\n",
      "Enter your username: \n",
      "Username already exists, enter a new one\n",
      "Enter your username: John\n",
      "Username is fine\n",
      "Enter your password: 1234E\n",
      "Your password is fine\n"
     ]
    }
   ],
   "source": [
    "## Username check\n",
    "while True:\n",
    "    input_name = input(\"Enter your username: \")\n",
    "    if input_name in usernames:\n",
    "        print(\"Username already exists, enter a new one\")\n",
    "    else:\n",
    "        usernames.append(input_name)\n",
    "        print(\"Username is fine\")\n",
    "        break\n",
    "## Enter password\n",
    "while True:\n",
    "    note = []\n",
    "    psw = input(\"Enter your password: \")\n",
    "    if not(any(i.isdigit() for i in psw)):\n",
    "        note.append(\"Password is not fine, it should contain a number\")\n",
    "    if not(any(i.isupper() for i in psw)):\n",
    "        note.append(\"Password is not fine, it should contain an upper letter\")\n",
    "    if not(len(psw)>=5):\n",
    "        note.append(\"You need at least 5 characters\")\n",
    "    if not(len(note)):\n",
    "        print(\"Your password is fine\")\n",
    "        break\n",
    "    else:\n",
    "        print(\"Please check the following: \")\n",
    "        for item in note:\n",
    "            print(item)       "
   ]
  },
  {
   "cell_type": "code",
   "execution_count": 27,
   "metadata": {
    "collapsed": false
   },
   "outputs": [
    {
     "name": "stdout",
     "output_type": "stream",
     "text": [
      "758085657.5026425\n"
     ]
    }
   ],
   "source": [
    "## Exercise 82 - Computer distanaces\n",
    "import ephem\n",
    "jupiter = ephem.Jupiter()\n",
    "jupiter.compute(\"1230/1/1\")\n",
    "distance_au_units = jupiter.sun_distance\n",
    "distance_km = distance_au_units * 149597870.691\n",
    "print(distance_km)"
   ]
  },
  {
   "cell_type": "code",
   "execution_count": 37,
   "metadata": {
    "collapsed": false
   },
   "outputs": [],
   "source": [
    "## Exercise 83 - Monitor size detector\n",
    "## Will not work on Mac\n",
    "## from screeninfo import get_monitors\n",
    "## for m in get_monitors():\n",
    "##    print(str(m))"
   ]
  },
  {
   "cell_type": "code",
   "execution_count": 40,
   "metadata": {
    "collapsed": false
   },
   "outputs": [],
   "source": [
    "## Exercise 84 - User pyglet print hello world\n",
    "import pyglet\n",
    "window = pyglet.window.Window()\n",
    "\n",
    "label = pyglet.text.Label('Hello, world',\n",
    "                          font_name='Hevelica',\n",
    "                          font_size=36,\n",
    "                          x=window.width//2, y=window.height//2,\n",
    "                          anchor_x='center', anchor_y='center')\n",
    "\n",
    "@window.event\n",
    "def on_draw():\n",
    "    window.clear()\n",
    "    label.draw()\n",
    "\n",
    "pyglet.app.run()"
   ]
  },
  {
   "cell_type": "code",
   "execution_count": 41,
   "metadata": {
    "collapsed": true
   },
   "outputs": [],
   "source": [
    "## Exercise 85 - Not sure what the task is"
   ]
  },
  {
   "cell_type": "code",
   "execution_count": 2,
   "metadata": {
    "collapsed": false
   },
   "outputs": [
    {
     "data": {
      "text/plain": [
       "['Portugal', 'Germany', 'Spain']"
      ]
     },
     "execution_count": 2,
     "metadata": {},
     "output_type": "execute_result"
    }
   ],
   "source": [
    "## Exercise 86 - Data Checker\n",
    "checklist = [\"Portugal\", \"Germany\", \"Munster\", \"Spain\"]\n",
    "country_list = [\"Portugal\", \"Germany\", \"USA\", \"Spain\"]\n",
    "my_filter = [item for item in checklist if item in country_list]\n",
    "my_filter"
   ]
  },
  {
   "cell_type": "code",
   "execution_count": 3,
   "metadata": {
    "collapsed": true
   },
   "outputs": [],
   "source": [
    "## Exercise 87, 88"
   ]
  },
  {
   "cell_type": "code",
   "execution_count": 6,
   "metadata": {
    "collapsed": false
   },
   "outputs": [
    {
     "name": "stdout",
     "output_type": "stream",
     "text": [
      "Russia\n",
      "Canada\n",
      "United States of America\n",
      "China\n",
      "Brazil\n",
      "Australia\n",
      "India\n",
      "Argentina\n",
      "Kazakhstan\n",
      "Algeria\n",
      "Congo Dem Rep of the\n",
      "Greenland\n",
      "Saudi Arabia\n"
     ]
    }
   ],
   "source": [
    "## Excercise 89 Database filter\n",
    "import sqlite3\n",
    "# import sqlite3\n",
    "conn = sqlite3.connect(\"database.db\")\n",
    "# create connection\n",
    "cur = conn.cursor()\n",
    "# Create a cursor object\n",
    "cur.execute(\"SELECT country FROM countries WHERE area >= 2000000\")\n",
    "rows = cur.fetchall()\n",
    "conn.close()\n",
    "\n",
    "for i in rows:\n",
    "    print(i[0])"
   ]
  },
  {
   "cell_type": "code",
   "execution_count": 12,
   "metadata": {
    "collapsed": true
   },
   "outputs": [],
   "source": [
    "## Exercise 90 Database to csv converter\n",
    "import sqlite3\n",
    "import pandas as pd\n",
    "# Create your connection.\n",
    "cnx = sqlite3.connect('database.db')\n",
    "\n",
    "df = pd.read_sql_query(\"SELECT * FROM countries WHERE area >= 2000000\", cnx)\n",
    "df.to_csv(\"Countries Over 2M.csv\", index=False)"
   ]
  },
  {
   "cell_type": "code",
   "execution_count": 56,
   "metadata": {
    "collapsed": false
   },
   "outputs": [],
   "source": [
    "## Excercise 91 add csv to Database\n",
    "cnx = sqlite3.connect('database.db')\n",
    "\n",
    "df_1 = pd.read_sql_query(\"SELECT * FROM countries\", cnx)\n",
    "df_1 = df_1.ix[:,:3]\n",
    "df_2 = pd.read_csv(\"ten-more-countries.txt\")\n",
    "df_2.columns = df_1.columns\n",
    "frame = [df_1, df_2]\n",
    "df_3 = pd.concat(frame)\n",
    "df_3.to_sql('db_table2.db', cnx, if_exists='replace')"
   ]
  },
  {
   "cell_type": "code",
   "execution_count": 57,
   "metadata": {
    "collapsed": false
   },
   "outputs": [
    {
     "name": "stdout",
     "output_type": "stream",
     "text": [
      "Spain 499401\n",
      "Turkmenistan 488100\n",
      "Cameroon 469440\n",
      "Papua New Guinea 451709\n",
      "Uzbekistan 447400\n",
      "Morocco 446301\n",
      "Iraq 433970\n",
      "Sweden 411621\n",
      "Paraguay 397301\n",
      "Japan 394744\n"
     ]
    }
   ],
   "source": [
    "## Alternatively\n",
    "data = pd.read_csv(\"ten-more-countries.txt\")\n",
    "conn = sqlite3.connect(\"database.db\")\n",
    "cur = conn.cursor()\n",
    "for index, row in data.iterrows():\n",
    "    print(row[\"Country\"], row[\"Area\"])\n",
    "    cur.execute(\"INSERT INTO countries VALUES (NULL, ?, ?, NULL)\",(row[\"Country\"], row[\"Area\"]))\n",
    "conn.commit()\n",
    "conn.close()"
   ]
  },
  {
   "cell_type": "code",
   "execution_count": 62,
   "metadata": {
    "collapsed": false
   },
   "outputs": [
    {
     "data": {
      "text/plain": [
       "26"
      ]
     },
     "execution_count": 62,
     "metadata": {},
     "output_type": "execute_result"
    }
   ],
   "source": [
    "## Exercise 92 - Count number of files under a folder\n",
    "import os\n",
    "my_path = \"/Users/isaac/PrimerPy/100Qs/letters\"\n",
    "len([name for name in os.listdir(my_path)])"
   ]
  },
  {
   "cell_type": "code",
   "execution_count": null,
   "metadata": {
    "collapsed": true
   },
   "outputs": [],
   "source": [
    "## Exercise 93 - Recursive files\n",
    "## Exercise 94 - URL Cleaner\n",
    "## Exercise 95\n",
    "## Exercise 96"
   ]
  }
 ],
 "metadata": {
  "anaconda-cloud": {},
  "kernelspec": {
   "display_name": "Python [default]",
   "language": "python",
   "name": "python3"
  },
  "language_info": {
   "codemirror_mode": {
    "name": "ipython",
    "version": 3
   },
   "file_extension": ".py",
   "mimetype": "text/x-python",
   "name": "python",
   "nbconvert_exporter": "python",
   "pygments_lexer": "ipython3",
   "version": "3.5.2"
  }
 },
 "nbformat": 4,
 "nbformat_minor": 1
}
