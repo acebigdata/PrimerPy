{
 "cells": [
  {
   "cell_type": "code",
   "execution_count": 39,
   "metadata": {
    "collapsed": false
   },
   "outputs": [],
   "source": [
    "import numpy as np\n",
    "import pandas as pd\n",
    "import sqlite3\n",
    "import sys\n",
    "import sqlalchemy\n",
    "from ipywidgets import *\n",
    "import ipywidgets as widgets\n",
    "from IPython.display import display\n",
    "from traitlets import link"
   ]
  },
  {
   "cell_type": "markdown",
   "metadata": {},
   "source": [
    "# 1 Database Selection"
   ]
  },
  {
   "cell_type": "code",
   "execution_count": 44,
   "metadata": {
    "collapsed": false
   },
   "outputs": [],
   "source": [
    "database_frequencies = widgets.Dropdown(\n",
    "    options=['AVA_FY', 'AVA_CY', 'AVA_FQ', 'AVA_CQ'],\n",
    "    value='AVA_FY',\n",
    "    description=\"Selected Database: \",\n",
    ")\n",
    "display(database_frequencies)"
   ]
  },
  {
   "cell_type": "code",
   "execution_count": 45,
   "metadata": {
    "collapsed": false
   },
   "outputs": [
    {
     "data": {
      "text/plain": [
       "'AVA_FY'"
      ]
     },
     "execution_count": 45,
     "metadata": {},
     "output_type": "execute_result"
    }
   ],
   "source": [
    "database_frequencies.value"
   ]
  },
  {
   "cell_type": "code",
   "execution_count": 46,
   "metadata": {
    "collapsed": false
   },
   "outputs": [
    {
     "name": "stdout",
     "output_type": "stream",
     "text": [
      "Database AVA_FY Connection Established\n"
     ]
    }
   ],
   "source": [
    "#Loading database after selection\n",
    "## Connecting database\n",
    "db_conn = sqlite3.connect(database_frequencies.value+'.db')\n",
    "db_cur = db_conn.cursor()\n",
    "print (\"Database \"+ database_frequencies.value +\" Connection Established\")"
   ]
  },
  {
   "cell_type": "markdown",
   "metadata": {},
   "source": [
    "## 1.1 Database loading"
   ]
  },
  {
   "cell_type": "code",
   "execution_count": 47,
   "metadata": {
    "collapsed": false
   },
   "outputs": [],
   "source": [
    "#load all tables\n",
    "db_cur.execute(\"SELECT name FROM sqlite_master WHERE type='table';\")\n",
    "metric_tables = db_cur.fetchall()\n",
    "metric_names = [i[0] for i in metric_tables]\n",
    "var_names = [name.replace(\" \", \"_\") for name in metric_names]\n",
    "df_ava = {}\n",
    "for i in range(len(var_names)):\n",
    "    sql_query = 'SELECT * FROM \"{table_name}\"'.format(table_name=metric_names[i])\n",
    "    key = metric_names[i]\n",
    "    value = pd.read_sql(sql_query, db_conn)\n",
    "    df_ava[key] = value"
   ]
  },
  {
   "cell_type": "code",
   "execution_count": 48,
   "metadata": {
    "collapsed": false
   },
   "outputs": [
    {
     "data": {
      "text/html": [
       "<div>\n",
       "<table border=\"1\" class=\"dataframe\">\n",
       "  <thead>\n",
       "    <tr style=\"text-align: right;\">\n",
       "      <th></th>\n",
       "      <th>index</th>\n",
       "      <th>EBITDA</th>\n",
       "      <th>Company Name</th>\n",
       "      <th>Exchange:Ticker</th>\n",
       "      <th>Country</th>\n",
       "      <th>Region</th>\n",
       "      <th>Primary Industry</th>\n",
       "      <th>AV Industry</th>\n",
       "      <th>AV Sector</th>\n",
       "      <th>FY1998</th>\n",
       "      <th>...</th>\n",
       "      <th>FY2008</th>\n",
       "      <th>FY2009</th>\n",
       "      <th>FY2010</th>\n",
       "      <th>FY2011</th>\n",
       "      <th>FY2012</th>\n",
       "      <th>FY2013</th>\n",
       "      <th>FY2014</th>\n",
       "      <th>FY2015</th>\n",
       "      <th>FY2016</th>\n",
       "      <th>IQ_LTM</th>\n",
       "    </tr>\n",
       "  </thead>\n",
       "  <tbody>\n",
       "    <tr>\n",
       "      <th>0</th>\n",
       "      <td>0</td>\n",
       "      <td>IQ_EBITDA</td>\n",
       "      <td>Wal-Mart Stores, Inc. (NYSE:WMT)</td>\n",
       "      <td>NYSE:WMT</td>\n",
       "      <td>United States</td>\n",
       "      <td>North America</td>\n",
       "      <td>Hypermarkets and Super Centers</td>\n",
       "      <td>Services</td>\n",
       "      <td>Retail</td>\n",
       "      <td>8137</td>\n",
       "      <td>...</td>\n",
       "      <td>28496</td>\n",
       "      <td>29889</td>\n",
       "      <td>31663</td>\n",
       "      <td>33183</td>\n",
       "      <td>34688</td>\n",
       "      <td>36302</td>\n",
       "      <td>35742</td>\n",
       "      <td>36569</td>\n",
       "      <td>33559</td>\n",
       "      <td>33006</td>\n",
       "    </tr>\n",
       "    <tr>\n",
       "      <th>1</th>\n",
       "      <td>1</td>\n",
       "      <td>None</td>\n",
       "      <td>Toyota Motor Corporation (TSE:7203)</td>\n",
       "      <td>TSE:7203</td>\n",
       "      <td>Japan</td>\n",
       "      <td>Asia-Pacific</td>\n",
       "      <td>Automobile Manufacturers</td>\n",
       "      <td>Auto &amp; Transportation</td>\n",
       "      <td>Auto OEM</td>\n",
       "      <td>12153.15587</td>\n",
       "      <td>...</td>\n",
       "      <td>32886.08073</td>\n",
       "      <td>9041.43186</td>\n",
       "      <td>13656.97643</td>\n",
       "      <td>14371.8479</td>\n",
       "      <td>12444.98136</td>\n",
       "      <td>21996.82586</td>\n",
       "      <td>30975.38834</td>\n",
       "      <td>36265.38002</td>\n",
       "      <td>39166.00715</td>\n",
       "      <td>32128.88543</td>\n",
       "    </tr>\n",
       "    <tr>\n",
       "      <th>2</th>\n",
       "      <td>2</td>\n",
       "      <td>None</td>\n",
       "      <td>Volkswagen Aktiengesellschaft (XTRA:VOW3)</td>\n",
       "      <td>XTRA:VOW3</td>\n",
       "      <td>Germany</td>\n",
       "      <td>Europe</td>\n",
       "      <td>Automobile Manufacturers</td>\n",
       "      <td>Auto &amp; Transportation</td>\n",
       "      <td>Auto OEM</td>\n",
       "      <td>2760.06231</td>\n",
       "      <td>...</td>\n",
       "      <td>10854.28722</td>\n",
       "      <td>7629.6686</td>\n",
       "      <td>12999.47396</td>\n",
       "      <td>17576.9595</td>\n",
       "      <td>20436.61231</td>\n",
       "      <td>19825.35508</td>\n",
       "      <td>21605.47081</td>\n",
       "      <td>17198.72476</td>\n",
       "      <td>0</td>\n",
       "      <td>23204.62915</td>\n",
       "    </tr>\n",
       "    <tr>\n",
       "      <th>3</th>\n",
       "      <td>3</td>\n",
       "      <td>None</td>\n",
       "      <td>Royal Dutch Shell plc (ENXTAM:RDSA)</td>\n",
       "      <td>ENXTAM:RDSA</td>\n",
       "      <td>Netherlands</td>\n",
       "      <td>Europe</td>\n",
       "      <td>Integrated Oil and Gas</td>\n",
       "      <td>Resources/Process Material</td>\n",
       "      <td>Oil &amp; Gas</td>\n",
       "      <td>10029</td>\n",
       "      <td>...</td>\n",
       "      <td>56416</td>\n",
       "      <td>29079</td>\n",
       "      <td>41839</td>\n",
       "      <td>55943</td>\n",
       "      <td>52114</td>\n",
       "      <td>48379</td>\n",
       "      <td>44378</td>\n",
       "      <td>23453</td>\n",
       "      <td>0</td>\n",
       "      <td>22113</td>\n",
       "    </tr>\n",
       "    <tr>\n",
       "      <th>4</th>\n",
       "      <td>4</td>\n",
       "      <td>None</td>\n",
       "      <td>Apple Inc. (NasdaqGS:AAPL)</td>\n",
       "      <td>NasdaqGS:AAPL</td>\n",
       "      <td>United States</td>\n",
       "      <td>North America</td>\n",
       "      <td>Technology Hardware, Storage and Peripherals</td>\n",
       "      <td>TIME</td>\n",
       "      <td>Tech HW Equipment</td>\n",
       "      <td>379</td>\n",
       "      <td>...</td>\n",
       "      <td>6721</td>\n",
       "      <td>8336</td>\n",
       "      <td>19364</td>\n",
       "      <td>35574</td>\n",
       "      <td>58518</td>\n",
       "      <td>55756</td>\n",
       "      <td>60449</td>\n",
       "      <td>82487</td>\n",
       "      <td>70529</td>\n",
       "      <td>69750</td>\n",
       "    </tr>\n",
       "  </tbody>\n",
       "</table>\n",
       "<p>5 rows × 29 columns</p>\n",
       "</div>"
      ],
      "text/plain": [
       "   index     EBITDA                               Company Name  \\\n",
       "0      0  IQ_EBITDA           Wal-Mart Stores, Inc. (NYSE:WMT)   \n",
       "1      1       None        Toyota Motor Corporation (TSE:7203)   \n",
       "2      2       None  Volkswagen Aktiengesellschaft (XTRA:VOW3)   \n",
       "3      3       None        Royal Dutch Shell plc (ENXTAM:RDSA)   \n",
       "4      4       None                 Apple Inc. (NasdaqGS:AAPL)   \n",
       "\n",
       "  Exchange:Ticker        Country         Region  \\\n",
       "0        NYSE:WMT  United States  North America   \n",
       "1        TSE:7203          Japan   Asia-Pacific   \n",
       "2       XTRA:VOW3        Germany         Europe   \n",
       "3     ENXTAM:RDSA    Netherlands         Europe   \n",
       "4   NasdaqGS:AAPL  United States  North America   \n",
       "\n",
       "                               Primary Industry                 AV Industry  \\\n",
       "0                Hypermarkets and Super Centers                    Services   \n",
       "1                      Automobile Manufacturers       Auto & Transportation   \n",
       "2                      Automobile Manufacturers       Auto & Transportation   \n",
       "3                        Integrated Oil and Gas  Resources/Process Material   \n",
       "4  Technology Hardware, Storage and Peripherals                        TIME   \n",
       "\n",
       "           AV Sector       FY1998     ...            FY2008      FY2009  \\\n",
       "0             Retail         8137     ...             28496       29889   \n",
       "1           Auto OEM  12153.15587     ...       32886.08073  9041.43186   \n",
       "2           Auto OEM   2760.06231     ...       10854.28722   7629.6686   \n",
       "3          Oil & Gas        10029     ...             56416       29079   \n",
       "4  Tech HW Equipment          379     ...              6721        8336   \n",
       "\n",
       "        FY2010      FY2011       FY2012       FY2013       FY2014  \\\n",
       "0        31663       33183        34688        36302        35742   \n",
       "1  13656.97643  14371.8479  12444.98136  21996.82586  30975.38834   \n",
       "2  12999.47396  17576.9595  20436.61231  19825.35508  21605.47081   \n",
       "3        41839       55943        52114        48379        44378   \n",
       "4        19364       35574        58518        55756        60449   \n",
       "\n",
       "        FY2015       FY2016       IQ_LTM  \n",
       "0        36569        33559        33006  \n",
       "1  36265.38002  39166.00715  32128.88543  \n",
       "2  17198.72476            0  23204.62915  \n",
       "3        23453            0        22113  \n",
       "4        82487        70529        69750  \n",
       "\n",
       "[5 rows x 29 columns]"
      ]
     },
     "execution_count": 48,
     "metadata": {},
     "output_type": "execute_result"
    }
   ],
   "source": [
    "df_ava[\"EBITDA\"].head()"
   ]
  },
  {
   "cell_type": "markdown",
   "metadata": {},
   "source": [
    "# 2. Data Selection and Filtering"
   ]
  },
  {
   "cell_type": "markdown",
   "metadata": {},
   "source": [
    "## 2.1 Select Multiple Metrics"
   ]
  },
  {
   "cell_type": "code",
   "execution_count": 49,
   "metadata": {
    "collapsed": false
   },
   "outputs": [],
   "source": [
    "financial_tables = widgets.SelectMultiple(\n",
    "    description=\"Select Financial Metrics\",\n",
    "    options=metric_names)\n",
    "\n",
    "display(financial_tables)"
   ]
  },
  {
   "cell_type": "code",
   "execution_count": 61,
   "metadata": {
    "collapsed": false
   },
   "outputs": [],
   "source": [
    "selected_metric = financial_tables.value"
   ]
  },
  {
   "cell_type": "markdown",
   "metadata": {},
   "source": [
    "## 2.2 Select Industry, Sector, Region, Country, Year with Drop Down Boxes "
   ]
  },
  {
   "cell_type": "markdown",
   "metadata": {},
   "source": [
    "###  2.2.1 Select Industry"
   ]
  },
  {
   "cell_type": "code",
   "execution_count": 62,
   "metadata": {
    "collapsed": false
   },
   "outputs": [
    {
     "data": {
      "text/plain": [
       "['Auto & Transportation',\n",
       " 'Services',\n",
       " 'TIME',\n",
       " 'Engineering',\n",
       " 'Resources/Process Material']"
      ]
     },
     "execution_count": 62,
     "metadata": {},
     "output_type": "execute_result"
    }
   ],
   "source": [
    "# Convert industry list to set\n",
    "industry_list = df_ava[\"Total Revenue\"][\"AV Industry\"]\n",
    "industry_list = set(industry_list)\n",
    "industry_list = list(industry_list)\n",
    "industry_list"
   ]
  },
  {
   "cell_type": "code",
   "execution_count": 76,
   "metadata": {
    "collapsed": true
   },
   "outputs": [],
   "source": [
    "select_industry = widgets.Dropdown(\n",
    "    options=industry_list,\n",
    "    value='Auto & Transportation',\n",
    "    description=\"Selected Industry: \",\n",
    ")\n",
    "display(select_industry)"
   ]
  },
  {
   "cell_type": "markdown",
   "metadata": {},
   "source": [
    "###  2.2.2 Select Sector"
   ]
  },
  {
   "cell_type": "code",
   "execution_count": 77,
   "metadata": {
    "collapsed": false
   },
   "outputs": [
    {
     "data": {
      "text/plain": [
       "['Construction', 'Aluminum', 'Online Retail', 'Publishing', 'Entertainment']"
      ]
     },
     "execution_count": 77,
     "metadata": {},
     "output_type": "execute_result"
    }
   ],
   "source": [
    "# Convert sector list to set\n",
    "sector_list = df_ava[\"Total Revenue\"][\"AV Sector\"]\n",
    "sector_list = set(sector_list)\n",
    "sector_list = list(sector_list)\n",
    "sector_list[:5]"
   ]
  },
  {
   "cell_type": "code",
   "execution_count": 78,
   "metadata": {
    "collapsed": true
   },
   "outputs": [],
   "source": [
    "select_sector = widgets.Dropdown(\n",
    "    options=list(np.sort(sector_list)),\n",
    "    value='Auto OEM',\n",
    "    description=\"Selected Sector: \",\n",
    ")\n",
    "display(select_sector)"
   ]
  },
  {
   "cell_type": "markdown",
   "metadata": {},
   "source": [
    "## 2.2.3 Select Region"
   ]
  },
  {
   "cell_type": "code",
   "execution_count": 79,
   "metadata": {
    "collapsed": false
   },
   "outputs": [],
   "source": [
    "# Convert sector list to set\n",
    "region_list = df_ava[\"Total Revenue\"][\"Region\"]\n",
    "region_list = set(region_list)\n",
    "region_list = list(region_list)"
   ]
  },
  {
   "cell_type": "code",
   "execution_count": 80,
   "metadata": {
    "collapsed": true
   },
   "outputs": [],
   "source": [
    "select_region = widgets.Dropdown(\n",
    "    options=region_list,\n",
    "    value='North America',\n",
    "    description=\"Selected Sector: \",\n",
    ")\n",
    "display(select_region)"
   ]
  },
  {
   "cell_type": "markdown",
   "metadata": {},
   "source": [
    "### 2.2.4 Select Country"
   ]
  },
  {
   "cell_type": "code",
   "execution_count": 81,
   "metadata": {
    "collapsed": false
   },
   "outputs": [],
   "source": [
    "# Convert sector list to set\n",
    "country_list = df_ava[\"Total Revenue\"][\"Country\"]\n",
    "country_list = set(country_list)\n",
    "country_list = list(country_list)"
   ]
  },
  {
   "cell_type": "code",
   "execution_count": 82,
   "metadata": {
    "collapsed": true
   },
   "outputs": [],
   "source": [
    "select_country = widgets.Dropdown(\n",
    "    options=country_list,\n",
    "    value='United States',\n",
    "    description=\"Selected Sector: \",\n",
    ")\n",
    "display(select_country)"
   ]
  },
  {
   "cell_type": "markdown",
   "metadata": {},
   "source": [
    "### 2.2.5 Select Years"
   ]
  },
  {
   "cell_type": "code",
   "execution_count": 83,
   "metadata": {
    "collapsed": true
   },
   "outputs": [],
   "source": [
    "column_names = list(df_ava[\"Total Revenue\"].columns)\n",
    "year_list = column_names[column_names.index(\"FY1998\"):]"
   ]
  },
  {
   "cell_type": "code",
   "execution_count": 85,
   "metadata": {
    "collapsed": true
   },
   "outputs": [],
   "source": [
    "select_years = widgets.SelectMultiple(\n",
    "    description=\"Select Years To Be Included\",\n",
    "    options=year_list)\n",
    "\n",
    "display(select_years)"
   ]
  },
  {
   "cell_type": "code",
   "execution_count": null,
   "metadata": {
    "collapsed": true
   },
   "outputs": [],
   "source": []
  },
  {
   "cell_type": "markdown",
   "metadata": {},
   "source": [
    "## 3 Real World Data Manipulation\n",
    "### Select All US Airlines Company and Display Their Total Revenue, COGS, SG&A, EBIT, EBITDA between 2010 and 2015"
   ]
  },
  {
   "cell_type": "code",
   "execution_count": 103,
   "metadata": {
    "collapsed": false
   },
   "outputs": [],
   "source": [
    "# Define info list about selected companies\n",
    "info_list=[\"Company Name\", \"Exchange:Ticker\", \"Country\", \"Region\", \"AV Industry\", \"AV Sector\"]\n",
    "display_columns = info_list + list(select_years.value)"
   ]
  },
  {
   "cell_type": "code",
   "execution_count": 104,
   "metadata": {
    "collapsed": true
   },
   "outputs": [],
   "source": [
    "df_ava_selection={}"
   ]
  },
  {
   "cell_type": "code",
   "execution_count": 105,
   "metadata": {
    "collapsed": false
   },
   "outputs": [
    {
     "name": "stderr",
     "output_type": "stream",
     "text": [
      "C:\\PROGRAMDATA\\ANACONDA3\\lib\\site-packages\\ipykernel\\__main__.py:3: UserWarning: Boolean Series key will be reindexed to match DataFrame index.\n",
      "  app.launch_new_instance()\n"
     ]
    }
   ],
   "source": [
    "for table in financial_tables.value:\n",
    "    global display_columns\n",
    "    df_ava_selection[table]=df_ava[table][df_ava[table][\"AV Sector\"]==select_sector.value][df_ava[table][\"Country\"]==select_country.value]\n",
    "    df_ava_selection[table]=df_ava_selection[table].loc[:,display_columns]"
   ]
  },
  {
   "cell_type": "code",
   "execution_count": 106,
   "metadata": {
    "collapsed": false
   },
   "outputs": [
    {
     "data": {
      "text/html": [
       "<div>\n",
       "<table border=\"1\" class=\"dataframe\">\n",
       "  <thead>\n",
       "    <tr style=\"text-align: right;\">\n",
       "      <th></th>\n",
       "      <th>Company Name</th>\n",
       "      <th>Exchange:Ticker</th>\n",
       "      <th>Country</th>\n",
       "      <th>Region</th>\n",
       "      <th>AV Industry</th>\n",
       "      <th>AV Sector</th>\n",
       "      <th>FY2011</th>\n",
       "      <th>FY2012</th>\n",
       "      <th>FY2013</th>\n",
       "      <th>FY2014</th>\n",
       "      <th>FY2015</th>\n",
       "    </tr>\n",
       "  </thead>\n",
       "  <tbody>\n",
       "    <tr>\n",
       "      <th>150</th>\n",
       "      <td>Continental Aktiengesellschaft (DB:CON)</td>\n",
       "      <td>DB:CON</td>\n",
       "      <td>Germany</td>\n",
       "      <td>Europe</td>\n",
       "      <td>Auto &amp; Transportation</td>\n",
       "      <td>Tier 1</td>\n",
       "      <td>0.790296</td>\n",
       "      <td>0.784462</td>\n",
       "      <td>0.765936</td>\n",
       "      <td>0.748850</td>\n",
       "      <td>0.740640</td>\n",
       "    </tr>\n",
       "    <tr>\n",
       "      <th>1172</th>\n",
       "      <td>Hella KGaA Hueck &amp; Co. (DB:HLE)</td>\n",
       "      <td>DB:HLE</td>\n",
       "      <td>Germany</td>\n",
       "      <td>Europe</td>\n",
       "      <td>Auto &amp; Transportation</td>\n",
       "      <td>Tier 1</td>\n",
       "      <td>0.736360</td>\n",
       "      <td>0.733844</td>\n",
       "      <td>0.730298</td>\n",
       "      <td>0.723590</td>\n",
       "      <td>0.732256</td>\n",
       "    </tr>\n",
       "    <tr>\n",
       "      <th>1515</th>\n",
       "      <td>LEONI AG (DB:LEO)</td>\n",
       "      <td>DB:LEO</td>\n",
       "      <td>Germany</td>\n",
       "      <td>Europe</td>\n",
       "      <td>Auto &amp; Transportation</td>\n",
       "      <td>Tier 1</td>\n",
       "      <td>0.816223</td>\n",
       "      <td>0.822778</td>\n",
       "      <td>0.827009</td>\n",
       "      <td>0.828855</td>\n",
       "      <td>0.839454</td>\n",
       "    </tr>\n",
       "    <tr>\n",
       "      <th>3204</th>\n",
       "      <td>Grammer Aktiengesellschaft (DB:GMM)</td>\n",
       "      <td>DB:GMM</td>\n",
       "      <td>Germany</td>\n",
       "      <td>Europe</td>\n",
       "      <td>Auto &amp; Transportation</td>\n",
       "      <td>Tier 1</td>\n",
       "      <td>0.869693</td>\n",
       "      <td>0.876145</td>\n",
       "      <td>0.876807</td>\n",
       "      <td>0.884118</td>\n",
       "      <td>0.893308</td>\n",
       "    </tr>\n",
       "    <tr>\n",
       "      <th>3328</th>\n",
       "      <td>ElringKlinger AG (DB:ZIL2)</td>\n",
       "      <td>DB:ZIL2</td>\n",
       "      <td>Germany</td>\n",
       "      <td>Europe</td>\n",
       "      <td>Auto &amp; Transportation</td>\n",
       "      <td>Tier 1</td>\n",
       "      <td>0.719454</td>\n",
       "      <td>0.722845</td>\n",
       "      <td>0.719993</td>\n",
       "      <td>0.729618</td>\n",
       "      <td>0.751681</td>\n",
       "    </tr>\n",
       "  </tbody>\n",
       "</table>\n",
       "</div>"
      ],
      "text/plain": [
       "                                 Company Name Exchange:Ticker  Country  \\\n",
       "150   Continental Aktiengesellschaft (DB:CON)          DB:CON  Germany   \n",
       "1172          Hella KGaA Hueck & Co. (DB:HLE)          DB:HLE  Germany   \n",
       "1515                        LEONI AG (DB:LEO)          DB:LEO  Germany   \n",
       "3204      Grammer Aktiengesellschaft (DB:GMM)          DB:GMM  Germany   \n",
       "3328               ElringKlinger AG (DB:ZIL2)         DB:ZIL2  Germany   \n",
       "\n",
       "      Region            AV Industry AV Sector    FY2011    FY2012    FY2013  \\\n",
       "150   Europe  Auto & Transportation    Tier 1  0.790296  0.784462  0.765936   \n",
       "1172  Europe  Auto & Transportation    Tier 1  0.736360  0.733844  0.730298   \n",
       "1515  Europe  Auto & Transportation    Tier 1  0.816223  0.822778  0.827009   \n",
       "3204  Europe  Auto & Transportation    Tier 1  0.869693  0.876145  0.876807   \n",
       "3328  Europe  Auto & Transportation    Tier 1  0.719454  0.722845  0.719993   \n",
       "\n",
       "        FY2014    FY2015  \n",
       "150   0.748850  0.740640  \n",
       "1172  0.723590  0.732256  \n",
       "1515  0.828855  0.839454  \n",
       "3204  0.884118  0.893308  \n",
       "3328  0.729618  0.751681  "
      ]
     },
     "execution_count": 106,
     "metadata": {},
     "output_type": "execute_result"
    }
   ],
   "source": [
    "df_ava_selection[\"COGS Ratio\"]"
   ]
  },
  {
   "cell_type": "code",
   "execution_count": 102,
   "metadata": {
    "collapsed": false
   },
   "outputs": [],
   "source": [
    "export_button = widgets.Button(\n",
    "    description='Export to Excel',\n",
    "    disabled=False,\n",
    "    button_style='success', # 'success', 'info', 'warning', 'danger' or ''\n",
    "    tooltip='Click me',\n",
    "    icon='check'\n",
    ")\n",
    "display(export_button)\n",
    "\n",
    "def export_button_click(click):\n",
    "    export_to_excelfile = pd.ExcelWriter(select_sector.value+\" \"+select_country.value+\" \"+\"Data Export.xlsx\")\n",
    "    \n",
    "    for table in df_ava_selection:\n",
    "        df_ava_selection[table].to_excel(export_to_excelfile, sheet_name=table, index=False)\n",
    "    export_to_excelfile.save()\n",
    "\n",
    "export_button.on_click(export_button_click)"
   ]
  },
  {
   "cell_type": "code",
   "execution_count": null,
   "metadata": {
    "collapsed": true
   },
   "outputs": [],
   "source": []
  }
 ],
 "metadata": {
  "kernelspec": {
   "display_name": "Python 3",
   "language": "python",
   "name": "python3"
  },
  "language_info": {
   "codemirror_mode": {
    "name": "ipython",
    "version": 3
   },
   "file_extension": ".py",
   "mimetype": "text/x-python",
   "name": "python",
   "nbconvert_exporter": "python",
   "pygments_lexer": "ipython3",
   "version": "3.6.0"
  },
  "widgets": {
   "state": {
    "228817f862874ae0bc876cc746e148a6": {
     "views": [
      {
       "cell_index": 10
      }
     ]
    },
    "46859b3d513f4555ae77a01934acfdd6": {
     "views": [
      {
       "cell_index": 18
      }
     ]
    },
    "52ee7d33dd2c4b9f9c307adfa4ce972c": {
     "views": [
      {
       "cell_index": 27
      }
     ]
    },
    "5aa535f12a9748c1975d849d0d843756": {
     "views": [
      {
       "cell_index": 34
      }
     ]
    },
    "9324ada2c39b4dfd9d4fb350bf1df066": {
     "views": [
      {
       "cell_index": 2
      }
     ]
    },
    "c3efccc77aba4704a24adb931960460f": {
     "views": [
      {
       "cell_index": 24
      }
     ]
    },
    "ca81bd795c984fe6b3150e52ad5bf2a5": {
     "views": [
      {
       "cell_index": 21
      }
     ]
    },
    "ff031feae36d400f8d8038654b0d3c87": {
     "views": [
      {
       "cell_index": 15
      }
     ]
    }
   },
   "version": "1.2.0"
  }
 },
 "nbformat": 4,
 "nbformat_minor": 2
}
