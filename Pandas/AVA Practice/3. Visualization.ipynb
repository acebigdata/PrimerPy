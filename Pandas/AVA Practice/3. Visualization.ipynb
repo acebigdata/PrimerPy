{
 "cells": [
  {
   "cell_type": "markdown",
   "metadata": {},
   "source": [
    "# 3.Visualization "
   ]
  },
  {
   "cell_type": "code",
   "execution_count": 1,
   "metadata": {
    "collapsed": true
   },
   "outputs": [],
   "source": [
    "import numpy as np\n",
    "import pandas as pd\n",
    "import sqlite3\n",
    "import sys\n",
    "import sqlalchemy\n",
    "from ipywidgets import *\n",
    "import ipywidgets as widgets\n",
    "from IPython.display import display\n",
    "from traitlets import link"
   ]
  },
  {
   "cell_type": "code",
   "execution_count": 2,
   "metadata": {
    "collapsed": false
   },
   "outputs": [
    {
     "data": {
      "text/html": [
       "\n",
       "    <div class=\"bk-root\">\n",
       "        <a href=\"http://bokeh.pydata.org\" target=\"_blank\" class=\"bk-logo bk-logo-small bk-logo-notebook\"></a>\n",
       "        <span id=\"4ec74044-3f18-498a-bcfc-b5905adff5c4\">Loading BokehJS ...</span>\n",
       "    </div>"
      ]
     },
     "metadata": {},
     "output_type": "display_data"
    },
    {
     "data": {
      "application/javascript": [
       "\n",
       "(function(global) {\n",
       "  function now() {\n",
       "    return new Date();\n",
       "  }\n",
       "\n",
       "  var force = true;\n",
       "\n",
       "  if (typeof (window._bokeh_onload_callbacks) === \"undefined\" || force === true) {\n",
       "    window._bokeh_onload_callbacks = [];\n",
       "    window._bokeh_is_loading = undefined;\n",
       "  }\n",
       "\n",
       "\n",
       "  \n",
       "  if (typeof (window._bokeh_timeout) === \"undefined\" || force === true) {\n",
       "    window._bokeh_timeout = Date.now() + 5000;\n",
       "    window._bokeh_failed_load = false;\n",
       "  }\n",
       "\n",
       "  var NB_LOAD_WARNING = {'data': {'text/html':\n",
       "     \"<div style='background-color: #fdd'>\\n\"+\n",
       "     \"<p>\\n\"+\n",
       "     \"BokehJS does not appear to have successfully loaded. If loading BokehJS from CDN, this \\n\"+\n",
       "     \"may be due to a slow or bad network connection. Possible fixes:\\n\"+\n",
       "     \"</p>\\n\"+\n",
       "     \"<ul>\\n\"+\n",
       "     \"<li>re-rerun `output_notebook()` to attempt to load from CDN again, or</li>\\n\"+\n",
       "     \"<li>use INLINE resources instead, as so:</li>\\n\"+\n",
       "     \"</ul>\\n\"+\n",
       "     \"<code>\\n\"+\n",
       "     \"from bokeh.resources import INLINE\\n\"+\n",
       "     \"output_notebook(resources=INLINE)\\n\"+\n",
       "     \"</code>\\n\"+\n",
       "     \"</div>\"}};\n",
       "\n",
       "  function display_loaded() {\n",
       "    if (window.Bokeh !== undefined) {\n",
       "      document.getElementById(\"4ec74044-3f18-498a-bcfc-b5905adff5c4\").textContent = \"BokehJS successfully loaded.\";\n",
       "    } else if (Date.now() < window._bokeh_timeout) {\n",
       "      setTimeout(display_loaded, 100)\n",
       "    }\n",
       "  }\n",
       "\n",
       "  function run_callbacks() {\n",
       "    window._bokeh_onload_callbacks.forEach(function(callback) { callback() });\n",
       "    delete window._bokeh_onload_callbacks\n",
       "    console.info(\"Bokeh: all callbacks have finished\");\n",
       "  }\n",
       "\n",
       "  function load_libs(js_urls, callback) {\n",
       "    window._bokeh_onload_callbacks.push(callback);\n",
       "    if (window._bokeh_is_loading > 0) {\n",
       "      console.log(\"Bokeh: BokehJS is being loaded, scheduling callback at\", now());\n",
       "      return null;\n",
       "    }\n",
       "    if (js_urls == null || js_urls.length === 0) {\n",
       "      run_callbacks();\n",
       "      return null;\n",
       "    }\n",
       "    console.log(\"Bokeh: BokehJS not loaded, scheduling load and callback at\", now());\n",
       "    window._bokeh_is_loading = js_urls.length;\n",
       "    for (var i = 0; i < js_urls.length; i++) {\n",
       "      var url = js_urls[i];\n",
       "      var s = document.createElement('script');\n",
       "      s.src = url;\n",
       "      s.async = false;\n",
       "      s.onreadystatechange = s.onload = function() {\n",
       "        window._bokeh_is_loading--;\n",
       "        if (window._bokeh_is_loading === 0) {\n",
       "          console.log(\"Bokeh: all BokehJS libraries loaded\");\n",
       "          run_callbacks()\n",
       "        }\n",
       "      };\n",
       "      s.onerror = function() {\n",
       "        console.warn(\"failed to load library \" + url);\n",
       "      };\n",
       "      console.log(\"Bokeh: injecting script tag for BokehJS library: \", url);\n",
       "      document.getElementsByTagName(\"head\")[0].appendChild(s);\n",
       "    }\n",
       "  };var element = document.getElementById(\"4ec74044-3f18-498a-bcfc-b5905adff5c4\");\n",
       "  if (element == null) {\n",
       "    console.log(\"Bokeh: ERROR: autoload.js configured with elementid '4ec74044-3f18-498a-bcfc-b5905adff5c4' but no matching script tag was found. \")\n",
       "    return false;\n",
       "  }\n",
       "\n",
       "  var js_urls = [\"https://cdn.pydata.org/bokeh/release/bokeh-0.12.4.min.js\", \"https://cdn.pydata.org/bokeh/release/bokeh-widgets-0.12.4.min.js\"];\n",
       "\n",
       "  var inline_js = [\n",
       "    function(Bokeh) {\n",
       "      Bokeh.set_log_level(\"info\");\n",
       "    },\n",
       "    \n",
       "    function(Bokeh) {\n",
       "      \n",
       "      document.getElementById(\"4ec74044-3f18-498a-bcfc-b5905adff5c4\").textContent = \"BokehJS is loading...\";\n",
       "    },\n",
       "    function(Bokeh) {\n",
       "      console.log(\"Bokeh: injecting CSS: https://cdn.pydata.org/bokeh/release/bokeh-0.12.4.min.css\");\n",
       "      Bokeh.embed.inject_css(\"https://cdn.pydata.org/bokeh/release/bokeh-0.12.4.min.css\");\n",
       "      console.log(\"Bokeh: injecting CSS: https://cdn.pydata.org/bokeh/release/bokeh-widgets-0.12.4.min.css\");\n",
       "      Bokeh.embed.inject_css(\"https://cdn.pydata.org/bokeh/release/bokeh-widgets-0.12.4.min.css\");\n",
       "    }\n",
       "  ];\n",
       "\n",
       "  function run_inline_js() {\n",
       "    \n",
       "    if ((window.Bokeh !== undefined) || (force === true)) {\n",
       "      for (var i = 0; i < inline_js.length; i++) {\n",
       "        inline_js[i](window.Bokeh);\n",
       "      }if (force === true) {\n",
       "        display_loaded();\n",
       "      }} else if (Date.now() < window._bokeh_timeout) {\n",
       "      setTimeout(run_inline_js, 100);\n",
       "    } else if (!window._bokeh_failed_load) {\n",
       "      console.log(\"Bokeh: BokehJS failed to load within specified timeout.\");\n",
       "      window._bokeh_failed_load = true;\n",
       "    } else if (force !== true) {\n",
       "      var cell = $(document.getElementById(\"4ec74044-3f18-498a-bcfc-b5905adff5c4\")).parents('.cell').data().cell;\n",
       "      cell.output_area.append_execute_result(NB_LOAD_WARNING)\n",
       "    }\n",
       "\n",
       "  }\n",
       "\n",
       "  if (window._bokeh_is_loading === 0) {\n",
       "    console.log(\"Bokeh: BokehJS loaded, going straight to plotting\");\n",
       "    run_inline_js();\n",
       "  } else {\n",
       "    load_libs(js_urls, function() {\n",
       "      console.log(\"Bokeh: BokehJS plotting callback run at\", now());\n",
       "      run_inline_js();\n",
       "    });\n",
       "  }\n",
       "}(this));"
      ]
     },
     "metadata": {},
     "output_type": "display_data"
    }
   ],
   "source": [
    "from bokeh.plotting import figure\n",
    "from bokeh.io import output_file, show, save, output_notebook\n",
    "from bokeh.models import Range1d, NumeralTickFormatter, HoverTool, ColumnDataSource\n",
    "from bokeh.sampledata.iris import flowers\n",
    "output_notebook()"
   ]
  },
  {
   "cell_type": "markdown",
   "metadata": {},
   "source": [
    "## 3.1 Data Prep "
   ]
  },
  {
   "cell_type": "code",
   "execution_count": 3,
   "metadata": {
    "collapsed": true
   },
   "outputs": [],
   "source": [
    "#Loading database after selection\n",
    "## Connecting database\n",
    "db_conn = sqlite3.connect('AVA_FY.db')\n",
    "db_cur = db_conn.cursor()\n",
    "#load all tables\n",
    "db_cur.execute(\"SELECT name FROM sqlite_master WHERE type='table';\")\n",
    "metric_tables = db_cur.fetchall()\n",
    "metric_names = [i[0] for i in metric_tables]\n",
    "var_names = [name.replace(\" \", \"_\") for name in metric_names]\n",
    "df_ava = {}\n",
    "for i in range(len(var_names)):\n",
    "    sql_query = 'SELECT * FROM \"{table_name}\"'.format(table_name=metric_names[i])\n",
    "    key = metric_names[i]\n",
    "    value = pd.read_sql(sql_query, db_conn)\n",
    "    df_ava[key] = value"
   ]
  },
  {
   "cell_type": "code",
   "execution_count": 4,
   "metadata": {
    "collapsed": false
   },
   "outputs": [
    {
     "name": "stderr",
     "output_type": "stream",
     "text": [
      "Widget Javascript not detected.  It may not be installed properly. Did you enable the widgetsnbextension? If not, then run \"jupyter nbextension enable --py --sys-prefix widgetsnbextension\"\n"
     ]
    }
   ],
   "source": [
    "## Create Selector\n",
    "sector_list=list(set(df_ava[\"Total Revenue\"][\"AV Sector\"]))\n",
    "sector_list=list(np.sort(sector_list))\n",
    "country_list=list(set(df_ava[\"Total Revenue\"][\"Country\"]))\n",
    "country_list=list(np.sort(country_list))\n",
    "column_names = list(df_ava[\"Total Revenue\"].columns)\n",
    "year_list = column_names[column_names.index(\"FY1998\"):]\n",
    "\n",
    "filter_idea_data = widgets.Accordion(\n",
    "    children=[widgets.Dropdown(description=\"Select Sector\",options=sector_list),\n",
    "              widgets.Dropdown(description=\"Select Country\",options=country_list),\n",
    "              widgets.SelectMultiple(description=\"Select Years To Be Included\",options=year_list),\n",
    "             ])\n",
    "filter_idea_data.set_title(0, 'Select Sector')\n",
    "filter_idea_data.set_title(1, 'Select Country')\n",
    "filter_idea_data.set_title(2, 'Select Year')\n",
    "\n",
    "filter_idea_data"
   ]
  },
  {
   "cell_type": "code",
   "execution_count": 7,
   "metadata": {
    "collapsed": false
   },
   "outputs": [
    {
     "name": "stdout",
     "output_type": "stream",
     "text": [
      "Auto OEM\n",
      "United States\n",
      "('FY2011', 'FY2012', 'FY2013', 'FY2014', 'FY2015')\n"
     ]
    }
   ],
   "source": [
    "## Reload Database again after filtering\n",
    "print(filter_idea_data.children[0].value)\n",
    "print(filter_idea_data.children[1].value)\n",
    "print(filter_idea_data.children[2].value)\n",
    "# Define info list about selected companies\n",
    "info_list=[\"Company Name\", \"Exchange:Ticker\", \"Country\", \"Region\", \"AV Industry\", \"AV Sector\"]\n",
    "year_label=list(filter_idea_data.children[2].value)"
   ]
  },
  {
   "cell_type": "code",
   "execution_count": 10,
   "metadata": {
    "collapsed": false
   },
   "outputs": [],
   "source": [
    "## Reload Database\n",
    "new_db_info = {}\n",
    "new_db_data = {}\n",
    "new_db={}\n",
    "for table in list(df_ava.keys()):\n",
    "    temp_df=df_ava[table][df_ava[table][\"AV Sector\"]==filter_idea_data.children[0].value]\n",
    "#     temp_df=temp_df[temp_df[\"Country\"]==filter_idea_data.children[1].value]\n",
    "    temp_df=temp_df.loc[:,info_list]\n",
    "    new_db_info[table]=temp_df\n",
    "\n",
    "\n",
    "for table in list(df_ava.keys()):\n",
    "    temp_df=df_ava[table][df_ava[table][\"AV Sector\"]==filter_idea_data.children[0].value]\n",
    "#     temp_df=temp_df[temp_df[\"Country\"]==filter_idea_data.children[1].value]\n",
    "    temp_df=temp_df.loc[:,[\"Company Name\"]+year_label]\n",
    "    new_db_data[table]=temp_df\n",
    "\n",
    "for table in list(df_ava.keys()):\n",
    "    temp_df=df_ava[table][df_ava[table][\"AV Sector\"]==filter_idea_data.children[0].value]\n",
    "#     temp_df=temp_df[temp_df[\"Country\"]==filter_idea_data.children[1].value]\n",
    "    temp_df=temp_df.loc[:,info_list+year_label]\n",
    "    new_db[table]=temp_df"
   ]
  },
  {
   "cell_type": "code",
   "execution_count": 11,
   "metadata": {
    "collapsed": false
   },
   "outputs": [
    {
     "ename": "AttributeError",
     "evalue": "'dict' object has no attribute 'ix'",
     "output_type": "error",
     "traceback": [
      "\u001b[0;31m---------------------------------------------------------------------------\u001b[0m",
      "\u001b[0;31mAttributeError\u001b[0m                            Traceback (most recent call last)",
      "\u001b[0;32m<ipython-input-11-88e7a6311d7e>\u001b[0m in \u001b[0;36m<module>\u001b[0;34m()\u001b[0m\n\u001b[1;32m      1\u001b[0m \u001b[0mtemp_dict\u001b[0m\u001b[1;33m=\u001b[0m\u001b[1;33m{\u001b[0m\u001b[1;33m}\u001b[0m\u001b[1;33m\u001b[0m\u001b[0m\n\u001b[1;32m      2\u001b[0m \u001b[1;32mfor\u001b[0m \u001b[0mi\u001b[0m \u001b[1;32min\u001b[0m \u001b[0mlist\u001b[0m\u001b[1;33m(\u001b[0m\u001b[0mnew_db_data\u001b[0m\u001b[1;33m.\u001b[0m\u001b[0mkeys\u001b[0m\u001b[1;33m(\u001b[0m\u001b[1;33m)\u001b[0m\u001b[1;33m)\u001b[0m\u001b[1;33m:\u001b[0m\u001b[1;33m\u001b[0m\u001b[0m\n\u001b[0;32m----> 3\u001b[0;31m     \u001b[0mtemp_var\u001b[0m \u001b[1;33m=\u001b[0m \u001b[0mnew_db_data\u001b[0m\u001b[1;33m.\u001b[0m\u001b[0mix\u001b[0m\u001b[1;33m[\u001b[0m\u001b[0mi\u001b[0m\u001b[1;33m]\u001b[0m\u001b[1;33m\u001b[0m\u001b[0m\n\u001b[0m\u001b[1;32m      4\u001b[0m     \u001b[0mtemp_dict\u001b[0m\u001b[1;33m[\u001b[0m\u001b[0mtemp_var\u001b[0m\u001b[1;33m[\u001b[0m\u001b[1;36m0\u001b[0m\u001b[1;33m]\u001b[0m\u001b[1;33m]\u001b[0m \u001b[1;33m=\u001b[0m \u001b[0mlist\u001b[0m\u001b[1;33m(\u001b[0m\u001b[0mtemp_var\u001b[0m\u001b[1;33m[\u001b[0m\u001b[1;36m1\u001b[0m\u001b[1;33m:\u001b[0m\u001b[1;33m]\u001b[0m\u001b[1;33m)\u001b[0m\u001b[1;33m\u001b[0m\u001b[0m\n",
      "\u001b[0;31mAttributeError\u001b[0m: 'dict' object has no attribute 'ix'"
     ]
    }
   ],
   "source": [
    "temp_dict={}\n",
    "for i in list(new_db_data.keys()):\n",
    "    temp_var = new_db_data.ix[i]\n",
    "    temp_dict[temp_var[0]] = list(temp_var[1:])"
   ]
  },
  {
   "cell_type": "code",
   "execution_count": 12,
   "metadata": {
    "collapsed": false
   },
   "outputs": [
    {
     "ename": "KeyError",
     "evalue": "'General Motors Company (NYSE:GM)'",
     "output_type": "error",
     "traceback": [
      "\u001b[0;31m---------------------------------------------------------------------------\u001b[0m",
      "\u001b[0;31mKeyError\u001b[0m                                  Traceback (most recent call last)",
      "\u001b[0;32m<ipython-input-12-3ccd0d80cf2c>\u001b[0m in \u001b[0;36m<module>\u001b[0;34m()\u001b[0m\n\u001b[0;32m----> 1\u001b[0;31m \u001b[0mgm_cogs\u001b[0m \u001b[1;33m=\u001b[0m \u001b[0mtemp_dict\u001b[0m\u001b[1;33m[\u001b[0m\u001b[1;34m\"General Motors Company (NYSE:GM)\"\u001b[0m\u001b[1;33m]\u001b[0m\u001b[1;33m\u001b[0m\u001b[0m\n\u001b[0m\u001b[1;32m      2\u001b[0m \u001b[0mf_cogs\u001b[0m \u001b[1;33m=\u001b[0m \u001b[0mtemp_dict\u001b[0m\u001b[1;33m[\u001b[0m\u001b[1;34m\"Ford Motor Company (NYSE:F)\"\u001b[0m\u001b[1;33m]\u001b[0m\u001b[1;33m\u001b[0m\u001b[0m\n\u001b[1;32m      3\u001b[0m \u001b[0mtesla_cogs\u001b[0m \u001b[1;33m=\u001b[0m \u001b[0mtemp_dict\u001b[0m\u001b[1;33m[\u001b[0m\u001b[1;34m\"Tesla Motors, Inc. (NasdaqGS:TSLA)\"\u001b[0m\u001b[1;33m]\u001b[0m\u001b[1;33m\u001b[0m\u001b[0m\n",
      "\u001b[0;31mKeyError\u001b[0m: 'General Motors Company (NYSE:GM)'"
     ]
    }
   ],
   "source": [
    "gm_cogs = temp_dict[\"General Motors Company (NYSE:GM)\"]\n",
    "f_cogs = temp_dict[\"Ford Motor Company (NYSE:F)\"]\n",
    "tesla_cogs = temp_dict[\"Tesla Motors, Inc. (NasdaqGS:TSLA)\"]"
   ]
  },
  {
   "cell_type": "code",
   "execution_count": 208,
   "metadata": {
    "collapsed": false
   },
   "outputs": [
    {
     "data": {
      "text/html": [
       "\n",
       "\n",
       "    <div class=\"bk-root\">\n",
       "        <div class=\"bk-plotdiv\" id=\"b4069255-d455-424e-af57-68a03dc2fd5b\"></div>\n",
       "    </div>\n",
       "<script type=\"text/javascript\">\n",
       "  \n",
       "  (function(global) {\n",
       "    function now() {\n",
       "      return new Date();\n",
       "    }\n",
       "  \n",
       "    var force = false;\n",
       "  \n",
       "    if (typeof (window._bokeh_onload_callbacks) === \"undefined\" || force === true) {\n",
       "      window._bokeh_onload_callbacks = [];\n",
       "      window._bokeh_is_loading = undefined;\n",
       "    }\n",
       "  \n",
       "  \n",
       "    \n",
       "    if (typeof (window._bokeh_timeout) === \"undefined\" || force === true) {\n",
       "      window._bokeh_timeout = Date.now() + 0;\n",
       "      window._bokeh_failed_load = false;\n",
       "    }\n",
       "  \n",
       "    var NB_LOAD_WARNING = {'data': {'text/html':\n",
       "       \"<div style='background-color: #fdd'>\\n\"+\n",
       "       \"<p>\\n\"+\n",
       "       \"BokehJS does not appear to have successfully loaded. If loading BokehJS from CDN, this \\n\"+\n",
       "       \"may be due to a slow or bad network connection. Possible fixes:\\n\"+\n",
       "       \"</p>\\n\"+\n",
       "       \"<ul>\\n\"+\n",
       "       \"<li>re-rerun `output_notebook()` to attempt to load from CDN again, or</li>\\n\"+\n",
       "       \"<li>use INLINE resources instead, as so:</li>\\n\"+\n",
       "       \"</ul>\\n\"+\n",
       "       \"<code>\\n\"+\n",
       "       \"from bokeh.resources import INLINE\\n\"+\n",
       "       \"output_notebook(resources=INLINE)\\n\"+\n",
       "       \"</code>\\n\"+\n",
       "       \"</div>\"}};\n",
       "  \n",
       "    function display_loaded() {\n",
       "      if (window.Bokeh !== undefined) {\n",
       "        document.getElementById(\"b4069255-d455-424e-af57-68a03dc2fd5b\").textContent = \"BokehJS successfully loaded.\";\n",
       "      } else if (Date.now() < window._bokeh_timeout) {\n",
       "        setTimeout(display_loaded, 100)\n",
       "      }\n",
       "    }\n",
       "  \n",
       "    function run_callbacks() {\n",
       "      window._bokeh_onload_callbacks.forEach(function(callback) { callback() });\n",
       "      delete window._bokeh_onload_callbacks\n",
       "      console.info(\"Bokeh: all callbacks have finished\");\n",
       "    }\n",
       "  \n",
       "    function load_libs(js_urls, callback) {\n",
       "      window._bokeh_onload_callbacks.push(callback);\n",
       "      if (window._bokeh_is_loading > 0) {\n",
       "        console.log(\"Bokeh: BokehJS is being loaded, scheduling callback at\", now());\n",
       "        return null;\n",
       "      }\n",
       "      if (js_urls == null || js_urls.length === 0) {\n",
       "        run_callbacks();\n",
       "        return null;\n",
       "      }\n",
       "      console.log(\"Bokeh: BokehJS not loaded, scheduling load and callback at\", now());\n",
       "      window._bokeh_is_loading = js_urls.length;\n",
       "      for (var i = 0; i < js_urls.length; i++) {\n",
       "        var url = js_urls[i];\n",
       "        var s = document.createElement('script');\n",
       "        s.src = url;\n",
       "        s.async = false;\n",
       "        s.onreadystatechange = s.onload = function() {\n",
       "          window._bokeh_is_loading--;\n",
       "          if (window._bokeh_is_loading === 0) {\n",
       "            console.log(\"Bokeh: all BokehJS libraries loaded\");\n",
       "            run_callbacks()\n",
       "          }\n",
       "        };\n",
       "        s.onerror = function() {\n",
       "          console.warn(\"failed to load library \" + url);\n",
       "        };\n",
       "        console.log(\"Bokeh: injecting script tag for BokehJS library: \", url);\n",
       "        document.getElementsByTagName(\"head\")[0].appendChild(s);\n",
       "      }\n",
       "    };var element = document.getElementById(\"b4069255-d455-424e-af57-68a03dc2fd5b\");\n",
       "    if (element == null) {\n",
       "      console.log(\"Bokeh: ERROR: autoload.js configured with elementid 'b4069255-d455-424e-af57-68a03dc2fd5b' but no matching script tag was found. \")\n",
       "      return false;\n",
       "    }\n",
       "  \n",
       "    var js_urls = [];\n",
       "  \n",
       "    var inline_js = [\n",
       "      function(Bokeh) {\n",
       "        (function() {\n",
       "          var fn = function() {\n",
       "            var docs_json = {\"9fe4e8a6-3efe-4d7d-ba27-e43cec0984be\":{\"roots\":{\"references\":[{\"attributes\":{\"fill_alpha\":{\"value\":0.5},\"fill_color\":{\"value\":\"olive\"},\"line_alpha\":{\"value\":0.5},\"line_color\":{\"value\":\"olive\"},\"size\":{\"units\":\"screen\",\"value\":10},\"x\":{\"field\":\"x\"},\"y\":{\"field\":\"y\"}},\"id\":\"79697006-931e-4c3e-83ff-cfc867236572\",\"type\":\"Square\"},{\"attributes\":{\"fill_alpha\":{\"value\":0.5},\"fill_color\":{\"value\":\"olive\"},\"line_alpha\":{\"value\":0.5},\"line_color\":{\"value\":\"olive\"},\"size\":{\"units\":\"screen\",\"value\":10},\"x\":{\"field\":\"x\"},\"y\":{\"field\":\"y\"}},\"id\":\"a0fe64f0-fb98-43a5-848a-9637013df2a7\",\"type\":\"Square\"},{\"attributes\":{\"active_drag\":\"auto\",\"active_scroll\":\"auto\",\"active_tap\":\"auto\",\"logo\":null,\"tools\":[{\"id\":\"3a7ef639-4e44-4b73-96ac-f9eb04836fab\",\"type\":\"PanTool\"},{\"id\":\"b15e02ef-9dec-496a-ad72-6261c79d74a9\",\"type\":\"WheelZoomTool\"},{\"id\":\"8698578e-ee6f-4efc-8ca8-c985897f46e2\",\"type\":\"BoxZoomTool\"},{\"id\":\"b7368d99-8977-402b-bbc1-100d57067e80\",\"type\":\"ResetTool\"},{\"id\":\"6744e71b-2270-468a-a466-182759ab8fbf\",\"type\":\"SaveTool\"},{\"id\":\"9c15d73c-59d7-4e2b-9e01-7ed47d6724f0\",\"type\":\"BoxSelectTool\"},{\"id\":\"bc6b6652-bb17-4769-a54c-5e8f5429b7eb\",\"type\":\"HoverTool\"}]},\"id\":\"2144b729-9e09-46d8-8a39-3ed708d243b3\",\"type\":\"Toolbar\"},{\"attributes\":{},\"id\":\"814ef982-57ad-4522-9d38-299dfaec9f28\",\"type\":\"CategoricalTickFormatter\"},{\"attributes\":{\"background_fill_alpha\":{\"value\":0.1},\"background_fill_color\":{\"value\":\"#BDC0BA\"},\"below\":[{\"id\":\"2a0aa90d-fa5a-4db8-a8e2-6f3a65914b31\",\"type\":\"CategoricalAxis\"}],\"left\":[{\"id\":\"f876d611-80dd-49f2-8999-a38777133c8c\",\"type\":\"LinearAxis\"}],\"plot_width\":900,\"renderers\":[{\"id\":\"2a0aa90d-fa5a-4db8-a8e2-6f3a65914b31\",\"type\":\"CategoricalAxis\"},{\"id\":\"10257bc7-14c9-4006-a38f-03a8f03d0e3f\",\"type\":\"Grid\"},{\"id\":\"f876d611-80dd-49f2-8999-a38777133c8c\",\"type\":\"LinearAxis\"},{\"id\":\"ff49a743-cfcf-4d91-a16d-97dfe853ac09\",\"type\":\"Grid\"},{\"id\":\"76b40739-4d95-4f6e-84d4-dafceed2388c\",\"type\":\"BoxAnnotation\"},{\"id\":\"dc96a9a6-419a-4dda-be39-e25cbc04fab6\",\"type\":\"BoxAnnotation\"},{\"id\":\"f7a613c7-4e26-4238-982a-93c131700041\",\"type\":\"GlyphRenderer\"},{\"id\":\"78982f85-6141-420f-82d1-780cdb734e7b\",\"type\":\"GlyphRenderer\"},{\"id\":\"67348dc5-61c8-4ac6-8f23-56df08503d61\",\"type\":\"GlyphRenderer\"},{\"id\":\"71d1b9fc-905e-4d0a-89a6-f7c29aa063f0\",\"type\":\"GlyphRenderer\"}],\"title\":{\"id\":\"6a834ab8-d99d-41df-b16d-56709610ab06\",\"type\":\"Title\"},\"tool_events\":{\"id\":\"6344fdf0-3310-451c-a6c6-a98f6e0822b5\",\"type\":\"ToolEvents\"},\"toolbar\":{\"id\":\"2144b729-9e09-46d8-8a39-3ed708d243b3\",\"type\":\"Toolbar\"},\"x_range\":{\"id\":\"abe50a3c-f415-47fd-99f7-351834d4d81e\",\"type\":\"Range1d\"},\"y_range\":{\"id\":\"ed43c238-d5a5-4fb9-8026-1b55909178c3\",\"type\":\"Range1d\"}},\"id\":\"0968038c-2f5f-45d6-a1c7-c60f1bd58bba\",\"subtype\":\"Figure\",\"type\":\"Plot\"},{\"attributes\":{},\"id\":\"6344fdf0-3310-451c-a6c6-a98f6e0822b5\",\"type\":\"ToolEvents\"},{\"attributes\":{},\"id\":\"fd0466fa-b3e9-4133-93af-c555540e1a9a\",\"type\":\"BasicTickFormatter\"},{\"attributes\":{\"callback\":null,\"plot\":{\"id\":\"0968038c-2f5f-45d6-a1c7-c60f1bd58bba\",\"subtype\":\"Figure\",\"type\":\"Plot\"},\"tooltips\":[[\"Species\",\"@species\"],[\"Petal Width\",\"@petal_width\"],[\"Petal Length\",\"@petal_length\"]]},\"id\":\"bc6b6652-bb17-4769-a54c-5e8f5429b7eb\",\"type\":\"HoverTool\"},{\"attributes\":{\"data_source\":{\"id\":\"5ffd277c-d066-414f-83b1-96a921710711\",\"type\":\"ColumnDataSource\"},\"glyph\":{\"id\":\"885bff8b-b2e5-450c-93b0-f1ec518a5251\",\"type\":\"Square\"},\"hover_glyph\":null,\"nonselection_glyph\":{\"id\":\"92a11690-f5c4-4d2a-9ed5-0df66fdee04a\",\"type\":\"Square\"},\"selection_glyph\":null},\"id\":\"f7a613c7-4e26-4238-982a-93c131700041\",\"type\":\"GlyphRenderer\"},{\"attributes\":{\"plot\":{\"id\":\"0968038c-2f5f-45d6-a1c7-c60f1bd58bba\",\"subtype\":\"Figure\",\"type\":\"Plot\"}},\"id\":\"b15e02ef-9dec-496a-ad72-6261c79d74a9\",\"type\":\"WheelZoomTool\"},{\"attributes\":{\"fill_alpha\":{\"value\":0.1},\"fill_color\":{\"value\":\"#1f77b4\"},\"line_alpha\":{\"value\":0.1},\"line_color\":{\"value\":\"#1f77b4\"},\"size\":{\"units\":\"screen\",\"value\":10},\"x\":{\"field\":\"x\"},\"y\":{\"field\":\"y\"}},\"id\":\"de8afe5a-95a1-485f-b8e5-2e59ac7a58ee\",\"type\":\"Square\"},{\"attributes\":{\"overlay\":{\"id\":\"76b40739-4d95-4f6e-84d4-dafceed2388c\",\"type\":\"BoxAnnotation\"},\"plot\":{\"id\":\"0968038c-2f5f-45d6-a1c7-c60f1bd58bba\",\"subtype\":\"Figure\",\"type\":\"Plot\"}},\"id\":\"8698578e-ee6f-4efc-8ca8-c985897f46e2\",\"type\":\"BoxZoomTool\"},{\"attributes\":{\"fill_alpha\":{\"value\":0.1},\"fill_color\":{\"value\":\"#1f77b4\"},\"line_alpha\":{\"value\":0.1},\"line_color\":{\"value\":\"#1f77b4\"},\"size\":{\"units\":\"screen\",\"value\":10},\"x\":{\"field\":\"x\"},\"y\":{\"field\":\"y\"}},\"id\":\"92a11690-f5c4-4d2a-9ed5-0df66fdee04a\",\"type\":\"Square\"},{\"attributes\":{\"fill_alpha\":{\"value\":0.5},\"fill_color\":{\"value\":\"olive\"},\"line_alpha\":{\"value\":0.5},\"line_color\":{\"value\":\"olive\"},\"size\":{\"units\":\"screen\",\"value\":10},\"x\":{\"field\":\"x\"},\"y\":{\"field\":\"y\"}},\"id\":\"c55b1e60-52ed-4bda-b81c-9afc646adbe7\",\"type\":\"Square\"},{\"attributes\":{\"callback\":null,\"end\":8},\"id\":\"abe50a3c-f415-47fd-99f7-351834d4d81e\",\"type\":\"Range1d\"},{\"attributes\":{\"callback\":null,\"column_names\":[\"x\",\"y\"],\"data\":{\"x\":[\"118112\",\"129905\",\"133301\",\"134630\",\"136607\",\"127104\"],\"y\":[\"104372\",\"113345\",\"112578\",\"125234\",\"123516\",\"124041\"]}},\"id\":\"8866b8d1-4f8f-4f9c-951a-9f368443cc71\",\"type\":\"ColumnDataSource\"},{\"attributes\":{\"plot\":{\"id\":\"0968038c-2f5f-45d6-a1c7-c60f1bd58bba\",\"subtype\":\"Figure\",\"type\":\"Plot\"},\"ticker\":{\"id\":\"36f9d0f1-feae-470a-8996-d4844bf494d4\",\"type\":\"CategoricalTicker\"}},\"id\":\"10257bc7-14c9-4006-a38f-03a8f03d0e3f\",\"type\":\"Grid\"},{\"attributes\":{\"callback\":null,\"column_names\":[\"x\",\"y\"],\"data\":{\"x\":[\"118112\",\"129905\",\"133301\",\"134630\",\"136607\",\"127104\"],\"y\":[\"104372\",\"113345\",\"112578\",\"125234\",\"123516\",\"124041\"]}},\"id\":\"24827cdc-cf4e-4d61-9a92-c4d1f7e2122b\",\"type\":\"ColumnDataSource\"},{\"attributes\":{\"plot\":{\"id\":\"0968038c-2f5f-45d6-a1c7-c60f1bd58bba\",\"subtype\":\"Figure\",\"type\":\"Plot\"}},\"id\":\"b7368d99-8977-402b-bbc1-100d57067e80\",\"type\":\"ResetTool\"},{\"attributes\":{\"axis_label\":\"COGS%\",\"axis_label_text_font\":\"Helvetica\",\"axis_label_text_font_size\":{\"value\":\"16px\"},\"formatter\":{\"id\":\"fd0466fa-b3e9-4133-93af-c555540e1a9a\",\"type\":\"BasicTickFormatter\"},\"minor_tick_line_color\":{\"value\":null},\"plot\":{\"id\":\"0968038c-2f5f-45d6-a1c7-c60f1bd58bba\",\"subtype\":\"Figure\",\"type\":\"Plot\"},\"ticker\":{\"id\":\"470b7cb0-8eb0-4cfa-a654-3b96223770eb\",\"type\":\"BasicTicker\"}},\"id\":\"f876d611-80dd-49f2-8999-a38777133c8c\",\"type\":\"LinearAxis\"},{\"attributes\":{\"callback\":null,\"overlay\":{\"id\":\"dc96a9a6-419a-4dda-be39-e25cbc04fab6\",\"type\":\"BoxAnnotation\"},\"plot\":{\"id\":\"0968038c-2f5f-45d6-a1c7-c60f1bd58bba\",\"subtype\":\"Figure\",\"type\":\"Plot\"},\"renderers\":[{\"id\":\"f7a613c7-4e26-4238-982a-93c131700041\",\"type\":\"GlyphRenderer\"},{\"id\":\"78982f85-6141-420f-82d1-780cdb734e7b\",\"type\":\"GlyphRenderer\"},{\"id\":\"67348dc5-61c8-4ac6-8f23-56df08503d61\",\"type\":\"GlyphRenderer\"},{\"id\":\"71d1b9fc-905e-4d0a-89a6-f7c29aa063f0\",\"type\":\"GlyphRenderer\"}]},\"id\":\"9c15d73c-59d7-4e2b-9e01-7ed47d6724f0\",\"type\":\"BoxSelectTool\"},{\"attributes\":{\"callback\":null,\"end\":3},\"id\":\"ed43c238-d5a5-4fb9-8026-1b55909178c3\",\"type\":\"Range1d\"},{\"attributes\":{\"fill_alpha\":{\"value\":0.1},\"fill_color\":{\"value\":\"#1f77b4\"},\"line_alpha\":{\"value\":0.1},\"line_color\":{\"value\":\"#1f77b4\"},\"size\":{\"units\":\"screen\",\"value\":10},\"x\":{\"field\":\"x\"},\"y\":{\"field\":\"y\"}},\"id\":\"275b758e-4ff9-415b-8e09-16c625597a09\",\"type\":\"Square\"},{\"attributes\":{\"align\":\"center\",\"plot\":null,\"text\":\"US Auto OEM COGS\",\"text_color\":{\"value\":\"#268785\"},\"text_font\":\"Helvetica\",\"text_font_size\":{\"value\":\"40px\"}},\"id\":\"6a834ab8-d99d-41df-b16d-56709610ab06\",\"type\":\"Title\"},{\"attributes\":{\"fill_alpha\":{\"value\":0.1},\"fill_color\":{\"value\":\"#1f77b4\"},\"line_alpha\":{\"value\":0.1},\"line_color\":{\"value\":\"#1f77b4\"},\"size\":{\"units\":\"screen\",\"value\":10},\"x\":{\"field\":\"x\"},\"y\":{\"field\":\"y\"}},\"id\":\"f9551d21-c7c9-4f64-8ac3-e03f0ea2b183\",\"type\":\"Square\"},{\"attributes\":{\"plot\":{\"id\":\"0968038c-2f5f-45d6-a1c7-c60f1bd58bba\",\"subtype\":\"Figure\",\"type\":\"Plot\"}},\"id\":\"3a7ef639-4e44-4b73-96ac-f9eb04836fab\",\"type\":\"PanTool\"},{\"attributes\":{\"data_source\":{\"id\":\"8866b8d1-4f8f-4f9c-951a-9f368443cc71\",\"type\":\"ColumnDataSource\"},\"glyph\":{\"id\":\"79697006-931e-4c3e-83ff-cfc867236572\",\"type\":\"Square\"},\"hover_glyph\":null,\"nonselection_glyph\":{\"id\":\"f9551d21-c7c9-4f64-8ac3-e03f0ea2b183\",\"type\":\"Square\"},\"selection_glyph\":null},\"id\":\"78982f85-6141-420f-82d1-780cdb734e7b\",\"type\":\"GlyphRenderer\"},{\"attributes\":{\"dimension\":1,\"plot\":{\"id\":\"0968038c-2f5f-45d6-a1c7-c60f1bd58bba\",\"subtype\":\"Figure\",\"type\":\"Plot\"},\"ticker\":{\"id\":\"470b7cb0-8eb0-4cfa-a654-3b96223770eb\",\"type\":\"BasicTicker\"}},\"id\":\"ff49a743-cfcf-4d91-a16d-97dfe853ac09\",\"type\":\"Grid\"},{\"attributes\":{},\"id\":\"470b7cb0-8eb0-4cfa-a654-3b96223770eb\",\"type\":\"BasicTicker\"},{\"attributes\":{\"fill_alpha\":{\"value\":0.5},\"fill_color\":{\"value\":\"olive\"},\"line_alpha\":{\"value\":0.5},\"line_color\":{\"value\":\"olive\"},\"size\":{\"units\":\"screen\",\"value\":10},\"x\":{\"field\":\"x\"},\"y\":{\"field\":\"y\"}},\"id\":\"885bff8b-b2e5-450c-93b0-f1ec518a5251\",\"type\":\"Square\"},{\"attributes\":{\"callback\":null,\"column_names\":[\"x\",\"y\"],\"data\":{\"x\":[\"118112\",\"129905\",\"133301\",\"134630\",\"136607\",\"127104\"],\"y\":[\"104372\",\"113345\",\"112578\",\"125234\",\"123516\",\"124041\"]}},\"id\":\"5ffd277c-d066-414f-83b1-96a921710711\",\"type\":\"ColumnDataSource\"},{\"attributes\":{\"bottom_units\":\"screen\",\"fill_alpha\":{\"value\":0.5},\"fill_color\":{\"value\":\"lightgrey\"},\"left_units\":\"screen\",\"level\":\"overlay\",\"line_alpha\":{\"value\":1.0},\"line_color\":{\"value\":\"black\"},\"line_dash\":[4,4],\"line_width\":{\"value\":2},\"plot\":null,\"render_mode\":\"css\",\"right_units\":\"screen\",\"top_units\":\"screen\"},\"id\":\"dc96a9a6-419a-4dda-be39-e25cbc04fab6\",\"type\":\"BoxAnnotation\"},{\"attributes\":{\"data_source\":{\"id\":\"24827cdc-cf4e-4d61-9a92-c4d1f7e2122b\",\"type\":\"ColumnDataSource\"},\"glyph\":{\"id\":\"c55b1e60-52ed-4bda-b81c-9afc646adbe7\",\"type\":\"Square\"},\"hover_glyph\":null,\"nonselection_glyph\":{\"id\":\"de8afe5a-95a1-485f-b8e5-2e59ac7a58ee\",\"type\":\"Square\"},\"selection_glyph\":null},\"id\":\"67348dc5-61c8-4ac6-8f23-56df08503d61\",\"type\":\"GlyphRenderer\"},{\"attributes\":{},\"id\":\"36f9d0f1-feae-470a-8996-d4844bf494d4\",\"type\":\"CategoricalTicker\"},{\"attributes\":{\"bottom_units\":\"screen\",\"fill_alpha\":{\"value\":0.5},\"fill_color\":{\"value\":\"lightgrey\"},\"left_units\":\"screen\",\"level\":\"overlay\",\"line_alpha\":{\"value\":1.0},\"line_color\":{\"value\":\"black\"},\"line_dash\":[4,4],\"line_width\":{\"value\":2},\"plot\":null,\"render_mode\":\"css\",\"right_units\":\"screen\",\"top_units\":\"screen\"},\"id\":\"76b40739-4d95-4f6e-84d4-dafceed2388c\",\"type\":\"BoxAnnotation\"},{\"attributes\":{\"plot\":{\"id\":\"0968038c-2f5f-45d6-a1c7-c60f1bd58bba\",\"subtype\":\"Figure\",\"type\":\"Plot\"}},\"id\":\"6744e71b-2270-468a-a466-182759ab8fbf\",\"type\":\"SaveTool\"},{\"attributes\":{\"axis_label\":\"Year\",\"axis_label_text_font\":\"Helvetica\",\"axis_label_text_font_size\":{\"value\":\"16px\"},\"formatter\":{\"id\":\"814ef982-57ad-4522-9d38-299dfaec9f28\",\"type\":\"CategoricalTickFormatter\"},\"minor_tick_line_color\":{\"value\":null},\"plot\":{\"id\":\"0968038c-2f5f-45d6-a1c7-c60f1bd58bba\",\"subtype\":\"Figure\",\"type\":\"Plot\"},\"ticker\":{\"id\":\"36f9d0f1-feae-470a-8996-d4844bf494d4\",\"type\":\"CategoricalTicker\"}},\"id\":\"2a0aa90d-fa5a-4db8-a8e2-6f3a65914b31\",\"type\":\"CategoricalAxis\"},{\"attributes\":{\"callback\":null,\"column_names\":[\"x\",\"y\"],\"data\":{\"x\":[\"118112\",\"129905\",\"133301\",\"134630\",\"136607\",\"127104\"],\"y\":[\"104372\",\"113345\",\"112578\",\"125234\",\"123516\",\"124041\"]}},\"id\":\"b4f6af87-5b1f-4356-947a-a30fcf272383\",\"type\":\"ColumnDataSource\"},{\"attributes\":{\"data_source\":{\"id\":\"b4f6af87-5b1f-4356-947a-a30fcf272383\",\"type\":\"ColumnDataSource\"},\"glyph\":{\"id\":\"a0fe64f0-fb98-43a5-848a-9637013df2a7\",\"type\":\"Square\"},\"hover_glyph\":null,\"nonselection_glyph\":{\"id\":\"275b758e-4ff9-415b-8e09-16c625597a09\",\"type\":\"Square\"},\"selection_glyph\":null},\"id\":\"71d1b9fc-905e-4d0a-89a6-f7c29aa063f0\",\"type\":\"GlyphRenderer\"}],\"root_ids\":[\"0968038c-2f5f-45d6-a1c7-c60f1bd58bba\"]},\"title\":\"Bokeh Application\",\"version\":\"0.12.4\"}};\n",
       "            var render_items = [{\"docid\":\"9fe4e8a6-3efe-4d7d-ba27-e43cec0984be\",\"elementid\":\"b4069255-d455-424e-af57-68a03dc2fd5b\",\"modelid\":\"0968038c-2f5f-45d6-a1c7-c60f1bd58bba\"}];\n",
       "            \n",
       "            Bokeh.embed.embed_items(docs_json, render_items);\n",
       "          };\n",
       "          if (document.readyState != \"loading\") fn();\n",
       "          else document.addEventListener(\"DOMContentLoaded\", fn);\n",
       "        })();\n",
       "      },\n",
       "      function(Bokeh) {\n",
       "      }\n",
       "    ];\n",
       "  \n",
       "    function run_inline_js() {\n",
       "      \n",
       "      if ((window.Bokeh !== undefined) || (force === true)) {\n",
       "        for (var i = 0; i < inline_js.length; i++) {\n",
       "          inline_js[i](window.Bokeh);\n",
       "        }if (force === true) {\n",
       "          display_loaded();\n",
       "        }} else if (Date.now() < window._bokeh_timeout) {\n",
       "        setTimeout(run_inline_js, 100);\n",
       "      } else if (!window._bokeh_failed_load) {\n",
       "        console.log(\"Bokeh: BokehJS failed to load within specified timeout.\");\n",
       "        window._bokeh_failed_load = true;\n",
       "      } else if (force !== true) {\n",
       "        var cell = $(document.getElementById(\"b4069255-d455-424e-af57-68a03dc2fd5b\")).parents('.cell').data().cell;\n",
       "        cell.output_area.append_execute_result(NB_LOAD_WARNING)\n",
       "      }\n",
       "  \n",
       "    }\n",
       "  \n",
       "    if (window._bokeh_is_loading === 0) {\n",
       "      console.log(\"Bokeh: BokehJS loaded, going straight to plotting\");\n",
       "      run_inline_js();\n",
       "    } else {\n",
       "      load_libs(js_urls, function() {\n",
       "        console.log(\"Bokeh: BokehJS plotting callback run at\", now());\n",
       "        run_inline_js();\n",
       "      });\n",
       "    }\n",
       "  }(this));\n",
       "</script>"
      ]
     },
     "metadata": {},
     "output_type": "display_data"
    }
   ],
   "source": [
    "f.square(x, y, size=10, color=\"olive\", alpha=0.5)\n",
    "show(f)"
   ]
  },
  {
   "cell_type": "code",
   "execution_count": 209,
   "metadata": {
    "collapsed": false
   },
   "outputs": [
    {
     "data": {
      "text/html": [
       "\n",
       "\n",
       "    <div class=\"bk-root\">\n",
       "        <div class=\"bk-plotdiv\" id=\"71942e34-d13a-419b-a423-b1aa19248145\"></div>\n",
       "    </div>\n",
       "<script type=\"text/javascript\">\n",
       "  \n",
       "  (function(global) {\n",
       "    function now() {\n",
       "      return new Date();\n",
       "    }\n",
       "  \n",
       "    var force = false;\n",
       "  \n",
       "    if (typeof (window._bokeh_onload_callbacks) === \"undefined\" || force === true) {\n",
       "      window._bokeh_onload_callbacks = [];\n",
       "      window._bokeh_is_loading = undefined;\n",
       "    }\n",
       "  \n",
       "  \n",
       "    \n",
       "    if (typeof (window._bokeh_timeout) === \"undefined\" || force === true) {\n",
       "      window._bokeh_timeout = Date.now() + 0;\n",
       "      window._bokeh_failed_load = false;\n",
       "    }\n",
       "  \n",
       "    var NB_LOAD_WARNING = {'data': {'text/html':\n",
       "       \"<div style='background-color: #fdd'>\\n\"+\n",
       "       \"<p>\\n\"+\n",
       "       \"BokehJS does not appear to have successfully loaded. If loading BokehJS from CDN, this \\n\"+\n",
       "       \"may be due to a slow or bad network connection. Possible fixes:\\n\"+\n",
       "       \"</p>\\n\"+\n",
       "       \"<ul>\\n\"+\n",
       "       \"<li>re-rerun `output_notebook()` to attempt to load from CDN again, or</li>\\n\"+\n",
       "       \"<li>use INLINE resources instead, as so:</li>\\n\"+\n",
       "       \"</ul>\\n\"+\n",
       "       \"<code>\\n\"+\n",
       "       \"from bokeh.resources import INLINE\\n\"+\n",
       "       \"output_notebook(resources=INLINE)\\n\"+\n",
       "       \"</code>\\n\"+\n",
       "       \"</div>\"}};\n",
       "  \n",
       "    function display_loaded() {\n",
       "      if (window.Bokeh !== undefined) {\n",
       "        document.getElementById(\"71942e34-d13a-419b-a423-b1aa19248145\").textContent = \"BokehJS successfully loaded.\";\n",
       "      } else if (Date.now() < window._bokeh_timeout) {\n",
       "        setTimeout(display_loaded, 100)\n",
       "      }\n",
       "    }\n",
       "  \n",
       "    function run_callbacks() {\n",
       "      window._bokeh_onload_callbacks.forEach(function(callback) { callback() });\n",
       "      delete window._bokeh_onload_callbacks\n",
       "      console.info(\"Bokeh: all callbacks have finished\");\n",
       "    }\n",
       "  \n",
       "    function load_libs(js_urls, callback) {\n",
       "      window._bokeh_onload_callbacks.push(callback);\n",
       "      if (window._bokeh_is_loading > 0) {\n",
       "        console.log(\"Bokeh: BokehJS is being loaded, scheduling callback at\", now());\n",
       "        return null;\n",
       "      }\n",
       "      if (js_urls == null || js_urls.length === 0) {\n",
       "        run_callbacks();\n",
       "        return null;\n",
       "      }\n",
       "      console.log(\"Bokeh: BokehJS not loaded, scheduling load and callback at\", now());\n",
       "      window._bokeh_is_loading = js_urls.length;\n",
       "      for (var i = 0; i < js_urls.length; i++) {\n",
       "        var url = js_urls[i];\n",
       "        var s = document.createElement('script');\n",
       "        s.src = url;\n",
       "        s.async = false;\n",
       "        s.onreadystatechange = s.onload = function() {\n",
       "          window._bokeh_is_loading--;\n",
       "          if (window._bokeh_is_loading === 0) {\n",
       "            console.log(\"Bokeh: all BokehJS libraries loaded\");\n",
       "            run_callbacks()\n",
       "          }\n",
       "        };\n",
       "        s.onerror = function() {\n",
       "          console.warn(\"failed to load library \" + url);\n",
       "        };\n",
       "        console.log(\"Bokeh: injecting script tag for BokehJS library: \", url);\n",
       "        document.getElementsByTagName(\"head\")[0].appendChild(s);\n",
       "      }\n",
       "    };var element = document.getElementById(\"71942e34-d13a-419b-a423-b1aa19248145\");\n",
       "    if (element == null) {\n",
       "      console.log(\"Bokeh: ERROR: autoload.js configured with elementid '71942e34-d13a-419b-a423-b1aa19248145' but no matching script tag was found. \")\n",
       "      return false;\n",
       "    }\n",
       "  \n",
       "    var js_urls = [];\n",
       "  \n",
       "    var inline_js = [\n",
       "      function(Bokeh) {\n",
       "        (function() {\n",
       "          var fn = function() {\n",
       "            var docs_json = {\"1d4a0b9d-26c9-4d74-a274-5e41abaf81e0\":{\"roots\":{\"references\":[{\"attributes\":{\"plot\":{\"id\":\"ba553458-492c-4e62-9194-095ee7ebd052\",\"subtype\":\"Figure\",\"type\":\"Plot\"},\"ticker\":{\"id\":\"715d815c-9a3a-4bc7-a48d-ddc88571c7b1\",\"type\":\"CategoricalTicker\"}},\"id\":\"55f14a7c-a2cf-466f-8b85-f6f9e2388850\",\"type\":\"Grid\"},{\"attributes\":{},\"id\":\"851bd911-0147-470f-803a-44e8090bead5\",\"type\":\"ToolEvents\"},{\"attributes\":{\"data_source\":{\"id\":\"a665d685-65a4-4c8e-91a9-c62727e12825\",\"type\":\"ColumnDataSource\"},\"glyph\":{\"id\":\"53c01bc3-b22a-40ff-85e2-b0b0fb683811\",\"type\":\"Circle\"},\"hover_glyph\":null,\"nonselection_glyph\":{\"id\":\"a8d18769-1d14-4a51-a0bb-ec9390a99210\",\"type\":\"Circle\"},\"selection_glyph\":null},\"id\":\"d747c832-a7ed-4f6e-ada6-fe4e3eb9a3f9\",\"type\":\"GlyphRenderer\"},{\"attributes\":{\"below\":[{\"id\":\"2f07b3cf-88e3-4d36-a4ff-7ba2a5bd13c9\",\"type\":\"CategoricalAxis\"}],\"left\":[{\"id\":\"a18709e2-430a-4a40-ab2b-24bf1c94d7bd\",\"type\":\"LinearAxis\"}],\"renderers\":[{\"id\":\"2f07b3cf-88e3-4d36-a4ff-7ba2a5bd13c9\",\"type\":\"CategoricalAxis\"},{\"id\":\"55f14a7c-a2cf-466f-8b85-f6f9e2388850\",\"type\":\"Grid\"},{\"id\":\"a18709e2-430a-4a40-ab2b-24bf1c94d7bd\",\"type\":\"LinearAxis\"},{\"id\":\"575bdacf-c035-438c-9185-30a2837dc017\",\"type\":\"Grid\"},{\"id\":\"8e884aae-b223-4702-bfea-88d90c389cb6\",\"type\":\"BoxAnnotation\"},{\"id\":\"d747c832-a7ed-4f6e-ada6-fe4e3eb9a3f9\",\"type\":\"GlyphRenderer\"},{\"id\":\"90f2c3a7-38c9-40a5-9803-fb30deef2545\",\"type\":\"GlyphRenderer\"},{\"id\":\"42e2d63f-571b-47ea-bd06-b20ae04c021a\",\"type\":\"GlyphRenderer\"},{\"id\":\"95f77ac3-2964-4c31-8886-31fcc4fee8ea\",\"type\":\"GlyphRenderer\"},{\"id\":\"d927e2f0-3ce4-45f2-86ae-d20b9b5b2994\",\"type\":\"GlyphRenderer\"},{\"id\":\"b76fd9df-7f66-40a6-bdbf-340e851fb9b3\",\"type\":\"GlyphRenderer\"}],\"title\":{\"id\":\"fe7353b7-aecc-400d-8df2-17997c15bba1\",\"type\":\"Title\"},\"tool_events\":{\"id\":\"851bd911-0147-470f-803a-44e8090bead5\",\"type\":\"ToolEvents\"},\"toolbar\":{\"id\":\"74ae90c8-ff48-4d7d-8ba5-10058f9afc8b\",\"type\":\"Toolbar\"},\"x_range\":{\"id\":\"689f07bf-efff-456f-ad87-e809e52be6da\",\"type\":\"FactorRange\"},\"y_range\":{\"id\":\"c8d2bed4-0fa6-43d2-b95e-cadd9865251d\",\"type\":\"DataRange1d\"}},\"id\":\"ba553458-492c-4e62-9194-095ee7ebd052\",\"subtype\":\"Figure\",\"type\":\"Plot\"},{\"attributes\":{},\"id\":\"25fdf39d-d775-4d38-a7f7-ca7474ccf79c\",\"type\":\"BasicTicker\"},{\"attributes\":{\"overlay\":{\"id\":\"8e884aae-b223-4702-bfea-88d90c389cb6\",\"type\":\"BoxAnnotation\"},\"plot\":{\"id\":\"ba553458-492c-4e62-9194-095ee7ebd052\",\"subtype\":\"Figure\",\"type\":\"Plot\"}},\"id\":\"e2d97b47-503f-4a5d-8f85-9a071306f14b\",\"type\":\"BoxZoomTool\"},{\"attributes\":{\"line_alpha\":{\"value\":0.5},\"x\":{\"field\":\"x\"},\"y\":{\"field\":\"y\"}},\"id\":\"6e638760-1953-4992-97fc-6ffc3c289b69\",\"type\":\"Line\"},{\"attributes\":{},\"id\":\"53349856-1895-4489-90d2-25c904e7fc8c\",\"type\":\"CategoricalTickFormatter\"},{\"attributes\":{\"plot\":{\"id\":\"ba553458-492c-4e62-9194-095ee7ebd052\",\"subtype\":\"Figure\",\"type\":\"Plot\"}},\"id\":\"26468790-3e07-4a00-b95c-65084ee67e2e\",\"type\":\"SaveTool\"},{\"attributes\":{\"fill_alpha\":{\"value\":0.5},\"fill_color\":{\"value\":\"olive\"},\"line_alpha\":{\"value\":0.5},\"line_color\":{\"value\":\"olive\"},\"x\":{\"field\":\"x\"},\"y\":{\"field\":\"y\"}},\"id\":\"f6608382-b5a8-47e1-a699-092addc7a5ba\",\"type\":\"Circle\"},{\"attributes\":{\"callback\":null,\"column_names\":[\"x\",\"y\"],\"data\":{\"x\":[\"FY2010\",\"FY2011\",\"FY2012\",\"FY2013\",\"FY2014\",\"FY2015\"],\"y\":[\"104372\",\"113345\",\"112578\",\"125234\",\"123516\",\"124041\"]}},\"id\":\"1349d9e9-6da9-4e52-9294-16d66965c0d0\",\"type\":\"ColumnDataSource\"},{\"attributes\":{\"plot\":{\"id\":\"ba553458-492c-4e62-9194-095ee7ebd052\",\"subtype\":\"Figure\",\"type\":\"Plot\"}},\"id\":\"325478c6-44b4-4519-a0bb-c647b8b279d0\",\"type\":\"HelpTool\"},{\"attributes\":{\"bottom_units\":\"screen\",\"fill_alpha\":{\"value\":0.5},\"fill_color\":{\"value\":\"lightgrey\"},\"left_units\":\"screen\",\"level\":\"overlay\",\"line_alpha\":{\"value\":1.0},\"line_color\":{\"value\":\"black\"},\"line_dash\":[4,4],\"line_width\":{\"value\":2},\"plot\":null,\"render_mode\":\"css\",\"right_units\":\"screen\",\"top_units\":\"screen\"},\"id\":\"8e884aae-b223-4702-bfea-88d90c389cb6\",\"type\":\"BoxAnnotation\"},{\"attributes\":{\"active_drag\":\"auto\",\"active_scroll\":\"auto\",\"active_tap\":\"auto\",\"tools\":[{\"id\":\"76f9b468-8e81-48d5-ba21-8ecead0723e9\",\"type\":\"PanTool\"},{\"id\":\"7d24d013-15f1-44e6-9458-55717b9282f9\",\"type\":\"WheelZoomTool\"},{\"id\":\"e2d97b47-503f-4a5d-8f85-9a071306f14b\",\"type\":\"BoxZoomTool\"},{\"id\":\"26468790-3e07-4a00-b95c-65084ee67e2e\",\"type\":\"SaveTool\"},{\"id\":\"00396094-a8eb-4c1a-b3b9-78f908366a57\",\"type\":\"ResetTool\"},{\"id\":\"325478c6-44b4-4519-a0bb-c647b8b279d0\",\"type\":\"HelpTool\"}]},\"id\":\"74ae90c8-ff48-4d7d-8ba5-10058f9afc8b\",\"type\":\"Toolbar\"},{\"attributes\":{\"fill_alpha\":{\"value\":0.1},\"fill_color\":{\"value\":\"#1f77b4\"},\"line_alpha\":{\"value\":0.1},\"line_color\":{\"value\":\"#1f77b4\"},\"x\":{\"field\":\"x\"},\"y\":{\"field\":\"y\"}},\"id\":\"a8d18769-1d14-4a51-a0bb-ec9390a99210\",\"type\":\"Circle\"},{\"attributes\":{\"plot\":{\"id\":\"ba553458-492c-4e62-9194-095ee7ebd052\",\"subtype\":\"Figure\",\"type\":\"Plot\"}},\"id\":\"00396094-a8eb-4c1a-b3b9-78f908366a57\",\"type\":\"ResetTool\"},{\"attributes\":{\"fill_alpha\":{\"value\":0.5},\"fill_color\":{\"value\":\"olive\"},\"line_alpha\":{\"value\":0.5},\"line_color\":{\"value\":\"olive\"},\"x\":{\"field\":\"x\"},\"y\":{\"field\":\"y\"}},\"id\":\"8fc7ac1b-995d-484d-9edc-aa8d679ad29b\",\"type\":\"Circle\"},{\"attributes\":{\"fill_alpha\":{\"value\":0.5},\"fill_color\":{\"value\":\"olive\"},\"line_alpha\":{\"value\":0.5},\"line_color\":{\"value\":\"olive\"},\"x\":{\"field\":\"x\"},\"y\":{\"field\":\"y\"}},\"id\":\"53c01bc3-b22a-40ff-85e2-b0b0fb683811\",\"type\":\"Circle\"},{\"attributes\":{\"callback\":null,\"column_names\":[\"x\",\"y\"],\"data\":{\"x\":[\"FY2010\",\"FY2011\",\"FY2012\",\"FY2013\",\"FY2014\",\"FY2015\"],\"y\":[\"86.013\",\"142.647\",\"383.189\",\"1557.234\",\"2316.685\",\"3122.522\"]}},\"id\":\"31246759-4812-4640-af3d-ba07857838d9\",\"type\":\"ColumnDataSource\"},{\"attributes\":{\"formatter\":{\"id\":\"53349856-1895-4489-90d2-25c904e7fc8c\",\"type\":\"CategoricalTickFormatter\"},\"plot\":{\"id\":\"ba553458-492c-4e62-9194-095ee7ebd052\",\"subtype\":\"Figure\",\"type\":\"Plot\"},\"ticker\":{\"id\":\"715d815c-9a3a-4bc7-a48d-ddc88571c7b1\",\"type\":\"CategoricalTicker\"}},\"id\":\"2f07b3cf-88e3-4d36-a4ff-7ba2a5bd13c9\",\"type\":\"CategoricalAxis\"},{\"attributes\":{\"plot\":null,\"text\":\"\"},\"id\":\"fe7353b7-aecc-400d-8df2-17997c15bba1\",\"type\":\"Title\"},{\"attributes\":{\"callback\":null,\"column_names\":[\"x\",\"y\"],\"data\":{\"x\":[\"FY2010\",\"FY2011\",\"FY2012\",\"FY2013\",\"FY2014\",\"FY2015\"],\"y\":[\"86.013\",\"142.647\",\"383.189\",\"1557.234\",\"2316.685\",\"3122.522\"]}},\"id\":\"bca1d71a-b914-4906-8d77-5d57bc4d39a8\",\"type\":\"ColumnDataSource\"},{\"attributes\":{\"line_alpha\":{\"value\":0.1},\"line_color\":{\"value\":\"#1f77b4\"},\"x\":{\"field\":\"x\"},\"y\":{\"field\":\"y\"}},\"id\":\"eaad7b90-5096-4734-aa5a-853dce179786\",\"type\":\"Line\"},{\"attributes\":{\"data_source\":{\"id\":\"6f9cc981-4cbd-4622-a829-bc350665c51b\",\"type\":\"ColumnDataSource\"},\"glyph\":{\"id\":\"6e638760-1953-4992-97fc-6ffc3c289b69\",\"type\":\"Line\"},\"hover_glyph\":null,\"nonselection_glyph\":{\"id\":\"eaad7b90-5096-4734-aa5a-853dce179786\",\"type\":\"Line\"},\"selection_glyph\":null},\"id\":\"90f2c3a7-38c9-40a5-9803-fb30deef2545\",\"type\":\"GlyphRenderer\"},{\"attributes\":{\"callback\":null,\"column_names\":[\"x\",\"y\"],\"data\":{\"x\":[\"FY2010\",\"FY2011\",\"FY2012\",\"FY2013\",\"FY2014\",\"FY2015\"],\"y\":[\"104372\",\"113345\",\"112578\",\"125234\",\"123516\",\"124041\"]}},\"id\":\"2da43c6d-c761-47ed-9702-bc7243f876d4\",\"type\":\"ColumnDataSource\"},{\"attributes\":{},\"id\":\"a89c2cdb-7207-4ed9-816e-51d134844926\",\"type\":\"BasicTickFormatter\"},{\"attributes\":{\"dimension\":1,\"plot\":{\"id\":\"ba553458-492c-4e62-9194-095ee7ebd052\",\"subtype\":\"Figure\",\"type\":\"Plot\"},\"ticker\":{\"id\":\"25fdf39d-d775-4d38-a7f7-ca7474ccf79c\",\"type\":\"BasicTicker\"}},\"id\":\"575bdacf-c035-438c-9185-30a2837dc017\",\"type\":\"Grid\"},{\"attributes\":{\"data_source\":{\"id\":\"2da43c6d-c761-47ed-9702-bc7243f876d4\",\"type\":\"ColumnDataSource\"},\"glyph\":{\"id\":\"96364776-5131-4fe3-ac90-342dec908c68\",\"type\":\"Line\"},\"hover_glyph\":null,\"nonselection_glyph\":{\"id\":\"6d0f53cd-0dc7-4a28-aa8a-3070ada6ab71\",\"type\":\"Line\"},\"selection_glyph\":null},\"id\":\"95f77ac3-2964-4c31-8886-31fcc4fee8ea\",\"type\":\"GlyphRenderer\"},{\"attributes\":{\"line_alpha\":{\"value\":0.5},\"x\":{\"field\":\"x\"},\"y\":{\"field\":\"y\"}},\"id\":\"96364776-5131-4fe3-ac90-342dec908c68\",\"type\":\"Line\"},{\"attributes\":{\"line_alpha\":{\"value\":0.1},\"line_color\":{\"value\":\"#1f77b4\"},\"x\":{\"field\":\"x\"},\"y\":{\"field\":\"y\"}},\"id\":\"6d0f53cd-0dc7-4a28-aa8a-3070ada6ab71\",\"type\":\"Line\"},{\"attributes\":{\"data_source\":{\"id\":\"31246759-4812-4640-af3d-ba07857838d9\",\"type\":\"ColumnDataSource\"},\"glyph\":{\"id\":\"8fc7ac1b-995d-484d-9edc-aa8d679ad29b\",\"type\":\"Circle\"},\"hover_glyph\":null,\"nonselection_glyph\":{\"id\":\"98ad7880-a25e-4b01-916b-b7f2cce90326\",\"type\":\"Circle\"},\"selection_glyph\":null},\"id\":\"d927e2f0-3ce4-45f2-86ae-d20b9b5b2994\",\"type\":\"GlyphRenderer\"},{\"attributes\":{\"plot\":{\"id\":\"ba553458-492c-4e62-9194-095ee7ebd052\",\"subtype\":\"Figure\",\"type\":\"Plot\"}},\"id\":\"7d24d013-15f1-44e6-9458-55717b9282f9\",\"type\":\"WheelZoomTool\"},{\"attributes\":{\"plot\":{\"id\":\"ba553458-492c-4e62-9194-095ee7ebd052\",\"subtype\":\"Figure\",\"type\":\"Plot\"}},\"id\":\"76f9b468-8e81-48d5-ba21-8ecead0723e9\",\"type\":\"PanTool\"},{\"attributes\":{\"fill_alpha\":{\"value\":0.1},\"fill_color\":{\"value\":\"#1f77b4\"},\"line_alpha\":{\"value\":0.1},\"line_color\":{\"value\":\"#1f77b4\"},\"x\":{\"field\":\"x\"},\"y\":{\"field\":\"y\"}},\"id\":\"335856f1-28ea-4e37-9781-8d9114290a01\",\"type\":\"Circle\"},{\"attributes\":{\"data_source\":{\"id\":\"1349d9e9-6da9-4e52-9294-16d66965c0d0\",\"type\":\"ColumnDataSource\"},\"glyph\":{\"id\":\"f6608382-b5a8-47e1-a699-092addc7a5ba\",\"type\":\"Circle\"},\"hover_glyph\":null,\"nonselection_glyph\":{\"id\":\"335856f1-28ea-4e37-9781-8d9114290a01\",\"type\":\"Circle\"},\"selection_glyph\":null},\"id\":\"42e2d63f-571b-47ea-bd06-b20ae04c021a\",\"type\":\"GlyphRenderer\"},{\"attributes\":{\"formatter\":{\"id\":\"a89c2cdb-7207-4ed9-816e-51d134844926\",\"type\":\"BasicTickFormatter\"},\"plot\":{\"id\":\"ba553458-492c-4e62-9194-095ee7ebd052\",\"subtype\":\"Figure\",\"type\":\"Plot\"},\"ticker\":{\"id\":\"25fdf39d-d775-4d38-a7f7-ca7474ccf79c\",\"type\":\"BasicTicker\"}},\"id\":\"a18709e2-430a-4a40-ab2b-24bf1c94d7bd\",\"type\":\"LinearAxis\"},{\"attributes\":{\"fill_alpha\":{\"value\":0.1},\"fill_color\":{\"value\":\"#1f77b4\"},\"line_alpha\":{\"value\":0.1},\"line_color\":{\"value\":\"#1f77b4\"},\"x\":{\"field\":\"x\"},\"y\":{\"field\":\"y\"}},\"id\":\"98ad7880-a25e-4b01-916b-b7f2cce90326\",\"type\":\"Circle\"},{\"attributes\":{\"data_source\":{\"id\":\"bca1d71a-b914-4906-8d77-5d57bc4d39a8\",\"type\":\"ColumnDataSource\"},\"glyph\":{\"id\":\"fb5deb16-3989-417c-ab49-ac39f14aaa22\",\"type\":\"Line\"},\"hover_glyph\":null,\"nonselection_glyph\":{\"id\":\"e52ac483-2669-4318-90eb-c41475285888\",\"type\":\"Line\"},\"selection_glyph\":null},\"id\":\"b76fd9df-7f66-40a6-bdbf-340e851fb9b3\",\"type\":\"GlyphRenderer\"},{\"attributes\":{\"callback\":null,\"column_names\":[\"x\",\"y\"],\"data\":{\"x\":[\"FY2010\",\"FY2011\",\"FY2012\",\"FY2013\",\"FY2014\",\"FY2015\"],\"y\":[\"118112\",\"129905\",\"133301\",\"134630\",\"136607\",\"127104\"]}},\"id\":\"6f9cc981-4cbd-4622-a829-bc350665c51b\",\"type\":\"ColumnDataSource\"},{\"attributes\":{\"callback\":null},\"id\":\"c8d2bed4-0fa6-43d2-b95e-cadd9865251d\",\"type\":\"DataRange1d\"},{\"attributes\":{\"line_alpha\":{\"value\":0.1},\"line_color\":{\"value\":\"#1f77b4\"},\"x\":{\"field\":\"x\"},\"y\":{\"field\":\"y\"}},\"id\":\"e52ac483-2669-4318-90eb-c41475285888\",\"type\":\"Line\"},{\"attributes\":{\"line_alpha\":{\"value\":0.5},\"x\":{\"field\":\"x\"},\"y\":{\"field\":\"y\"}},\"id\":\"fb5deb16-3989-417c-ab49-ac39f14aaa22\",\"type\":\"Line\"},{\"attributes\":{\"callback\":null,\"column_names\":[\"x\",\"y\"],\"data\":{\"x\":[\"FY2010\",\"FY2011\",\"FY2012\",\"FY2013\",\"FY2014\",\"FY2015\"],\"y\":[\"118112\",\"129905\",\"133301\",\"134630\",\"136607\",\"127104\"]}},\"id\":\"a665d685-65a4-4c8e-91a9-c62727e12825\",\"type\":\"ColumnDataSource\"},{\"attributes\":{},\"id\":\"715d815c-9a3a-4bc7-a48d-ddc88571c7b1\",\"type\":\"CategoricalTicker\"},{\"attributes\":{\"callback\":null,\"factors\":[\"FY2010\",\"FY2011\",\"FY2012\",\"FY2013\",\"FY2014\",\"FY2015\"]},\"id\":\"689f07bf-efff-456f-ad87-e809e52be6da\",\"type\":\"FactorRange\"}],\"root_ids\":[\"ba553458-492c-4e62-9194-095ee7ebd052\"]},\"title\":\"Bokeh Application\",\"version\":\"0.12.4\"}};\n",
       "            var render_items = [{\"docid\":\"1d4a0b9d-26c9-4d74-a274-5e41abaf81e0\",\"elementid\":\"71942e34-d13a-419b-a423-b1aa19248145\",\"modelid\":\"ba553458-492c-4e62-9194-095ee7ebd052\"}];\n",
       "            \n",
       "            Bokeh.embed.embed_items(docs_json, render_items);\n",
       "          };\n",
       "          if (document.readyState != \"loading\") fn();\n",
       "          else document.addEventListener(\"DOMContentLoaded\", fn);\n",
       "        })();\n",
       "      },\n",
       "      function(Bokeh) {\n",
       "      }\n",
       "    ];\n",
       "  \n",
       "    function run_inline_js() {\n",
       "      \n",
       "      if ((window.Bokeh !== undefined) || (force === true)) {\n",
       "        for (var i = 0; i < inline_js.length; i++) {\n",
       "          inline_js[i](window.Bokeh);\n",
       "        }if (force === true) {\n",
       "          display_loaded();\n",
       "        }} else if (Date.now() < window._bokeh_timeout) {\n",
       "        setTimeout(run_inline_js, 100);\n",
       "      } else if (!window._bokeh_failed_load) {\n",
       "        console.log(\"Bokeh: BokehJS failed to load within specified timeout.\");\n",
       "        window._bokeh_failed_load = true;\n",
       "      } else if (force !== true) {\n",
       "        var cell = $(document.getElementById(\"71942e34-d13a-419b-a423-b1aa19248145\")).parents('.cell').data().cell;\n",
       "        cell.output_area.append_execute_result(NB_LOAD_WARNING)\n",
       "      }\n",
       "  \n",
       "    }\n",
       "  \n",
       "    if (window._bokeh_is_loading === 0) {\n",
       "      console.log(\"Bokeh: BokehJS loaded, going straight to plotting\");\n",
       "      run_inline_js();\n",
       "    } else {\n",
       "      load_libs(js_urls, function() {\n",
       "        console.log(\"Bokeh: BokehJS plotting callback run at\", now());\n",
       "        run_inline_js();\n",
       "      });\n",
       "    }\n",
       "  }(this));\n",
       "</script>"
      ]
     },
     "metadata": {},
     "output_type": "display_data"
    }
   ],
   "source": [
    "#style the tools\n",
    "TOOLS = \"pan,wheel_zoom,box_zoom,reset,save,box_select\"\n",
    "f1 = figure(x_range=year_label)\n",
    "f1.circle(x=year_label, y=gm_cogs, color=\"olive\", alpha=0.5)\n",
    "f1.line(x=year_label, y=gm_cogs, color=\"black\", alpha=0.5)\n",
    "f1.circle(x=year_label, y=f_cogs, color=\"olive\", alpha=0.5)\n",
    "f1.line(x=year_label, y=f_cogs, color=\"black\", alpha=0.5)\n",
    "f1.circle(x=year_label, y=tesla_cogs, color=\"olive\", alpha=0.5)\n",
    "f1.line(x=year_label, y=tesla_cogs, color=\"black\", alpha=0.5)\n",
    "show(f1)\n",
    "f1.toolbar.logo=None"
   ]
  },
  {
   "cell_type": "code",
   "execution_count": 193,
   "metadata": {
    "collapsed": false
   },
   "outputs": [
    {
     "data": {
      "text/plain": [
       "['104372', '113345', '112578', '125234', '123516', '124041']"
      ]
     },
     "execution_count": 193,
     "metadata": {},
     "output_type": "execute_result"
    }
   ],
   "source": [
    "y"
   ]
  },
  {
   "cell_type": "code",
   "execution_count": null,
   "metadata": {
    "collapsed": true
   },
   "outputs": [],
   "source": []
  }
 ],
 "metadata": {
  "kernelspec": {
   "display_name": "Python 3",
   "language": "python",
   "name": "python3"
  },
  "language_info": {
   "codemirror_mode": {
    "name": "ipython",
    "version": 3
   },
   "file_extension": ".py",
   "mimetype": "text/x-python",
   "name": "python",
   "nbconvert_exporter": "python",
   "pygments_lexer": "ipython3",
   "version": "3.6.0"
  },
  "widgets": {
   "state": {
    "96f4e52d56ea40a78691fb3c192bd8ab": {
     "views": [
      {
       "cell_index": 5
      }
     ]
    }
   },
   "version": "1.2.0"
  }
 },
 "nbformat": 4,
 "nbformat_minor": 2
}
