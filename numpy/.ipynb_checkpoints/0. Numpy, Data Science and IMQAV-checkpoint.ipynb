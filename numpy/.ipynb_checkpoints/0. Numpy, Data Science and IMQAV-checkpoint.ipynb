{
 "cells": [
  {
   "cell_type": "markdown",
   "metadata": {},
   "source": [
    "# IMQAV"
   ]
  },
  {
   "cell_type": "markdown",
   "metadata": {},
   "source": [
    "## Ingest, model, query, analyze and visualize"
   ]
  },
  {
   "cell_type": "markdown",
   "metadata": {},
   "source": [
    "## 1. Ingest\n",
    "Ingestion is a set of software engineering techniques to adapt high volumes of data that arrive rapidly (often via streaming)\n",
    "1. Kafka\n",
    "2. RabbitMQ\n",
    "3. Fluentd\n",
    "4. Sqoop\n",
    "5. Kinesis (AWS)"
   ]
  },
  {
   "cell_type": "markdown",
   "metadata": {},
   "source": [
    "## 2. Model\n",
    "Modeling is a set of data architecture techniques to create data storage that is appropriate for a particular domain\n",
    "\n",
    "1. Relational\n",
    "    1.1 MYSQL\n",
    "    1.2 Postgres\n",
    "    1.3 RDS (AWS)\n",
    "2. Key Value\n",
    "    2.1 Redis\n",
    "    2.2 Riak\n",
    "    2.3 DynamoDB (AWS)\n",
    "3. Columnar\n",
    "    3.1 Casandra\n",
    "    3.2 HBase\n",
    "    3.3 RedShift (AWS)\n",
    "4. Document\n",
    "    4.1 MongoDB\n",
    "    4.2 ElasticSearch\n",
    "    4.3 CouchBase\n",
    "5. Graph\n",
    "    5.1 Neo4J\n",
    "    5.2 OrientDB\n",
    "    5.3 ArangoDb"
   ]
  },
  {
   "cell_type": "markdown",
   "metadata": {},
   "source": [
    "## 3. Query\n",
    "Query refers to extracting data (from storage) and modifying that data to accomodate anomolies such as missing data\n",
    "\n",
    "1. Batch\n",
    "    1.1 MapReduce\n",
    "    1.2 Spark\n",
    "    1.3 Elastic MapReduce (AWS)\n",
    "2. Batch SQL\n",
    "    2.1 Hive\n",
    "    2.2 Presto\n",
    "    2.3 Drill\n",
    "3. Streaming\n",
    "    3.1 Storm\n",
    "    3.2 Spark Streaming\n",
    "    3.3 Samza"
   ]
  },
  {
   "cell_type": "raw",
   "metadata": {},
   "source": [
    "## 4. Analyze\n",
    "Analyze is a broad category that includes techniques from computer science, mathematical modeling, artificial intelligence, statistics and other disciplines\n",
    "\n",
    "Numpy is included within \"Analyze\"\n",
    "1. Statistics\n",
    "    1.1 SPSS\n",
    "    1.2 SAS\n",
    "    1.3 R\n",
    "    1.4 Statsmodels\n",
    "    1.5 SciPy\n",
    "    1.6 Pandas\n",
    "2. Optimization and Mathematical Modeling (SciPy and other libraries)\n",
    "    2.1 Linear, Integer, Dynamic, Programming\n",
    "    2.2 Gradient and Lagrange methods\n",
    "3. Machine Learning\n",
    "    3.1 Batch\n",
    "        3.1.1 H2O\n",
    "        3.1.2 Mahout\n",
    "        3.1.3 SparkML\n",
    "    3.2 Interactive\n",
    "        3.2.1 scikit-learn"
   ]
  },
  {
   "cell_type": "raw",
   "metadata": {},
   "source": [
    "## 5. Visualization\n",
    "Visualization refers to transforming data into visually attractive and informative formats\n",
    "\n",
    "1. matplotlib\n",
    "2. seaborn\n",
    "3. bokeh\n",
    "4. pandas\n",
    "5. D3\n",
    "6. Tableau\n",
    "7. Leaflet\n",
    "8. Highcharts\n",
    "9. Kibana"
   ]
  },
  {
   "cell_type": "code",
   "execution_count": null,
   "metadata": {
    "collapsed": true
   },
   "outputs": [],
   "source": []
  }
 ],
 "metadata": {
  "anaconda-cloud": {},
  "kernelspec": {
   "display_name": "Python [conda root]",
   "language": "python",
   "name": "conda-root-py"
  },
  "language_info": {
   "codemirror_mode": {
    "name": "ipython",
    "version": 3
   },
   "file_extension": ".py",
   "mimetype": "text/x-python",
   "name": "python",
   "nbconvert_exporter": "python",
   "pygments_lexer": "ipython3",
   "version": "3.5.2"
  }
 },
 "nbformat": 4,
 "nbformat_minor": 1
}
