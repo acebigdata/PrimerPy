{
 "cells": [
  {
   "cell_type": "code",
   "execution_count": 1,
   "metadata": {
    "collapsed": false
   },
   "outputs": [
    {
     "name": "stdout",
     "output_type": "stream",
     "text": [
      "Enter a Number: \n",
      "38\n",
      "Your number is smaller, guess again: \n",
      "50\n",
      "Your number is larger, guess again: \n",
      "42\n",
      "Your number is larger, guess again: \n",
      "39\n",
      "Your number is smaller, guess again: \n",
      "40\n",
      "Your guess is right!\n"
     ]
    }
   ],
   "source": [
    "import pandas as pd\n",
    "import random\n",
    "\n",
    "guess_number = int(round(random.random() * 100, ndigits=0))\n",
    "\n",
    "print(\"Enter a Number: \")\n",
    "input_number = int(input())\n",
    "\n",
    "while input_number != guess_number:\n",
    "    if input_number > guess_number:\n",
    "        print(\"Your number is larger, guess again: \")\n",
    "        input_number = int(input())\n",
    "    else:\n",
    "        print(\"Your number is smaller, guess again: \")\n",
    "        input_number = int(input())\n",
    "\n",
    "print(\"Your guess is right!\")"
   ]
  },
  {
   "cell_type": "code",
   "execution_count": null,
   "metadata": {
    "collapsed": true
   },
   "outputs": [],
   "source": []
  }
 ],
 "metadata": {
  "kernelspec": {
   "display_name": "Python [conda root]",
   "language": "python",
   "name": "conda-root-py"
  },
  "language_info": {
   "codemirror_mode": {
    "name": "ipython",
    "version": 3
   },
   "file_extension": ".py",
   "mimetype": "text/x-python",
   "name": "python",
   "nbconvert_exporter": "python",
   "pygments_lexer": "ipython3",
   "version": "3.5.2"
  }
 },
 "nbformat": 4,
 "nbformat_minor": 2
}
