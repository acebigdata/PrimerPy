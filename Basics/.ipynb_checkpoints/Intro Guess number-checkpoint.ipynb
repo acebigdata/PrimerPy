{
 "cells": [
  {
   "cell_type": "markdown",
   "metadata": {},
   "source": [
    "## Following Pluralsight's Python Path\n",
    "### Create a guess number game\n",
    "Course Source: https://app.pluralsight.com/paths/skills/python"
   ]
  },
  {
   "cell_type": "code",
   "execution_count": 3,
   "metadata": {
    "collapsed": false
   },
   "outputs": [
    {
     "name": "stdout",
     "output_type": "stream",
     "text": [
      "Set your min number \n",
      "1\n",
      "Set your max number: \n",
      "10\n",
      "The magic number is between 1 and 10\n",
      "Enter a Number: \n",
      "6\n",
      "Your number is smaller, guess again: \n",
      "9\n",
      "Your number is larger, guess again: \n",
      "8\n",
      "Your guess is right!\n"
     ]
    }
   ],
   "source": [
    "import pandas as pd\n",
    "import random\n",
    "\n",
    "# set min number\n",
    "print(\"Set your min number \")\n",
    "min_num = int(input())\n",
    "\n",
    "# set max number\n",
    "print(\"Set your max number: \")\n",
    "max_num = int(input())\n",
    "\n",
    "guess_number = random.randint(min_num, max_num)\n",
    "\n",
    "message = \"The magic number is between {a} and {b}\"\n",
    "print(message.format(a = min_num, b = max_num))\n",
    "\n",
    "print(\"Enter a Number: \")\n",
    "input_number = int(input())\n",
    "\n",
    "while input_number != guess_number:\n",
    "    if input_number > guess_number:\n",
    "        print(\"Your number is larger, guess again: \")\n",
    "        input_number = int(input())\n",
    "    else:\n",
    "        print(\"Your number is smaller, guess again: \")\n",
    "        input_number = int(input())\n",
    "\n",
    "print(\"Your guess is right!\")"
   ]
  },
  {
   "cell_type": "code",
   "execution_count": null,
   "metadata": {
    "collapsed": true
   },
   "outputs": [],
   "source": []
  }
 ],
 "metadata": {
  "kernelspec": {
   "display_name": "Python [conda root]",
   "language": "python",
   "name": "conda-root-py"
  },
  "language_info": {
   "codemirror_mode": {
    "name": "ipython",
    "version": 3
   },
   "file_extension": ".py",
   "mimetype": "text/x-python",
   "name": "python",
   "nbconvert_exporter": "python",
   "pygments_lexer": "ipython3",
   "version": "3.5.2"
  }
 },
 "nbformat": 4,
 "nbformat_minor": 2
}
